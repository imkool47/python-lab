{
  "cells": [
    {
      "cell_type": "markdown",
      "metadata": {},
      "source": [
        "7 - Python Set Path in Windows and Help"
      ]
    },
    {
      "cell_type": "code",
      "execution_count": 3,
      "metadata": {},
      "outputs": [
        {
          "name": "stdout",
          "output_type": "stream",
          "text": [
            "Hello, World!\n"
          ]
        }
      ],
      "source": [
        "print(\"Hello, World!\")"
      ]
    },
    {
      "cell_type": "code",
      "execution_count": 7,
      "metadata": {},
      "outputs": [
        {
          "name": "stdout",
          "output_type": "stream",
          "text": [
            "\n",
            "Welcome to Python 3.12's help utility!\n",
            "\n",
            "If this is your first time using Python, you should definitely check out\n",
            "the tutorial on the internet at https://docs.python.org/3.12/tutorial/.\n",
            "\n",
            "Enter the name of any module, keyword, or topic to get help on writing\n",
            "Python programs and using Python modules.  To quit this help utility and\n",
            "return to the interpreter, just type \"quit\".\n",
            "\n",
            "To get a list of available modules, keywords, symbols, or topics, type\n",
            "\"modules\", \"keywords\", \"symbols\", or \"topics\".  Each module also comes\n",
            "with a one-line summary of what it does; to list the modules whose name\n",
            "or summary contain a given string such as \"spam\", type \"modules spam\".\n",
            "\n",
            "\n",
            "Here is a list of available topics.  Enter any topic name to get more help.\n",
            "\n",
            "ASSERTION           DELETION            LOOPING             SHIFTING\n",
            "ASSIGNMENT          DICTIONARIES        MAPPINGMETHODS      SLICINGS\n",
            "ATTRIBUTEMETHODS    DICTIONARYLITERALS  MAPPINGS            SPECIALATTRIBUTES\n",
            "ATTRIBUTES          DYNAMICFEATURES     METHODS             SPECIALIDENTIFIERS\n",
            "AUGMENTEDASSIGNMENT ELLIPSIS            MODULES             SPECIALMETHODS\n",
            "BASICMETHODS        EXCEPTIONS          NAMESPACES          STRINGMETHODS\n",
            "BINARY              EXECUTION           NONE                STRINGS\n",
            "BITWISE             EXPRESSIONS         NUMBERMETHODS       SUBSCRIPTS\n",
            "BOOLEAN             FLOAT               NUMBERS             TRACEBACKS\n",
            "CALLABLEMETHODS     FORMATTING          OBJECTS             TRUTHVALUE\n",
            "CALLS               FRAMEOBJECTS        OPERATORS           TUPLELITERALS\n",
            "CLASSES             FRAMES              PACKAGES            TUPLES\n",
            "CODEOBJECTS         FUNCTIONS           POWER               TYPEOBJECTS\n",
            "COMPARISON          IDENTIFIERS         PRECEDENCE          TYPES\n",
            "COMPLEX             IMPORTING           PRIVATENAMES        UNARY\n",
            "CONDITIONAL         INTEGER             RETURNING           UNICODE\n",
            "CONTEXTMANAGERS     LISTLITERALS        SCOPING             \n",
            "CONVERSIONS         LISTS               SEQUENCEMETHODS     \n",
            "DEBUGGING           LITERALS            SEQUENCES           \n",
            "\n",
            "Mutable Sequence Types\n",
            "**********************\n",
            "\n",
            "The operations in the following table are defined on mutable sequence\n",
            "types. The \"collections.abc.MutableSequence\" ABC is provided to make\n",
            "it easier to correctly implement these operations on custom sequence\n",
            "types.\n",
            "\n",
            "In the table *s* is an instance of a mutable sequence type, *t* is any\n",
            "iterable object and *x* is an arbitrary object that meets any type and\n",
            "value restrictions imposed by *s* (for example, \"bytearray\" only\n",
            "accepts integers that meet the value restriction \"0 <= x <= 255\").\n",
            "\n",
            "+--------------------------------+----------------------------------+-----------------------+\n",
            "| Operation                      | Result                           | Notes                 |\n",
            "|================================|==================================|=======================|\n",
            "| \"s[i] = x\"                     | item *i* of *s* is replaced by   |                       |\n",
            "|                                | *x*                              |                       |\n",
            "+--------------------------------+----------------------------------+-----------------------+\n",
            "| \"s[i:j] = t\"                   | slice of *s* from *i* to *j* is  |                       |\n",
            "|                                | replaced by the contents of the  |                       |\n",
            "|                                | iterable *t*                     |                       |\n",
            "+--------------------------------+----------------------------------+-----------------------+\n",
            "| \"del s[i:j]\"                   | same as \"s[i:j] = []\"            |                       |\n",
            "+--------------------------------+----------------------------------+-----------------------+\n",
            "| \"s[i:j:k] = t\"                 | the elements of \"s[i:j:k]\" are   | (1)                   |\n",
            "|                                | replaced by those of *t*         |                       |\n",
            "+--------------------------------+----------------------------------+-----------------------+\n",
            "| \"del s[i:j:k]\"                 | removes the elements of          |                       |\n",
            "|                                | \"s[i:j:k]\" from the list         |                       |\n",
            "+--------------------------------+----------------------------------+-----------------------+\n",
            "| \"s.append(x)\"                  | appends *x* to the end of the    |                       |\n",
            "|                                | sequence (same as                |                       |\n",
            "|                                | \"s[len(s):len(s)] = [x]\")        |                       |\n",
            "+--------------------------------+----------------------------------+-----------------------+\n",
            "| \"s.clear()\"                    | removes all items from *s* (same | (5)                   |\n",
            "|                                | as \"del s[:]\")                   |                       |\n",
            "+--------------------------------+----------------------------------+-----------------------+\n",
            "| \"s.copy()\"                     | creates a shallow copy of *s*    | (5)                   |\n",
            "|                                | (same as \"s[:]\")                 |                       |\n",
            "+--------------------------------+----------------------------------+-----------------------+\n",
            "| \"s.extend(t)\" or \"s += t\"      | extends *s* with the contents of |                       |\n",
            "|                                | *t* (for the most part the same  |                       |\n",
            "|                                | as \"s[len(s):len(s)] = t\")       |                       |\n",
            "+--------------------------------+----------------------------------+-----------------------+\n",
            "| \"s *= n\"                       | updates *s* with its contents    | (6)                   |\n",
            "|                                | repeated *n* times               |                       |\n",
            "+--------------------------------+----------------------------------+-----------------------+\n",
            "| \"s.insert(i, x)\"               | inserts *x* into *s* at the      |                       |\n",
            "|                                | index given by *i* (same as      |                       |\n",
            "|                                | \"s[i:i] = [x]\")                  |                       |\n",
            "+--------------------------------+----------------------------------+-----------------------+\n",
            "| \"s.pop()\" or \"s.pop(i)\"        | retrieves the item at *i* and    | (2)                   |\n",
            "|                                | also removes it from *s*         |                       |\n",
            "+--------------------------------+----------------------------------+-----------------------+\n",
            "| \"s.remove(x)\"                  | remove the first item from *s*   | (3)                   |\n",
            "|                                | where \"s[i]\" is equal to *x*     |                       |\n",
            "+--------------------------------+----------------------------------+-----------------------+\n",
            "| \"s.reverse()\"                  | reverses the items of *s* in     | (4)                   |\n",
            "|                                | place                            |                       |\n",
            "+--------------------------------+----------------------------------+-----------------------+\n",
            "\n",
            "Notes:\n",
            "\n",
            "1. *t* must have the same length as the slice it is replacing.\n",
            "\n",
            "2. The optional argument *i* defaults to \"-1\", so that by default the\n",
            "   last item is removed and returned.\n",
            "\n",
            "3. \"remove()\" raises \"ValueError\" when *x* is not found in *s*.\n",
            "\n",
            "4. The \"reverse()\" method modifies the sequence in place for economy\n",
            "   of space when reversing a large sequence.  To remind users that it\n",
            "   operates by side effect, it does not return the reversed sequence.\n",
            "\n",
            "5. \"clear()\" and \"copy()\" are included for consistency with the\n",
            "   interfaces of mutable containers that don’t support slicing\n",
            "   operations (such as \"dict\" and \"set\"). \"copy()\" is not part of the\n",
            "   \"collections.abc.MutableSequence\" ABC, but most concrete mutable\n",
            "   sequence classes provide it.\n",
            "\n",
            "   New in version 3.3: \"clear()\" and \"copy()\" methods.\n",
            "\n",
            "6. The value *n* is an integer, or an object implementing\n",
            "   \"__index__()\".  Zero and negative values of *n* clear the sequence.\n",
            "   Items in the sequence are not copied; they are referenced multiple\n",
            "   times, as explained for \"s * n\" under Common Sequence Operations.\n",
            "\n",
            "Related help topics: LISTLITERALS\n",
            "\n",
            "\n",
            "You are now leaving help and returning to the Python interpreter.\n",
            "If you want to ask for help on a particular object directly from the\n",
            "interpreter, you can type \"help(object)\".  Executing \"help('string')\"\n",
            "has the same effect as typing a particular string at the help> prompt.\n"
          ]
        }
      ],
      "source": [
        "help()"
      ]
    },
    {
      "cell_type": "markdown",
      "metadata": {},
      "source": [
        "10 - Data Types in Python"
      ]
    },
    {
      "cell_type": "code",
      "execution_count": 8,
      "metadata": {},
      "outputs": [
        {
          "data": {
            "text/plain": [
              "float"
            ]
          },
          "execution_count": 8,
          "metadata": {},
          "output_type": "execute_result"
        }
      ],
      "source": [
        "num = 2.5\n",
        "type(num)"
      ]
    },
    {
      "cell_type": "code",
      "execution_count": 9,
      "metadata": {},
      "outputs": [
        {
          "data": {
            "text/plain": [
              "int"
            ]
          },
          "execution_count": 9,
          "metadata": {},
          "output_type": "execute_result"
        }
      ],
      "source": [
        "num = 5\n",
        "type(num)"
      ]
    },
    {
      "cell_type": "code",
      "execution_count": 10,
      "metadata": {},
      "outputs": [
        {
          "data": {
            "text/plain": [
              "complex"
            ]
          },
          "execution_count": 10,
          "metadata": {},
          "output_type": "execute_result"
        }
      ],
      "source": [
        "num = 6+9j\n",
        "type(num)"
      ]
    },
    {
      "cell_type": "code",
      "execution_count": 19,
      "metadata": {},
      "outputs": [
        {
          "name": "stdout",
          "output_type": "stream",
          "text": [
            "5 <class 'int'>\n"
          ]
        }
      ],
      "source": [
        "a = 5.6\n",
        "b = int(a)\n",
        "print(b, type(b))"
      ]
    },
    {
      "cell_type": "code",
      "execution_count": 21,
      "metadata": {},
      "outputs": [
        {
          "name": "stdout",
          "output_type": "stream",
          "text": [
            "5.0 <class 'float'>\n"
          ]
        }
      ],
      "source": [
        "k = float(b)\n",
        "print(k, type(k))"
      ]
    },
    {
      "cell_type": "code",
      "execution_count": 22,
      "metadata": {},
      "outputs": [
        {
          "data": {
            "text/plain": [
              "(5+6j)"
            ]
          },
          "execution_count": 22,
          "metadata": {},
          "output_type": "execute_result"
        }
      ],
      "source": [
        "k = 6\n",
        "c = complex(b, k)\n",
        "c"
      ]
    },
    {
      "cell_type": "code",
      "execution_count": 23,
      "metadata": {},
      "outputs": [
        {
          "data": {
            "text/plain": [
              "True"
            ]
          },
          "execution_count": 23,
          "metadata": {},
          "output_type": "execute_result"
        }
      ],
      "source": [
        "b < k"
      ]
    },
    {
      "cell_type": "code",
      "execution_count": 25,
      "metadata": {},
      "outputs": [
        {
          "name": "stdout",
          "output_type": "stream",
          "text": [
            "True <class 'bool'>\n"
          ]
        }
      ],
      "source": [
        "bool = b < k\n",
        "print(bool, type(bool))"
      ]
    },
    {
      "cell_type": "code",
      "execution_count": 26,
      "metadata": {},
      "outputs": [
        {
          "data": {
            "text/plain": [
              "False"
            ]
          },
          "execution_count": 26,
          "metadata": {},
          "output_type": "execute_result"
        }
      ],
      "source": [
        "b > k"
      ]
    },
    {
      "cell_type": "code",
      "execution_count": 27,
      "metadata": {},
      "outputs": [
        {
          "data": {
            "text/plain": [
              "1"
            ]
          },
          "execution_count": 27,
          "metadata": {},
          "output_type": "execute_result"
        }
      ],
      "source": [
        "int(True)"
      ]
    },
    {
      "cell_type": "code",
      "execution_count": 29,
      "metadata": {},
      "outputs": [
        {
          "data": {
            "text/plain": [
              "0"
            ]
          },
          "execution_count": 29,
          "metadata": {},
          "output_type": "execute_result"
        }
      ],
      "source": [
        "int(False)"
      ]
    },
    {
      "cell_type": "code",
      "execution_count": 30,
      "metadata": {},
      "outputs": [
        {
          "data": {
            "text/plain": [
              "list"
            ]
          },
          "execution_count": 30,
          "metadata": {},
          "output_type": "execute_result"
        }
      ],
      "source": [
        "lst = [1, 2, 3, 4, 5]\n",
        "type(lst)"
      ]
    },
    {
      "cell_type": "code",
      "execution_count": 31,
      "metadata": {},
      "outputs": [
        {
          "data": {
            "text/plain": [
              "set"
            ]
          },
          "execution_count": 31,
          "metadata": {},
          "output_type": "execute_result"
        }
      ],
      "source": [
        "s = {1, 2, 3, 4, 5}\n",
        "type(s)"
      ]
    },
    {
      "cell_type": "code",
      "execution_count": 32,
      "metadata": {},
      "outputs": [
        {
          "data": {
            "text/plain": [
              "tuple"
            ]
          },
          "execution_count": 32,
          "metadata": {},
          "output_type": "execute_result"
        }
      ],
      "source": [
        "t = (1, 2, 3, 4, 5)\n",
        "type(t)"
      ]
    },
    {
      "cell_type": "code",
      "execution_count": 34,
      "metadata": {},
      "outputs": [
        {
          "name": "stdout",
          "output_type": "stream",
          "text": [
            "Mukul <class 'str'>\n",
            "Hello, World! <class 'str'>\n"
          ]
        }
      ],
      "source": [
        "str = \"Hello, World!\"\n",
        "st = 'Mukul'\n",
        "\n",
        "print(st, type(st))\n",
        "print(str, type(str))"
      ]
    },
    {
      "cell_type": "code",
      "execution_count": 35,
      "metadata": {},
      "outputs": [
        {
          "data": {
            "text/plain": [
              "range(0, 10)"
            ]
          },
          "execution_count": 35,
          "metadata": {},
          "output_type": "execute_result"
        }
      ],
      "source": [
        "range(10)"
      ]
    },
    {
      "cell_type": "code",
      "execution_count": null,
      "metadata": {},
      "outputs": [
        {
          "name": "stdout",
          "output_type": "stream",
          "text": [
            "<class 'type'> [0, 1, 2, 3, 4, 5, 6, 7, 8, 9]\n"
          ]
        }
      ],
      "source": [
        "list(range(10))"
      ]
    },
    {
      "cell_type": "code",
      "execution_count": null,
      "metadata": {},
      "outputs": [
        {
          "data": {
            "text/plain": [
              "[2, 4, 6, 8]"
            ]
          },
          "execution_count": 38,
          "metadata": {},
          "output_type": "execute_result"
        }
      ],
      "source": [
        "list(range (2,10,2))"
      ]
    },
    {
      "cell_type": "code",
      "execution_count": 1,
      "metadata": {},
      "outputs": [
        {
          "data": {
            "text/plain": [
              "range"
            ]
          },
          "execution_count": 1,
          "metadata": {},
          "output_type": "execute_result"
        }
      ],
      "source": [
        "type(range(10))"
      ]
    },
    {
      "cell_type": "code",
      "execution_count": 6,
      "metadata": {},
      "outputs": [
        {
          "data": {
            "text/plain": [
              "{'name': 'mukul', 'os': 'arch-linux', 'ide': 'vs-code', 'city': 'ayodhya'}"
            ]
          },
          "execution_count": 6,
          "metadata": {},
          "output_type": "execute_result"
        }
      ],
      "source": [
        "d = {'name': 'mukul', 'os' : 'arch-linux' , 'ide' : 'vs-code', 'city': 'ayodhya'}\n",
        "d"
      ]
    },
    {
      "cell_type": "code",
      "execution_count": 7,
      "metadata": {},
      "outputs": [
        {
          "data": {
            "text/plain": [
              "dict_keys(['name', 'os', 'ide', 'city'])"
            ]
          },
          "execution_count": 7,
          "metadata": {},
          "output_type": "execute_result"
        }
      ],
      "source": [
        "d.keys()"
      ]
    },
    {
      "cell_type": "code",
      "execution_count": 8,
      "metadata": {},
      "outputs": [
        {
          "data": {
            "text/plain": [
              "dict_values(['mukul', 'arch-linux', 'vs-code', 'ayodhya'])"
            ]
          },
          "execution_count": 8,
          "metadata": {},
          "output_type": "execute_result"
        }
      ],
      "source": [
        "d.values()"
      ]
    },
    {
      "cell_type": "code",
      "execution_count": 9,
      "metadata": {},
      "outputs": [
        {
          "data": {
            "text/plain": [
              "'mukul'"
            ]
          },
          "execution_count": 9,
          "metadata": {},
          "output_type": "execute_result"
        }
      ],
      "source": [
        "d['name']"
      ]
    },
    {
      "cell_type": "code",
      "execution_count": 10,
      "metadata": {},
      "outputs": [
        {
          "data": {
            "text/plain": [
              "'arch-linux'"
            ]
          },
          "execution_count": 10,
          "metadata": {},
          "output_type": "execute_result"
        }
      ],
      "source": [
        "d.get('os')"
      ]
    },
    {
      "cell_type": "markdown",
      "metadata": {
        "id": "hp4vBmaLhhnc"
      },
      "source": [
        "17 - Swap Two Values"
      ]
    },
    {
      "cell_type": "markdown",
      "metadata": {
        "id": "W9BcM1tihndQ"
      },
      "source": [
        "The classic way to swap the values of two variables using a temporary variable."
      ]
    },
    {
      "cell_type": "code",
      "execution_count": null,
      "metadata": {
        "colab": {
          "base_uri": "https://localhost:8080/"
        },
        "id": "BAwMeu29taWF",
        "outputId": "ace618b1-ef04-426e-cfb0-e57593bc687d"
      },
      "outputs": [
        {
          "name": "stdout",
          "output_type": "stream",
          "text": [
            "5 3\n",
            "3 5\n"
          ]
        }
      ],
      "source": [
        "a = 5\n",
        "b = 3\n",
        "print (a,b)\n",
        "\n",
        "temp = a\n",
        "a = b\n",
        "b = temp\n",
        "\n",
        "print (a,b)"
      ]
    },
    {
      "cell_type": "markdown",
      "metadata": {
        "id": "1j9ZMx8Yiq13"
      },
      "source": [
        "Swap the values of two variables (a and b) without using a temporary variable."
      ]
    },
    {
      "cell_type": "code",
      "execution_count": null,
      "metadata": {
        "colab": {
          "base_uri": "https://localhost:8080/"
        },
        "id": "Wiy9DvvDujeL",
        "outputId": "e071915f-340d-498f-a8f4-feedd892c885"
      },
      "outputs": [
        {
          "name": "stdout",
          "output_type": "stream",
          "text": [
            "3 9\n",
            "9 3\n"
          ]
        }
      ],
      "source": [
        "a = 3\n",
        "b = 9\n",
        "print (a,b)\n",
        "\n",
        "a = a+b\n",
        "b = a-b\n",
        "a = a-b\n",
        "\n",
        "print (a,b)"
      ]
    },
    {
      "cell_type": "markdown",
      "metadata": {
        "id": "c8KbH9Xwh10A"
      },
      "source": [
        "Swap the values of two variables, a and b, using the XOR bitwise operator (^)."
      ]
    },
    {
      "cell_type": "code",
      "execution_count": null,
      "metadata": {
        "colab": {
          "base_uri": "https://localhost:8080/"
        },
        "id": "FpEfXpQ4ttn6",
        "outputId": "4b65c579-8678-4878-e348-f1cfc72ce0d1"
      },
      "outputs": [
        {
          "name": "stdout",
          "output_type": "stream",
          "text": [
            "7 5\n",
            "5 7\n"
          ]
        }
      ],
      "source": [
        "a = 7\n",
        "b = 5\n",
        "print (a,b)\n",
        "\n",
        "a = a ^ b\n",
        "b = a ^ b\n",
        "a = a ^ b\n",
        "\n",
        "print (a,b)"
      ]
    },
    {
      "cell_type": "markdown",
      "metadata": {
        "id": "4hOL9HfujL7R"
      },
      "source": [
        "18 - User input in Python"
      ]
    },
    {
      "cell_type": "code",
      "execution_count": null,
      "metadata": {
        "colab": {
          "base_uri": "https://localhost:8080/"
        },
        "id": "PznIPC7wpWso",
        "outputId": "23728a5e-273f-4b5a-c393-5b1ab6e83647"
      },
      "outputs": [
        {
          "name": "stdout",
          "output_type": "stream",
          "text": [
            "Enter Your Name: Mukul\n",
            "Mukul\n"
          ]
        }
      ],
      "source": [
        "name = input (\"Enter Your Name: \")\n",
        "print(name)"
      ]
    },
    {
      "cell_type": "code",
      "execution_count": null,
      "metadata": {
        "colab": {
          "base_uri": "https://localhost:8080/"
        },
        "id": "iD4hlAfcrR2T",
        "outputId": "bfe7e53b-3ea5-4239-f0ff-325fa9fd620d"
      },
      "outputs": [
        {
          "name": "stdout",
          "output_type": "stream",
          "text": [
            "Enter First Number: 4\n",
            "Enter Second Number: 5\n",
            "45\n"
          ]
        }
      ],
      "source": [
        "x = input (\"Enter First Number: \")\n",
        "y = input (\"Enter Second Number: \")\n",
        "z = x+y\n",
        "print(z)"
      ]
    },
    {
      "cell_type": "code",
      "execution_count": null,
      "metadata": {
        "colab": {
          "base_uri": "https://localhost:8080/"
        },
        "id": "D_mRSWhsrS1R",
        "outputId": "adfc444c-730c-4cc2-e0dd-2f20ad47b9fb"
      },
      "outputs": [
        {
          "name": "stdout",
          "output_type": "stream",
          "text": [
            "Enter First Number: 4\n",
            "Enter Second Number: 5\n",
            "9\n"
          ]
        }
      ],
      "source": [
        "x = int (input (\"Enter First Number: \"))\n",
        "y = int (input (\"Enter Second Number: \"))\n",
        "z = x+y\n",
        "print(z)"
      ]
    },
    {
      "cell_type": "markdown",
      "metadata": {
        "id": "ingfU2wUjDs3"
      },
      "source": [
        "This code snippet gets input from the user and then prints only the first character of that input."
      ]
    },
    {
      "cell_type": "code",
      "execution_count": null,
      "metadata": {
        "colab": {
          "base_uri": "https://localhost:8080/"
        },
        "id": "SnCO1aPDrpS7",
        "outputId": "ae5ef324-f614-4c96-d9c7-61acd40c3842"
      },
      "outputs": [
        {
          "name": "stdout",
          "output_type": "stream",
          "text": [
            "Enter a character: asdad\n",
            "a\n"
          ]
        }
      ],
      "source": [
        "ch = input ('Enter a character: ') [0]\n",
        "print (ch)"
      ]
    },
    {
      "cell_type": "markdown",
      "metadata": {
        "id": "nUjwk3YfntsR"
      },
      "source": [
        "This code snippet gets input from the user, treats that input as a Python expression, evaluates it, and then prints the result."
      ]
    },
    {
      "cell_type": "code",
      "execution_count": null,
      "metadata": {
        "colab": {
          "base_uri": "https://localhost:8080/"
        },
        "id": "e5EObyQ0nFLE",
        "outputId": "90a653dc-f31c-4df9-ce22-b354a7194609"
      },
      "outputs": [
        {
          "name": "stdout",
          "output_type": "stream",
          "text": [
            "Enter an Expression: 5+5-3\n",
            "7\n"
          ]
        }
      ],
      "source": [
        "result = eval (input ('Enter an Expression: '))\n",
        "print (result)"
      ]
    },
    {
      "cell_type": "code",
      "execution_count": null,
      "metadata": {
        "id": "RHecjhU7nvqm"
      },
      "outputs": [],
      "source": [
        "import sys\n",
        "\n",
        "x = int(sys.argv[1])\n",
        "y = int(sys.argv[2])\n",
        "\n",
        "z=x+y\n",
        "\n",
        "print (z)"
      ]
    },
    {
      "cell_type": "markdown",
      "metadata": {},
      "source": [
        "26 - Array"
      ]
    },
    {
      "cell_type": "code",
      "execution_count": null,
      "metadata": {
        "colab": {
          "base_uri": "https://localhost:8080/"
        },
        "id": "4rM2cP0spGFH",
        "outputId": "3ba1966e-5bf3-439a-e811-0b3b6d9834e5"
      },
      "outputs": [
        {
          "name": "stdout",
          "output_type": "stream",
          "text": [
            "array('i', [4, 3, 5, 6])\n"
          ]
        }
      ],
      "source": [
        "from array import *\n",
        "\n",
        "vals = array('i',[4,3,5,6,])\n",
        "print(vals)"
      ]
    },
    {
      "cell_type": "code",
      "execution_count": null,
      "metadata": {
        "colab": {
          "base_uri": "https://localhost:8080/",
          "height": 193
        },
        "collapsed": true,
        "id": "RI6cvxtbVDll",
        "outputId": "08207bf7-8016-478e-fe6d-bf57bedc2070"
      },
      "outputs": [
        {
          "ename": "TypeError",
          "evalue": "'float' object cannot be interpreted as an integer",
          "output_type": "error",
          "traceback": [
            "\u001b[0;31m---------------------------------------------------------------------------\u001b[0m",
            "\u001b[0;31mTypeError\u001b[0m                                 Traceback (most recent call last)",
            "\u001b[0;32m/tmp/ipython-input-3-2802279351.py\u001b[0m in \u001b[0;36m<cell line: 0>\u001b[0;34m()\u001b[0m\n\u001b[1;32m      1\u001b[0m \u001b[0;32mfrom\u001b[0m \u001b[0marray\u001b[0m \u001b[0;32mimport\u001b[0m \u001b[0;34m*\u001b[0m\u001b[0;34m\u001b[0m\u001b[0;34m\u001b[0m\u001b[0m\n\u001b[1;32m      2\u001b[0m \u001b[0;34m\u001b[0m\u001b[0m\n\u001b[0;32m----> 3\u001b[0;31m \u001b[0mvals\u001b[0m \u001b[0;34m=\u001b[0m \u001b[0marray\u001b[0m\u001b[0;34m(\u001b[0m\u001b[0;34m'i'\u001b[0m\u001b[0;34m,\u001b[0m\u001b[0;34m[\u001b[0m\u001b[0;36m1\u001b[0m\u001b[0;34m,\u001b[0m\u001b[0;36m3\u001b[0m\u001b[0;34m,\u001b[0m\u001b[0;36m4.5\u001b[0m\u001b[0;34m,\u001b[0m\u001b[0;36m5.0\u001b[0m\u001b[0;34m]\u001b[0m\u001b[0;34m)\u001b[0m\u001b[0;34m\u001b[0m\u001b[0;34m\u001b[0m\u001b[0m\n\u001b[0m\u001b[1;32m      4\u001b[0m \u001b[0mprint\u001b[0m\u001b[0;34m(\u001b[0m\u001b[0mvals\u001b[0m\u001b[0;34m)\u001b[0m\u001b[0;34m\u001b[0m\u001b[0;34m\u001b[0m\u001b[0m\n",
            "\u001b[0;31mTypeError\u001b[0m: 'float' object cannot be interpreted as an integer"
          ]
        }
      ],
      "source": [
        "from array import *\n",
        "\n",
        "vals = array('i',[1,3,4.5,5.0])\n",
        "print(vals)"
      ]
    },
    {
      "cell_type": "code",
      "execution_count": null,
      "metadata": {
        "colab": {
          "base_uri": "https://localhost:8080/"
        },
        "id": "HdlURRlVV5ZO",
        "outputId": "4edc7ab8-fe8d-4ac7-ac54-42a70262cf55"
      },
      "outputs": [
        {
          "name": "stdout",
          "output_type": "stream",
          "text": [
            "array('i', [1, 3, -4, 5, 6])\n"
          ]
        }
      ],
      "source": [
        "from array import *\n",
        "\n",
        "vals = array('i',[1,2,3,-4,5])\n",
        "print(vals)"
      ]
    },
    {
      "cell_type": "code",
      "execution_count": null,
      "metadata": {
        "colab": {
          "base_uri": "https://localhost:8080/",
          "height": 193
        },
        "collapsed": true,
        "id": "N3k5lt9kWHl7",
        "outputId": "80fe86a8-8c19-4d45-c274-defac2a577ca"
      },
      "outputs": [
        {
          "ename": "OverflowError",
          "evalue": "can't convert negative value to unsigned int",
          "output_type": "error",
          "traceback": [
            "\u001b[0;31m---------------------------------------------------------------------------\u001b[0m",
            "\u001b[0;31mOverflowError\u001b[0m                             Traceback (most recent call last)",
            "\u001b[0;32m/tmp/ipython-input-5-617433313.py\u001b[0m in \u001b[0;36m<cell line: 0>\u001b[0;34m()\u001b[0m\n\u001b[1;32m      1\u001b[0m \u001b[0;32mfrom\u001b[0m \u001b[0marray\u001b[0m \u001b[0;32mimport\u001b[0m \u001b[0;34m*\u001b[0m\u001b[0;34m\u001b[0m\u001b[0;34m\u001b[0m\u001b[0m\n\u001b[1;32m      2\u001b[0m \u001b[0;34m\u001b[0m\u001b[0m\n\u001b[0;32m----> 3\u001b[0;31m \u001b[0mvals\u001b[0m \u001b[0;34m=\u001b[0m \u001b[0marray\u001b[0m\u001b[0;34m(\u001b[0m\u001b[0;34m'I'\u001b[0m\u001b[0;34m,\u001b[0m\u001b[0;34m[\u001b[0m\u001b[0;36m1\u001b[0m\u001b[0;34m,\u001b[0m\u001b[0;36m2\u001b[0m\u001b[0;34m,\u001b[0m\u001b[0;36m3\u001b[0m\u001b[0;34m,\u001b[0m\u001b[0;34m-\u001b[0m\u001b[0;36m4\u001b[0m\u001b[0;34m,\u001b[0m\u001b[0;36m5\u001b[0m\u001b[0;34m]\u001b[0m\u001b[0;34m)\u001b[0m\u001b[0;34m\u001b[0m\u001b[0;34m\u001b[0m\u001b[0m\n\u001b[0m\u001b[1;32m      4\u001b[0m \u001b[0mprint\u001b[0m\u001b[0;34m(\u001b[0m\u001b[0mvals\u001b[0m\u001b[0;34m)\u001b[0m\u001b[0;34m\u001b[0m\u001b[0;34m\u001b[0m\u001b[0m\n",
            "\u001b[0;31mOverflowError\u001b[0m: can't convert negative value to unsigned int"
          ]
        }
      ],
      "source": [
        "from array import *\n",
        "\n",
        "vals = array('I',[1,2,3,-4,5])\n",
        "print(vals)"
      ]
    },
    {
      "cell_type": "code",
      "execution_count": null,
      "metadata": {
        "colab": {
          "base_uri": "https://localhost:8080/"
        },
        "id": "doPBW5LaWdHr",
        "outputId": "d1686c01-dec4-42ff-9ad9-ff67f5fad7f8"
      },
      "outputs": [
        {
          "name": "stdout",
          "output_type": "stream",
          "text": [
            "array('i', [5, 4, 3, 2, 1])\n"
          ]
        }
      ],
      "source": [
        "from array import *\n",
        "\n",
        "vals = array('i',[1,2,3,4,5])\n",
        "vals.reverse()\n",
        "\n",
        "print(vals)"
      ]
    },
    {
      "cell_type": "code",
      "execution_count": null,
      "metadata": {
        "colab": {
          "base_uri": "https://localhost:8080/"
        },
        "id": "RdHLFYNMXAoy",
        "outputId": "5959fc00-852a-4ef4-9d3c-2a0dcfb2a4db"
      },
      "outputs": [
        {
          "name": "stdout",
          "output_type": "stream",
          "text": [
            "3\n"
          ]
        }
      ],
      "source": [
        "from array import *\n",
        "\n",
        "vals = array('i',[1,2,3,4,5])\n",
        "print(vals[2])"
      ]
    },
    {
      "cell_type": "code",
      "execution_count": null,
      "metadata": {
        "colab": {
          "base_uri": "https://localhost:8080/"
        },
        "id": "IZ-xEc5MXNOk",
        "outputId": "48cc7fe3-0ec4-4510-cc66-241318a0003e"
      },
      "outputs": [
        {
          "name": "stdout",
          "output_type": "stream",
          "text": [
            "1\n",
            "2\n",
            "3\n",
            "4\n",
            "5\n"
          ]
        }
      ],
      "source": [
        "from array import *\n",
        "\n",
        "vals = array('i',[1,2,3,4,5])\n",
        "\n",
        "for i in range(5):\n",
        "  print(vals[i])"
      ]
    },
    {
      "cell_type": "code",
      "execution_count": null,
      "metadata": {
        "colab": {
          "base_uri": "https://localhost:8080/"
        },
        "id": "i0zkSJq0Xx8o",
        "outputId": "b9de1a7b-84c9-4600-a9b1-b1dceedfb2ed"
      },
      "outputs": [
        {
          "name": "stdout",
          "output_type": "stream",
          "text": [
            "1\n",
            "2\n",
            "3\n",
            "4\n",
            "5\n"
          ]
        }
      ],
      "source": [
        "from array import *\n",
        "\n",
        "vals = array('i',[1,2,3,4,5])\n",
        "\n",
        "for i in range(len(vals)):\n",
        "  print(vals[i])"
      ]
    },
    {
      "cell_type": "code",
      "execution_count": null,
      "metadata": {
        "colab": {
          "base_uri": "https://localhost:8080/"
        },
        "id": "yaMoLyB2YC3m",
        "outputId": "1229ca01-607f-4fec-84a1-df8c208c7768"
      },
      "outputs": [
        {
          "name": "stdout",
          "output_type": "stream",
          "text": [
            "1\n",
            "2\n",
            "3\n",
            "4\n",
            "5\n"
          ]
        }
      ],
      "source": [
        "from array import *\n",
        "\n",
        "vals = array('i',[1,2,3,4,5])\n",
        "\n",
        "for e in vals:\n",
        "  print(e)"
      ]
    },
    {
      "cell_type": "code",
      "execution_count": null,
      "metadata": {
        "colab": {
          "base_uri": "https://localhost:8080/"
        },
        "id": "gUM5AaFZYsW-",
        "outputId": "66ac8021-ec56-4a4c-e1c2-470ababa32b8"
      },
      "outputs": [
        {
          "name": "stdout",
          "output_type": "stream",
          "text": [
            "array('u', 'aeiou')\n",
            "a\n",
            "e\n",
            "i\n",
            "o\n",
            "u\n"
          ]
        }
      ],
      "source": [
        "from array import *\n",
        "\n",
        "vals = array('u',['a','e','i','o','u'])\n",
        "print(vals)\n",
        "\n",
        "for e in vals:\n",
        "  print(e)"
      ]
    },
    {
      "cell_type": "code",
      "execution_count": null,
      "metadata": {
        "colab": {
          "base_uri": "https://localhost:8080/"
        },
        "id": "bby5BIXZZcvg",
        "outputId": "9b712f48-7e1d-419a-a10d-91a88e67f95c"
      },
      "outputs": [
        {
          "name": "stdout",
          "output_type": "stream",
          "text": [
            "1\n",
            "4\n",
            "9\n",
            "16\n",
            "25\n"
          ]
        }
      ],
      "source": [
        "from array import *\n",
        "\n",
        "vals = array('i',[1,2,3,4,5])\n",
        "\n",
        "newArr = array(vals.typecode, (a*a for a in vals))\n",
        "\n",
        "# for e in newArr:\n",
        "#   print(e)\n",
        "\n",
        "i = 0\n",
        "\n",
        "while i<len(newArr):\n",
        "  print(newArr[i])\n",
        "  i += 1"
      ]
    },
    {
      "cell_type": "code",
      "execution_count": null,
      "metadata": {
        "colab": {
          "base_uri": "https://localhost:8080/"
        },
        "id": "nu-ZtepMkK_x",
        "outputId": "60ab2933-ace6-4cb9-b945-2102e2d78bae"
      },
      "outputs": [
        {
          "name": "stdout",
          "output_type": "stream",
          "text": [
            "Enter the length of the array: 3\n",
            "Enter the next value: 2\n",
            "Enter the next value: 4\n",
            "Enter the next value: 6\n",
            "array('i', [2, 4, 6])\n"
          ]
        }
      ],
      "source": [
        "from array import *\n",
        "\n",
        "arr = array('i',[])\n",
        "\n",
        "l = int(input(\"Enter the length of the array: \"))\n",
        "\n",
        "for i in range(l):\n",
        "  x = int(input(\"Enter the next value: \"))\n",
        "  arr.append(x)\n",
        "\n",
        "print(arr)"
      ]
    },
    {
      "cell_type": "code",
      "execution_count": null,
      "metadata": {
        "colab": {
          "base_uri": "https://localhost:8080/"
        },
        "id": "5GVfUBwOlg6D",
        "outputId": "ccb5837f-613c-4e6b-e0f9-79b3d1f71b52"
      },
      "outputs": [
        {
          "name": "stdout",
          "output_type": "stream",
          "text": [
            "Enter the length of the array: 5\n",
            "Enter the next value: 8\n",
            "Enter the next value: 4\n",
            "Enter the next value: 5\n",
            "Enter the next value: 2\n",
            "Enter the next value: 6\n",
            "array('i', [8, 4, 5, 2, 6])\n",
            "Enter the value for search: 5\n",
            "2\n",
            "2\n"
          ]
        }
      ],
      "source": [
        "from array import *\n",
        "\n",
        "arr = array('i',[])\n",
        "\n",
        "l = int(input(\"Enter the length of the array: \"))\n",
        "\n",
        "for i in range(l):\n",
        "  x = int(input(\"Enter the next value: \"))\n",
        "  arr.append(x)\n",
        "\n",
        "print(arr)\n",
        "\n",
        "val = int(input(\"Enter the value for search: \"))\n",
        "k = 0\n",
        "for e in arr:\n",
        "  if e==val:\n",
        "    print(k)\n",
        "    break\n",
        "  k+=1\n",
        "\n",
        "print(arr.index(val))"
      ]
    },
    {
      "cell_type": "markdown",
      "metadata": {},
      "source": [
        "28 - Numpy"
      ]
    },
    {
      "cell_type": "code",
      "execution_count": 1,
      "metadata": {},
      "outputs": [
        {
          "name": "stdout",
          "output_type": "stream",
          "text": [
            "Collecting numpy\n",
            "  Using cached numpy-2.3.1-cp312-cp312-win_amd64.whl.metadata (60 kB)\n",
            "Using cached numpy-2.3.1-cp312-cp312-win_amd64.whl (12.7 MB)\n",
            "Installing collected packages: numpy\n",
            "Successfully installed numpy-2.3.1\n"
          ]
        }
      ],
      "source": [
        "!pip install numpy"
      ]
    },
    {
      "cell_type": "code",
      "execution_count": null,
      "metadata": {
        "colab": {
          "base_uri": "https://localhost:8080/"
        },
        "id": "bjFVn2EArH5S",
        "outputId": "d2db1087-66be-4cf1-b8b4-972e9be0a864"
      },
      "outputs": [
        {
          "name": "stdout",
          "output_type": "stream",
          "text": [
            "[1 2 3 6 5 4]\n"
          ]
        }
      ],
      "source": [
        "from numpy import *\n",
        "\n",
        "arr = array([1,2,3,6,5,4],int)\n",
        "print(arr)"
      ]
    },
    {
      "cell_type": "code",
      "execution_count": null,
      "metadata": {
        "colab": {
          "base_uri": "https://localhost:8080/"
        },
        "id": "SqxbrjqNv8KN",
        "outputId": "b9f2d3f3-3760-4c02-bca3-a94ab8decc58"
      },
      "outputs": [
        {
          "name": "stdout",
          "output_type": "stream",
          "text": [
            "[[1 2 3]\n",
            " [6 5 4]]\n",
            "int64\n",
            "2\n",
            "(2, 3)\n",
            "6\n"
          ]
        }
      ],
      "source": [
        "from numpy import *\n",
        "\n",
        "arr = array([\n",
        "\n",
        "             [1,2,3],\n",
        "             [6,5,4]\n",
        "])\n",
        "\n",
        "print(arr)\n",
        "\n",
        "print(arr.dtype)\n",
        "\n",
        "print(arr.ndim)\n",
        "\n",
        "print(arr.shape)\n",
        "\n",
        "print(arr.size)"
      ]
    },
    {
      "cell_type": "code",
      "execution_count": null,
      "metadata": {
        "colab": {
          "base_uri": "https://localhost:8080/"
        },
        "id": "rSsYgQpqD27Z",
        "outputId": "917fd4c9-594d-4c57-c29e-ea1acf556747"
      },
      "outputs": [
        {
          "name": "stdout",
          "output_type": "stream",
          "text": [
            "[1 2 3 6 5 4]\n"
          ]
        }
      ],
      "source": [
        "from numpy import *\n",
        "\n",
        "arr = array([\n",
        "\n",
        "             [1,2,3],\n",
        "             [6,5,4]\n",
        "])\n",
        "\n",
        "arr2 = arr.flatten()\n",
        "print(arr2)"
      ]
    },
    {
      "cell_type": "code",
      "execution_count": null,
      "metadata": {
        "colab": {
          "base_uri": "https://localhost:8080/"
        },
        "id": "hAL9ljyfT3Ny",
        "outputId": "c9b5317b-4fe1-4926-c010-e9cafaa6f31c"
      },
      "outputs": [
        {
          "name": "stdout",
          "output_type": "stream",
          "text": [
            "[[1 2 3 4]\n",
            " [5 6 3 5]\n",
            " [0 7 8 9]]\n"
          ]
        }
      ],
      "source": [
        "from numpy import *\n",
        "\n",
        "arr = array([\n",
        "\n",
        "             [1,2,3,4,5,6],\n",
        "             [3,5,0,7,8,9]\n",
        "])\n",
        "\n",
        "arr3 = arr.reshape(3,4)\n",
        "print(arr3)"
      ]
    },
    {
      "cell_type": "code",
      "execution_count": null,
      "metadata": {
        "colab": {
          "base_uri": "https://localhost:8080/"
        },
        "id": "8aq5c3mzVVvg",
        "outputId": "cb651e3b-2095-474b-f677-2d6030acb73c"
      },
      "outputs": [
        {
          "name": "stdout",
          "output_type": "stream",
          "text": [
            "[[[1 2 3]\n",
            "  [7 8 9]]\n",
            "\n",
            " [[4 5 6]\n",
            "  [1 2 3]]]\n"
          ]
        }
      ],
      "source": [
        "from numpy import *\n",
        "\n",
        "arr = array([\n",
        "\n",
        "             [1,2,3,7,8,9],\n",
        "             [4,5,6,1,2,3]\n",
        "])\n",
        "\n",
        "arr2 = arr.reshape(2,2,3)\n",
        "print(arr2)"
      ]
    },
    {
      "cell_type": "code",
      "execution_count": null,
      "metadata": {
        "colab": {
          "base_uri": "https://localhost:8080/"
        },
        "id": "6rYT8_0dWN4A",
        "outputId": "ac2f3af6-bee1-435d-9a09-bf0c21954327"
      },
      "outputs": [
        {
          "name": "stdout",
          "output_type": "stream",
          "text": [
            "[[1 2 3 4]\n",
            " [5 6 7 8]]\n"
          ]
        }
      ],
      "source": [
        "from numpy import *\n",
        "\n",
        "arr = array([\n",
        "\n",
        "             [1,2,3,4],\n",
        "             [5,6,7,8]\n",
        "])\n",
        "\n",
        "m = matrix(arr)\n",
        "\n",
        "print(m)"
      ]
    },
    {
      "cell_type": "code",
      "execution_count": null,
      "metadata": {
        "colab": {
          "base_uri": "https://localhost:8080/"
        },
        "id": "_zAw2tN_WjM0",
        "outputId": "4aa82a12-78f2-4430-9196-f9d258480dee"
      },
      "outputs": [
        {
          "name": "stdout",
          "output_type": "stream",
          "text": [
            "[[1 5 9]]\n"
          ]
        }
      ],
      "source": [
        "from numpy import *\n",
        "\n",
        "# m = matrix('1 2 3 ; 4 5 6')\n",
        "\n",
        "# m = matrix('1 2; 3 4; 5 6')\n",
        "\n",
        "m = matrix('1 2 3; 4 5 6; 7 8 9')\n",
        "\n",
        "# print(m)\n",
        "print(m.diagonal())"
      ]
    },
    {
      "cell_type": "code",
      "execution_count": null,
      "metadata": {
        "colab": {
          "base_uri": "https://localhost:8080/"
        },
        "id": "ESqiRsRNYa8n",
        "outputId": "3b8575a7-d791-4d03-c66f-2d5e2d1e34dc"
      },
      "outputs": [
        {
          "name": "stdout",
          "output_type": "stream",
          "text": [
            "[[ 30  36  42]\n",
            " [ 66  81  96]\n",
            " [102 126 150]]\n"
          ]
        }
      ],
      "source": [
        "from numpy import *\n",
        "\n",
        "m1 = matrix('1 2 3; 4 5 6; 7 8 9')\n",
        "m2 = matrix('1 2 3; 4 5 6; 7 8 9')\n",
        "\n",
        "m3 = m1 * m2\n",
        "\n",
        "print(m3)"
      ]
    },
    {
      "cell_type": "code",
      "execution_count": null,
      "metadata": {
        "colab": {
          "base_uri": "https://localhost:8080/"
        },
        "id": "qKuzO_y8YnhA",
        "outputId": "8649287a-f1df-4a47-ad44-a341dcd5c682"
      },
      "outputs": [
        {
          "name": "stdout",
          "output_type": "stream",
          "text": [
            "Result of 3x3 matrix multiplication:\n",
            "[30, 36, 42]\n",
            "[66, 81, 96]\n",
            "[102, 126, 150]\n"
          ]
        }
      ],
      "source": [
        "from numpy import *\n",
        "\n",
        "m1 = [[1, 2, 3],\n",
        "      [4, 5, 6],\n",
        "      [7, 8, 9]]\n",
        "\n",
        "m2 = [[1, 2, 3],\n",
        "      [4, 5, 6],\n",
        "      [7, 8, 9]]\n",
        "\n",
        "result_matrix = [[0, 0, 0],\n",
        "                 [0, 0, 0],\n",
        "                 [0, 0, 0]]\n",
        "\n",
        "\n",
        "for i in range(len(m1)):\n",
        "  for j in range(len(m2[0])):\n",
        "   for k in range(len(m2)):\n",
        "      result_matrix[i][j] += m1[i][k] * m2[k][j]\n",
        "\n",
        "print(\"Result of 3x3 matrix multiplication:\")\n",
        "for row in result_matrix:\n",
        "  print(row)"
      ]
    },
    {
      "cell_type": "markdown",
      "metadata": {},
      "source": [
        "32 - Functions in Python"
      ]
    },
    {
      "cell_type": "code",
      "execution_count": null,
      "metadata": {
        "colab": {
          "base_uri": "https://localhost:8080/"
        },
        "id": "wHTaWEDLaCLj",
        "outputId": "f97633b6-7aea-43a9-d342-d135fd9f4bfd"
      },
      "outputs": [
        {
          "name": "stdout",
          "output_type": "stream",
          "text": [
            "5\n"
          ]
        }
      ],
      "source": [
        "def greet():\n",
        "  print(\"Hello\")\n",
        "  print(\"Good Morning\")\n",
        "\n",
        "def add(x,y):\n",
        "  c = x + y\n",
        "  print(c)\n",
        "\n",
        "# greet()\n",
        "\n",
        "add(2,3)\n"
      ]
    },
    {
      "cell_type": "code",
      "execution_count": null,
      "metadata": {
        "colab": {
          "base_uri": "https://localhost:8080/"
        },
        "id": "d5AZz36YdO4C",
        "outputId": "22905a5b-0766-44d0-fc30-f11f15530537"
      },
      "outputs": [
        {
          "name": "stdout",
          "output_type": "stream",
          "text": [
            "8\n",
            "2\n"
          ]
        }
      ],
      "source": [
        "def add_sub(x,y):\n",
        "  a = x + y\n",
        "  s = x - y\n",
        "  return a,s\n",
        "\n",
        "result1, result2 = add_sub(5,3)\n",
        "print(result1)\n",
        "print(result2)"
      ]
    },
    {
      "cell_type": "markdown",
      "metadata": {},
      "source": [
        "34 - Function Arguments in Python"
      ]
    },
    {
      "cell_type": "code",
      "execution_count": null,
      "metadata": {
        "colab": {
          "base_uri": "https://localhost:8080/"
        },
        "id": "VvCzjF3pjTza",
        "outputId": "a8e9db38-b926-47a4-8844-087c07a120f5"
      },
      "outputs": [
        {
          "name": "stdout",
          "output_type": "stream",
          "text": [
            "x  8\n",
            "a  10\n"
          ]
        }
      ],
      "source": [
        "def update(x):\n",
        "  x = 8\n",
        "  print(\"x \",x)\n",
        "\n",
        "a = 10\n",
        "update(a)\n",
        "print(\"a \",a)"
      ]
    },
    {
      "cell_type": "code",
      "execution_count": null,
      "metadata": {
        "colab": {
          "base_uri": "https://localhost:8080/"
        },
        "id": "7GvNZcjzmPMh",
        "outputId": "6d2a7006-7383-4312-ba7f-119788db8cd5"
      },
      "outputs": [
        {
          "name": "stdout",
          "output_type": "stream",
          "text": [
            "10758024\n",
            "10758024\n",
            "10757960\n",
            "x  8\n",
            "a  10\n"
          ]
        }
      ],
      "source": [
        "def update(x):\n",
        "\n",
        "  print(id(x))\n",
        "  x = 8\n",
        "  print(id(x))\n",
        "  print(\"x \",x)\n",
        "\n",
        "a = 10\n",
        "print(id(a))\n",
        "update(a)\n",
        "print(\"a \",a)"
      ]
    },
    {
      "cell_type": "code",
      "execution_count": null,
      "metadata": {
        "colab": {
          "base_uri": "https://localhost:8080/"
        },
        "id": "BhkUJ_Pwm1TT",
        "outputId": "7fbb57b1-5d29-435b-e833-e2b174d39d8b"
      },
      "outputs": [
        {
          "name": "stdout",
          "output_type": "stream",
          "text": [
            "133945508199168\n",
            "133945508199168\n",
            "133945508199168\n",
            "x  [10, 25, 30]\n",
            "a  [10, 25, 30]\n"
          ]
        }
      ],
      "source": [
        "def update(x):\n",
        "\n",
        "  print(id(x))\n",
        "  x[1] = 25\n",
        "  print(id(x))\n",
        "  print(\"x \",x)\n",
        "\n",
        "a = [10,20,30]\n",
        "print(id(a))\n",
        "update(a)\n",
        "print(\"a \",a)"
      ]
    },
    {
      "cell_type": "markdown",
      "metadata": {
        "id": "1HgPNebU8d51"
      },
      "source": [
        "34 - Types of Arguments in Python"
      ]
    },
    {
      "cell_type": "code",
      "execution_count": null,
      "metadata": {
        "colab": {
          "base_uri": "https://localhost:8080/"
        },
        "id": "6TBnp18u7T1n",
        "outputId": "d5ec4c68-768b-4f13-811a-be5db01c3377"
      },
      "outputs": [
        {
          "name": "stdout",
          "output_type": "stream",
          "text": [
            "11\n"
          ]
        }
      ],
      "source": [
        "def add(a, b):\n",
        "    c = a + b\n",
        "    print(c)\n",
        "\n",
        "add(5, 6)"
      ]
    },
    {
      "cell_type": "code",
      "execution_count": null,
      "metadata": {
        "colab": {
          "base_uri": "https://localhost:8080/"
        },
        "id": "Qv8U2Jqs9BlQ",
        "outputId": "c43c8e69-28a9-4f6b-fb77-037c67254de3"
      },
      "outputs": [
        {
          "name": "stdout",
          "output_type": "stream",
          "text": [
            "mukul\n",
            "25\n"
          ]
        }
      ],
      "source": [
        "def person(name, age):\n",
        "  print(name)\n",
        "  print(age)\n",
        "\n",
        "person('mukul',25)"
      ]
    },
    {
      "cell_type": "code",
      "execution_count": null,
      "metadata": {
        "colab": {
          "base_uri": "https://localhost:8080/"
        },
        "id": "qHU2oT_09kjy",
        "outputId": "4b851657-2a88-4e8f-c80c-3a17cbc760a2"
      },
      "outputs": [
        {
          "name": "stdout",
          "output_type": "stream",
          "text": [
            "mukul\n",
            "25\n"
          ]
        }
      ],
      "source": [
        "def person(name, age=26):\n",
        "  print(name)\n",
        "  print(age)\n",
        "\n",
        "person(age=25, name='mukul')"
      ]
    },
    {
      "cell_type": "code",
      "execution_count": null,
      "metadata": {
        "colab": {
          "base_uri": "https://localhost:8080/"
        },
        "id": "Nrna24Ik9_Ky",
        "outputId": "d4908e9f-e96d-40cd-ade8-8c8f88b51a84"
      },
      "outputs": [
        {
          "name": "stdout",
          "output_type": "stream",
          "text": [
            "22\n"
          ]
        }
      ],
      "source": [
        "# def sum(a, *b):\n",
        "def sum(*b):\n",
        "\n",
        "  c = 0\n",
        "\n",
        "  # c = a\n",
        "\n",
        "  for i in b:\n",
        "    c = c + i\n",
        "\n",
        "  print(c)\n",
        "\n",
        "sum(5,6,2,9)"
      ]
    },
    {
      "cell_type": "markdown",
      "metadata": {
        "id": "M62iK29OARqw"
      },
      "source": [
        "35 - Keyworded Variable Length Arguments in Python"
      ]
    },
    {
      "cell_type": "code",
      "execution_count": null,
      "metadata": {
        "colab": {
          "base_uri": "https://localhost:8080/"
        },
        "id": "ztAkZvO4AZzT",
        "outputId": "8959b4d7-13a5-476a-8318-98dd42e3142f"
      },
      "outputs": [
        {
          "name": "stdout",
          "output_type": "stream",
          "text": [
            "mukul\n",
            "(28, 'Ayodhya', 76975)\n"
          ]
        }
      ],
      "source": [
        "def person(name,*data):\n",
        "\n",
        "    print(name)\n",
        "    print(data)\n",
        "\n",
        "person('mukul', 25, 'Ayodhya', 76975)"
      ]
    },
    {
      "cell_type": "code",
      "execution_count": null,
      "metadata": {
        "colab": {
          "base_uri": "https://localhost:8080/"
        },
        "id": "yev8-dd1BZ3x",
        "outputId": "c5079b1e-75dd-4239-99d4-f0f40e091f48"
      },
      "outputs": [
        {
          "name": "stdout",
          "output_type": "stream",
          "text": [
            "mukul\n",
            "{'age': 25, 'city': 'Ayodhya', 'mob': 76975}\n"
          ]
        }
      ],
      "source": [
        "def person(name,**data):\n",
        "\n",
        "    print(name)\n",
        "    print(data)\n",
        "\n",
        "person('mukul', age=25, city='Ayodhya', mob=76975)"
      ]
    },
    {
      "cell_type": "code",
      "execution_count": null,
      "metadata": {
        "colab": {
          "base_uri": "https://localhost:8080/"
        },
        "id": "dcQhgfSMBobp",
        "outputId": "bd1978ee-e3e6-4834-f203-4d0145ab1d3e"
      },
      "outputs": [
        {
          "name": "stdout",
          "output_type": "stream",
          "text": [
            "mukul\n",
            "age 25\n",
            "city Ayodhya\n",
            "mob 76975\n"
          ]
        }
      ],
      "source": [
        "def person(name,**data):\n",
        "\n",
        "    print(name)\n",
        "    for i,j in data.items():\n",
        "      print(i,j)\n",
        "\n",
        "person('mukul', age=25, city='Ayodhya', mob=76975)"
      ]
    },
    {
      "cell_type": "markdown",
      "metadata": {
        "id": "lnEJdw-lB2p_"
      },
      "source": [
        "36 - Global Keyword in Python | Global vs Local Variable"
      ]
    },
    {
      "cell_type": "code",
      "execution_count": null,
      "metadata": {
        "colab": {
          "base_uri": "https://localhost:8080/"
        },
        "id": "rTOD628GC5U6",
        "outputId": "72c7e3d8-e0bd-43e5-d4b2-3e313caa460e"
      },
      "outputs": [
        {
          "name": "stdout",
          "output_type": "stream",
          "text": [
            "in fun  15\n",
            "Outside  10\n"
          ]
        }
      ],
      "source": [
        "a  = 10\n",
        "\n",
        "def something():\n",
        "  a = 15\n",
        "\n",
        "  print(\"in fun \",a)\n",
        "\n",
        "something()\n",
        "\n",
        "print(\"Outside \",a)\n",
        "\n"
      ]
    },
    {
      "cell_type": "code",
      "execution_count": null,
      "metadata": {
        "colab": {
          "base_uri": "https://localhost:8080/"
        },
        "id": "iiqRU5IkCAeW",
        "outputId": "ca732543-5262-4896-a24e-d7e5f756db36"
      },
      "outputs": [
        {
          "name": "stdout",
          "output_type": "stream",
          "text": [
            "Inside  15\n",
            "Outside  10\n",
            "10\n"
          ]
        }
      ],
      "source": [
        "a = 10\n",
        "\n",
        "def something():\n",
        "  a = 15\n",
        "  print(\"Inside \",a)\n",
        "\n",
        "something()\n",
        "print(\"Outside \",a)\n",
        "\n",
        "\n",
        "print(a)"
      ]
    },
    {
      "cell_type": "code",
      "execution_count": null,
      "metadata": {
        "colab": {
          "base_uri": "https://localhost:8080/"
        },
        "id": "RlSgW0Y3DVQd",
        "outputId": "dc7d9713-af80-4e7e-8c88-bf89d5cdade5"
      },
      "outputs": [
        {
          "name": "stdout",
          "output_type": "stream",
          "text": [
            "in fun  15\n",
            "Outside  15\n"
          ]
        }
      ],
      "source": [
        "a  = 10\n",
        "\n",
        "def something():\n",
        "  global a\n",
        "  a = 15\n",
        "\n",
        "  print(\"in fun \",a)\n",
        "\n",
        "something()\n",
        "\n",
        "print(\"Outside \",a)\n"
      ]
    },
    {
      "cell_type": "code",
      "execution_count": null,
      "metadata": {
        "colab": {
          "base_uri": "https://localhost:8080/"
        },
        "id": "P11J8qp9Dv_I",
        "outputId": "e07c2469-f612-49b5-8727-da3c83732586"
      },
      "outputs": [
        {
          "name": "stdout",
          "output_type": "stream",
          "text": [
            "10758024\n",
            "10758024\n",
            "in fun  9\n",
            "Outside  10\n"
          ]
        }
      ],
      "source": [
        "a  = 10\n",
        "print(id(a))\n",
        "\n",
        "def something():\n",
        "\n",
        "  a = 9\n",
        "\n",
        "  x = globals()['a']\n",
        "\n",
        "  print(id(x))\n",
        "\n",
        "  print(\"in fun \",a)\n",
        "\n",
        "something()\n",
        "\n",
        "print(\"Outside \",a)\n",
        "\n"
      ]
    },
    {
      "cell_type": "code",
      "execution_count": null,
      "metadata": {
        "colab": {
          "base_uri": "https://localhost:8080/"
        },
        "id": "V3GojbvFERfn",
        "outputId": "19bd1a84-ce47-41ca-8f7f-34f1782f14f5"
      },
      "outputs": [
        {
          "name": "stdout",
          "output_type": "stream",
          "text": [
            "10758024\n",
            "10758024\n",
            "in fun  9\n",
            "Outside  15\n"
          ]
        }
      ],
      "source": [
        "a  = 10\n",
        "print(id(a))\n",
        "\n",
        "def something():\n",
        "\n",
        "  a = 9\n",
        "\n",
        "  x = globals()['a']\n",
        "\n",
        "  print(id(x))\n",
        "\n",
        "  print(\"in fun \",a)\n",
        "\n",
        "  globals()['a'] = 15\n",
        "\n",
        "something()\n",
        "\n",
        "print(\"Outside \",a)\n",
        "\n"
      ]
    },
    {
      "cell_type": "markdown",
      "metadata": {
        "id": "RPfoKVj7E6Ak"
      },
      "source": [
        "37 - Pass List to a Function in Python"
      ]
    },
    {
      "cell_type": "code",
      "execution_count": null,
      "metadata": {
        "colab": {
          "base_uri": "https://localhost:8080/"
        },
        "id": "p3DM2u3hG6hf",
        "outputId": "cef0aa47-8b6a-4560-dbb4-40010f8623ea"
      },
      "outputs": [
        {
          "name": "stdout",
          "output_type": "stream",
          "text": [
            "Even: 4 and Odd: 5\n"
          ]
        }
      ],
      "source": [
        "\n",
        "def count(lst):\n",
        "  even = 0\n",
        "  odd = 0\n",
        "  for i in lst:\n",
        "    if i%2==0:\n",
        "      even+=1\n",
        "    else:\n",
        "      odd+=1\n",
        "  return even, odd\n",
        "\n",
        "lst = {1,2,3,4,5,6,7,8,9}\n",
        "\n",
        "even, odd = count(lst)\n",
        "\n",
        "print(\"Even: {} and Odd: {}\".format(even, odd))"
      ]
    },
    {
      "cell_type": "markdown",
      "metadata": {
        "id": "TuU65m8ZFTo9"
      },
      "source": [
        "Count Odd and Even Numbers from a User Input List"
      ]
    },
    {
      "cell_type": "code",
      "execution_count": null,
      "metadata": {
        "colab": {
          "base_uri": "https://localhost:8080/"
        },
        "id": "ZfVisyD2Fdbi",
        "outputId": "5192e3cf-0ec3-408a-e01f-ba9d064d2860"
      },
      "outputs": [
        {
          "name": "stdout",
          "output_type": "stream",
          "text": [
            "Enter numbers (space-separated): 11 23 45 67 89 98\n",
            "Even: 1 and Odd: 5\n"
          ]
        }
      ],
      "source": [
        "def count(lst):\n",
        "    even = 0\n",
        "    odd = 0\n",
        "    for i in lst:\n",
        "        if i % 2 == 0:\n",
        "            even += 1\n",
        "        else:\n",
        "            odd += 1\n",
        "    return even, odd\n",
        "\n",
        "nums = input(\"Enter numbers (space-separated): \")\n",
        "\n",
        "nums = nums.split()\n",
        "nums = [int(n) for n in nums]\n",
        "\n",
        "even, odd = count(nums)\n",
        "\n",
        "print(\"Even: {} and Odd: {}\".format(even, odd))\n"
      ]
    },
    {
      "cell_type": "markdown",
      "metadata": {
        "id": "ZEzF7y50IUzS"
      },
      "source": [
        "Assignment - Take 10 Names from user and count and display the number of users name has more than 5 letters"
      ]
    },
    {
      "cell_type": "code",
      "execution_count": null,
      "metadata": {
        "colab": {
          "base_uri": "https://localhost:8080/"
        },
        "id": "Z8QwxJbdQx9t",
        "outputId": "2f2e9c51-fbeb-4f3d-8934-b04d0d9dba31"
      },
      "outputs": [
        {
          "name": "stdout",
          "output_type": "stream",
          "text": [
            "Enter name 1: Mukul\n",
            "Enter name 2: Shubham\n",
            "Enter name 3: Saurabh\n",
            "Enter name 4: Akshat\n",
            "Enter name 5: Shivam\n",
            "Enter name 6: Rishi\n",
            "Enter name 7: Rishabh\n",
            "Enter name 8: Harshit\n",
            "Enter name 9: Tushar\n",
            "Enter name 10: Ram\n",
            "Number of names with more than 5 letters: 7\n"
          ]
        }
      ],
      "source": [
        "names = []\n",
        "\n",
        "for i in range(10):\n",
        "    name = input(f\"Enter name {i+1}: \")\n",
        "    names.append(name)\n",
        "\n",
        "count = 0\n",
        "for n in names:\n",
        "    if len(n) > 5:\n",
        "        count += 1\n",
        "\n",
        "print(\"Number of names with more than 5 letters:\", count)"
      ]
    },
    {
      "cell_type": "code",
      "execution_count": null,
      "metadata": {
        "colab": {
          "base_uri": "https://localhost:8080/"
        },
        "collapsed": true,
        "id": "ZcBsZ25aIUgz",
        "outputId": "4260928f-caf1-430d-a57f-afa1898751ea"
      },
      "outputs": [
        {
          "name": "stdout",
          "output_type": "stream",
          "text": [
            "Enter name 1: Shubham\n",
            "Enter name 2: Shivam\n",
            "Enter name 3: Mukul\n",
            "Enter name 4: Praveen\n",
            "Enter name 5: Telusko\n",
            "Enter name 6: Rishabh\n",
            "Enter name 7: Harshit\n",
            "Enter name 8: Shyam\n",
            "Enter name 9: Saurabh\n",
            "Enter name 10: Prajjwal\n",
            "Number of names with more than 5 letters: 8\n"
          ]
        }
      ],
      "source": [
        "def count_names_longer_than_five():\n",
        "  long_names_count = 0\n",
        "  for i in range(10):\n",
        "    name = input(f\"Enter name {i + 1}: \")\n",
        "    if len(name) > 5:\n",
        "      long_names_count += 1\n",
        "  print(f\"Number of names with more than 5 letters: {long_names_count}\")\n",
        "\n",
        "count_names_longer_than_five()\n"
      ]
    },
    {
      "cell_type": "markdown",
      "metadata": {
        "id": "uI4CoZovJQOq"
      },
      "source": [
        "38 - Fibonacci Sequence"
      ]
    },
    {
      "cell_type": "code",
      "execution_count": null,
      "metadata": {
        "colab": {
          "base_uri": "https://localhost:8080/"
        },
        "id": "nqm4WSYCJTYU",
        "outputId": "8937b2dd-bc6b-480e-9550-adea50312fd2"
      },
      "outputs": [
        {
          "name": "stdout",
          "output_type": "stream",
          "text": [
            "0\n",
            "1\n",
            "1\n",
            "2\n",
            "3\n",
            "5\n",
            "8\n",
            "13\n",
            "21\n",
            "34\n"
          ]
        }
      ],
      "source": [
        "def fib(n):\n",
        "\n",
        "  a = 0\n",
        "  b = 1\n",
        "\n",
        "  if n==1:\n",
        "    print(a)\n",
        "  else:\n",
        "    print(a)\n",
        "    print(b)\n",
        "\n",
        "    for i in range(2,n):\n",
        "      c = a + b\n",
        "      a = b\n",
        "      b = c\n",
        "      print(c)\n",
        "\n",
        "fib(10)"
      ]
    },
    {
      "cell_type": "markdown",
      "metadata": {
        "id": "yj9xpfGyWJo4"
      },
      "source": [
        "Assignment: 1 - Fibonacci Series with Check for Negative Input"
      ]
    },
    {
      "cell_type": "code",
      "execution_count": null,
      "metadata": {
        "colab": {
          "base_uri": "https://localhost:8080/"
        },
        "id": "mfCb6jgwVXM5",
        "outputId": "3e8f0aed-a04c-4606-b3d6-f45b575262c5"
      },
      "outputs": [
        {
          "name": "stdout",
          "output_type": "stream",
          "text": [
            "Enter a number: 6\n",
            "0\n",
            "1\n",
            "1\n",
            "2\n",
            "3\n",
            "5\n"
          ]
        }
      ],
      "source": [
        "def fib(num):\n",
        "  a = 0\n",
        "  b = 1\n",
        "\n",
        "  if num <= 0:\n",
        "    print(\"Please enter a positive integer.\")\n",
        "  elif num == 1:\n",
        "    print(a)\n",
        "  else:\n",
        "    print(a)\n",
        "    print(b)\n",
        "\n",
        "    for i in range(2, num):\n",
        "      c = a + b\n",
        "      a = b\n",
        "      b = c\n",
        "      print(c)\n",
        "\n",
        "num = input(\"Enter a number: \")\n",
        "try:\n",
        "    num = int(num)\n",
        "    fib(num)\n",
        "except ValueError:\n",
        "    print(\"Invalid input. Please enter an integer.\")"
      ]
    },
    {
      "cell_type": "markdown",
      "metadata": {
        "id": "4JRGJygPYYMp"
      },
      "source": [
        "Assignment: 2 - Print Fibonacci numbers that are less than the number entered by the user"
      ]
    },
    {
      "cell_type": "code",
      "execution_count": null,
      "metadata": {
        "colab": {
          "base_uri": "https://localhost:8080/"
        },
        "id": "1XxtWJjqY304",
        "outputId": "5db51d56-59cb-4ceb-ce03-1b0e6a599ac5"
      },
      "outputs": [
        {
          "name": "stdout",
          "output_type": "stream",
          "text": [
            "Enter a number: 100\n",
            "0\n",
            "1\n",
            "1\n",
            "2\n",
            "3\n",
            "5\n",
            "8\n",
            "13\n",
            "21\n",
            "34\n",
            "55\n",
            "89\n"
          ]
        }
      ],
      "source": [
        "def fib(num):\n",
        "    if num <= 0:\n",
        "        print(\"Please enter a positive number.\")\n",
        "        return\n",
        "\n",
        "    a = 0\n",
        "    b = 1\n",
        "\n",
        "    while a < num:\n",
        "        print(a)\n",
        "        c = a + b\n",
        "        a = b\n",
        "        b = c\n",
        "\n",
        "num = input(\"Enter a number: \")\n",
        "try:\n",
        "    num = int(num)\n",
        "    fib(num)\n",
        "except ValueError:\n",
        "    print(\"Invalid input. Please enter an integer.\")\n"
      ]
    },
    {
      "cell_type": "markdown",
      "metadata": {
        "id": "XYlifA3PbkwK"
      },
      "source": [
        "39 - Factorial"
      ]
    },
    {
      "cell_type": "code",
      "execution_count": null,
      "metadata": {
        "colab": {
          "base_uri": "https://localhost:8080/"
        },
        "id": "j4N3TlwabplQ",
        "outputId": "64481c9c-1bbd-4bb1-f6c9-94e1a870ca6a"
      },
      "outputs": [
        {
          "name": "stdout",
          "output_type": "stream",
          "text": [
            "24\n"
          ]
        }
      ],
      "source": [
        "def fact(n):\n",
        "\n",
        "  f = 1\n",
        "\n",
        "  for i in range(1,n+1):\n",
        "    f = f*i\n",
        "\n",
        "  return f\n",
        "\n",
        "x = 4\n",
        "\n",
        "result = fact(x)\n",
        "\n",
        "print(result)"
      ]
    },
    {
      "cell_type": "markdown",
      "metadata": {
        "id": "Pa5NPWjGe9oa"
      },
      "source": [
        "40 - Recurrsion"
      ]
    },
    {
      "cell_type": "code",
      "execution_count": null,
      "metadata": {
        "colab": {
          "base_uri": "https://localhost:8080/",
          "height": 1000
        },
        "collapsed": true,
        "id": "W_cQ3DRqfOrG",
        "outputId": "76d2e30b-12cd-4cbd-9d42-856a9a6abde5"
      },
      "outputs": [
        {
          "name": "stdout",
          "output_type": "stream",
          "text": [
            "2000\n",
            "Hello 1\n",
            "Hello 2\n",
            "Hello 3\n",
            "Hello 4\n",
            "Hello 5\n",
            "Hello 6\n",
            "Hello 7\n",
            "Hello 8\n",
            "Hello 9\n",
            "Hello 10\n",
            "Hello 11\n",
            "Hello 12\n",
            "Hello 13\n",
            "Hello 14\n",
            "Hello 15\n",
            "Hello 16\n",
            "Hello 17\n",
            "Hello 18\n",
            "Hello 19\n",
            "Hello 20\n",
            "Hello 21\n",
            "Hello 22\n",
            "Hello 23\n",
            "Hello 24\n",
            "Hello 25\n",
            "Hello 26\n",
            "Hello 27\n",
            "Hello 28\n",
            "Hello 29\n",
            "Hello 30\n",
            "Hello 31\n",
            "Hello 32\n",
            "Hello 33\n",
            "Hello 34\n",
            "Hello 35\n",
            "Hello 36\n",
            "Hello 37\n",
            "Hello 38\n",
            "Hello 39\n",
            "Hello 40\n",
            "Hello 41\n",
            "Hello 42\n",
            "Hello 43\n",
            "Hello 44\n",
            "Hello 45\n",
            "Hello 46\n",
            "Hello 47\n",
            "Hello 48\n",
            "Hello 49\n",
            "Hello 50\n",
            "Hello 51\n",
            "Hello 52\n",
            "Hello 53\n",
            "Hello 54\n",
            "Hello 55\n",
            "Hello 56\n",
            "Hello 57\n",
            "Hello 58\n",
            "Hello 59\n",
            "Hello 60\n",
            "Hello 61\n",
            "Hello 62\n",
            "Hello 63\n",
            "Hello 64\n",
            "Hello 65\n",
            "Hello 66\n",
            "Hello 67\n",
            "Hello 68\n",
            "Hello 69\n",
            "Hello 70\n",
            "Hello 71\n",
            "Hello 72\n",
            "Hello 73\n",
            "Hello 74\n",
            "Hello 75\n",
            "Hello 76\n",
            "Hello 77\n",
            "Hello 78\n",
            "Hello 79\n",
            "Hello 80\n",
            "Hello 81\n",
            "Hello 82\n",
            "Hello 83\n",
            "Hello 84\n",
            "Hello 85\n",
            "Hello 86\n",
            "Hello 87\n",
            "Hello 88\n",
            "Hello 89\n",
            "Hello 90\n",
            "Hello 91\n",
            "Hello 92\n",
            "Hello 93\n",
            "Hello 94\n",
            "Hello 95\n",
            "Hello 96\n",
            "Hello 97\n",
            "Hello 98\n",
            "Hello 99\n",
            "Hello 100\n",
            "Hello 101\n",
            "Hello 102\n",
            "Hello 103\n",
            "Hello 104\n",
            "Hello 105\n",
            "Hello 106\n",
            "Hello 107\n",
            "Hello 108\n",
            "Hello 109\n",
            "Hello 110\n",
            "Hello 111\n",
            "Hello 112\n",
            "Hello 113\n",
            "Hello 114\n",
            "Hello 115\n",
            "Hello 116\n",
            "Hello 117\n",
            "Hello 118\n",
            "Hello 119\n",
            "Hello 120\n",
            "Hello 121\n",
            "Hello 122\n",
            "Hello 123\n",
            "Hello 124\n",
            "Hello 125\n",
            "Hello 126\n",
            "Hello 127\n",
            "Hello 128\n",
            "Hello 129\n",
            "Hello 130\n",
            "Hello 131\n",
            "Hello 132\n",
            "Hello 133\n",
            "Hello 134\n",
            "Hello 135\n",
            "Hello 136\n",
            "Hello 137\n",
            "Hello 138\n",
            "Hello 139\n",
            "Hello 140\n",
            "Hello 141\n",
            "Hello 142\n",
            "Hello 143\n",
            "Hello 144\n",
            "Hello 145\n",
            "Hello 146\n",
            "Hello 147\n",
            "Hello 148\n",
            "Hello 149\n",
            "Hello 150\n",
            "Hello 151\n",
            "Hello 152\n",
            "Hello 153\n",
            "Hello 154\n",
            "Hello 155\n",
            "Hello 156\n",
            "Hello 157\n",
            "Hello 158\n",
            "Hello 159\n",
            "Hello 160\n",
            "Hello 161\n",
            "Hello 162\n",
            "Hello 163\n",
            "Hello 164\n",
            "Hello 165\n",
            "Hello 166\n",
            "Hello 167\n",
            "Hello 168\n",
            "Hello 169\n",
            "Hello 170\n",
            "Hello 171\n",
            "Hello 172\n",
            "Hello 173\n",
            "Hello 174\n",
            "Hello 175\n",
            "Hello 176\n",
            "Hello 177\n",
            "Hello 178\n",
            "Hello 179\n",
            "Hello 180\n",
            "Hello 181\n",
            "Hello 182\n",
            "Hello 183\n",
            "Hello 184\n",
            "Hello 185\n",
            "Hello 186\n",
            "Hello 187\n",
            "Hello 188\n",
            "Hello 189\n",
            "Hello 190\n",
            "Hello 191\n",
            "Hello 192\n",
            "Hello 193\n",
            "Hello 194\n",
            "Hello 195\n",
            "Hello 196\n",
            "Hello 197\n",
            "Hello 198\n",
            "Hello 199\n",
            "Hello 200\n",
            "Hello 201\n",
            "Hello 202\n",
            "Hello 203\n",
            "Hello 204\n",
            "Hello 205\n",
            "Hello 206\n",
            "Hello 207\n",
            "Hello 208\n",
            "Hello 209\n",
            "Hello 210\n",
            "Hello 211\n",
            "Hello 212\n",
            "Hello 213\n",
            "Hello 214\n",
            "Hello 215\n",
            "Hello 216\n",
            "Hello 217\n",
            "Hello 218\n",
            "Hello 219\n",
            "Hello 220\n",
            "Hello 221\n",
            "Hello 222\n",
            "Hello 223\n",
            "Hello 224\n",
            "Hello 225\n",
            "Hello 226\n",
            "Hello 227\n",
            "Hello 228\n",
            "Hello 229\n",
            "Hello 230\n",
            "Hello 231\n",
            "Hello 232\n",
            "Hello 233\n",
            "Hello 234\n",
            "Hello 235\n",
            "Hello 236\n",
            "Hello 237\n",
            "Hello 238\n",
            "Hello 239\n",
            "Hello 240\n",
            "Hello 241\n",
            "Hello 242\n",
            "Hello 243\n",
            "Hello 244\n",
            "Hello 245\n",
            "Hello 246\n",
            "Hello 247\n",
            "Hello 248\n",
            "Hello 249\n",
            "Hello 250\n",
            "Hello 251\n",
            "Hello 252\n",
            "Hello 253\n",
            "Hello 254\n",
            "Hello 255\n",
            "Hello 256\n",
            "Hello 257\n",
            "Hello 258\n",
            "Hello 259\n",
            "Hello 260\n",
            "Hello 261\n",
            "Hello 262\n",
            "Hello 263\n",
            "Hello 264\n",
            "Hello 265\n",
            "Hello 266\n",
            "Hello 267\n",
            "Hello 268\n",
            "Hello 269\n",
            "Hello 270\n",
            "Hello 271\n",
            "Hello 272\n",
            "Hello 273\n",
            "Hello 274\n",
            "Hello 275\n",
            "Hello 276\n",
            "Hello 277\n",
            "Hello 278\n",
            "Hello 279\n",
            "Hello 280\n",
            "Hello 281\n",
            "Hello 282\n",
            "Hello 283\n",
            "Hello 284\n",
            "Hello 285\n",
            "Hello 286\n",
            "Hello 287\n",
            "Hello 288\n",
            "Hello 289\n",
            "Hello 290\n",
            "Hello 291\n",
            "Hello 292\n",
            "Hello 293\n",
            "Hello 294\n",
            "Hello 295\n",
            "Hello 296\n",
            "Hello 297\n",
            "Hello 298\n",
            "Hello 299\n",
            "Hello 300\n",
            "Hello 301\n",
            "Hello 302\n",
            "Hello 303\n",
            "Hello 304\n",
            "Hello 305\n",
            "Hello 306\n",
            "Hello 307\n",
            "Hello 308\n",
            "Hello 309\n",
            "Hello 310\n",
            "Hello 311\n",
            "Hello 312\n",
            "Hello 313\n",
            "Hello 314\n",
            "Hello 315\n",
            "Hello 316\n",
            "Hello 317\n",
            "Hello 318\n",
            "Hello 319\n",
            "Hello 320\n",
            "Hello 321\n",
            "Hello 322\n",
            "Hello 323\n",
            "Hello 324\n",
            "Hello 325\n",
            "Hello 326\n",
            "Hello 327\n",
            "Hello 328\n",
            "Hello 329\n",
            "Hello 330\n",
            "Hello 331\n",
            "Hello 332\n",
            "Hello 333\n",
            "Hello 334\n",
            "Hello 335\n",
            "Hello 336\n",
            "Hello 337\n",
            "Hello 338\n",
            "Hello 339\n",
            "Hello 340\n",
            "Hello 341\n",
            "Hello 342\n",
            "Hello 343\n",
            "Hello 344\n",
            "Hello 345\n",
            "Hello 346\n",
            "Hello 347\n",
            "Hello 348\n",
            "Hello 349\n",
            "Hello 350\n",
            "Hello 351\n",
            "Hello 352\n",
            "Hello 353\n",
            "Hello 354\n",
            "Hello 355\n",
            "Hello 356\n",
            "Hello 357\n",
            "Hello 358\n",
            "Hello 359\n",
            "Hello 360\n",
            "Hello 361\n",
            "Hello 362\n",
            "Hello 363\n",
            "Hello 364\n",
            "Hello 365\n",
            "Hello 366\n",
            "Hello 367\n",
            "Hello 368\n",
            "Hello 369\n",
            "Hello 370\n",
            "Hello 371\n",
            "Hello 372\n",
            "Hello 373\n",
            "Hello 374\n",
            "Hello 375\n",
            "Hello 376\n",
            "Hello 377\n",
            "Hello 378\n",
            "Hello 379\n",
            "Hello 380\n",
            "Hello 381\n",
            "Hello 382\n",
            "Hello 383\n",
            "Hello 384\n",
            "Hello 385\n",
            "Hello 386\n",
            "Hello 387\n",
            "Hello 388\n",
            "Hello 389\n",
            "Hello 390\n",
            "Hello 391\n",
            "Hello 392\n",
            "Hello 393\n",
            "Hello 394\n",
            "Hello 395\n",
            "Hello 396\n",
            "Hello 397\n",
            "Hello 398\n",
            "Hello 399\n",
            "Hello 400\n",
            "Hello 401\n",
            "Hello 402\n",
            "Hello 403\n",
            "Hello 404\n",
            "Hello 405\n",
            "Hello 406\n",
            "Hello 407\n",
            "Hello 408\n",
            "Hello 409\n",
            "Hello 410\n",
            "Hello 411\n",
            "Hello 412\n",
            "Hello 413\n",
            "Hello 414\n",
            "Hello 415\n",
            "Hello 416\n",
            "Hello 417\n",
            "Hello 418\n",
            "Hello 419\n",
            "Hello 420\n",
            "Hello 421\n",
            "Hello 422\n",
            "Hello 423\n",
            "Hello 424\n",
            "Hello 425\n",
            "Hello 426\n",
            "Hello 427\n",
            "Hello 428\n",
            "Hello 429\n",
            "Hello 430\n",
            "Hello 431\n",
            "Hello 432\n",
            "Hello 433\n",
            "Hello 434\n",
            "Hello 435\n",
            "Hello 436\n",
            "Hello 437\n",
            "Hello 438\n",
            "Hello 439\n",
            "Hello 440\n",
            "Hello 441\n",
            "Hello 442\n",
            "Hello 443\n",
            "Hello 444\n",
            "Hello 445\n",
            "Hello 446\n",
            "Hello 447\n",
            "Hello 448\n",
            "Hello 449\n",
            "Hello 450\n",
            "Hello 451\n",
            "Hello 452\n",
            "Hello 453\n",
            "Hello 454\n",
            "Hello 455\n",
            "Hello 456\n",
            "Hello 457\n",
            "Hello 458\n",
            "Hello 459\n",
            "Hello 460\n",
            "Hello 461\n",
            "Hello 462\n",
            "Hello 463\n",
            "Hello 464\n",
            "Hello 465\n",
            "Hello 466\n",
            "Hello 467\n",
            "Hello 468\n",
            "Hello 469\n",
            "Hello 470\n",
            "Hello 471\n",
            "Hello 472\n",
            "Hello 473\n",
            "Hello 474\n",
            "Hello 475\n",
            "Hello 476\n",
            "Hello 477\n",
            "Hello 478\n",
            "Hello 479\n",
            "Hello 480\n",
            "Hello 481\n",
            "Hello 482\n",
            "Hello 483\n",
            "Hello 484\n",
            "Hello 485\n",
            "Hello 486\n",
            "Hello 487\n",
            "Hello 488\n",
            "Hello 489\n",
            "Hello 490\n",
            "Hello 491\n",
            "Hello 492\n",
            "Hello 493\n",
            "Hello 494\n",
            "Hello 495\n",
            "Hello 496\n",
            "Hello 497\n",
            "Hello 498\n",
            "Hello 499\n",
            "Hello 500\n",
            "Hello 501\n",
            "Hello 502\n",
            "Hello 503\n",
            "Hello 504\n",
            "Hello 505\n",
            "Hello 506\n",
            "Hello 507\n",
            "Hello 508\n",
            "Hello 509\n",
            "Hello 510\n",
            "Hello 511\n",
            "Hello 512\n",
            "Hello 513\n",
            "Hello 514\n",
            "Hello 515\n",
            "Hello 516\n",
            "Hello 517\n",
            "Hello 518\n",
            "Hello 519\n",
            "Hello 520\n",
            "Hello 521\n",
            "Hello 522\n",
            "Hello 523\n",
            "Hello 524\n",
            "Hello 525\n",
            "Hello 526\n",
            "Hello 527\n",
            "Hello 528\n",
            "Hello 529\n",
            "Hello 530\n",
            "Hello 531\n",
            "Hello 532\n",
            "Hello 533\n",
            "Hello 534\n",
            "Hello 535\n",
            "Hello 536\n",
            "Hello 537\n",
            "Hello 538\n",
            "Hello 539\n",
            "Hello 540\n",
            "Hello 541\n",
            "Hello 542\n",
            "Hello 543\n",
            "Hello 544\n",
            "Hello 545\n",
            "Hello 546\n",
            "Hello 547\n",
            "Hello 548\n",
            "Hello 549\n",
            "Hello 550\n",
            "Hello 551\n",
            "Hello 552\n",
            "Hello 553\n",
            "Hello 554\n",
            "Hello 555\n",
            "Hello 556\n",
            "Hello 557\n",
            "Hello 558\n",
            "Hello 559\n",
            "Hello 560\n",
            "Hello 561\n",
            "Hello 562\n",
            "Hello 563\n",
            "Hello 564\n",
            "Hello 565\n",
            "Hello 566\n",
            "Hello 567\n",
            "Hello 568\n",
            "Hello 569\n",
            "Hello 570\n",
            "Hello 571\n",
            "Hello 572\n",
            "Hello 573\n",
            "Hello 574\n",
            "Hello 575\n",
            "Hello 576\n",
            "Hello 577\n",
            "Hello 578\n",
            "Hello 579\n",
            "Hello 580\n",
            "Hello 581\n",
            "Hello 582\n",
            "Hello 583\n",
            "Hello 584\n",
            "Hello 585\n",
            "Hello 586\n",
            "Hello 587\n",
            "Hello 588\n",
            "Hello 589\n",
            "Hello 590\n",
            "Hello 591\n",
            "Hello 592\n",
            "Hello 593\n",
            "Hello 594\n",
            "Hello 595\n",
            "Hello 596\n",
            "Hello 597\n",
            "Hello 598\n",
            "Hello 599\n",
            "Hello 600\n",
            "Hello 601\n",
            "Hello 602\n",
            "Hello 603\n",
            "Hello 604\n",
            "Hello 605\n",
            "Hello 606\n",
            "Hello 607\n",
            "Hello 608\n",
            "Hello 609\n",
            "Hello 610\n",
            "Hello 611\n",
            "Hello 612\n",
            "Hello 613\n",
            "Hello 614\n",
            "Hello 615\n",
            "Hello 616\n",
            "Hello 617\n",
            "Hello 618\n",
            "Hello 619\n",
            "Hello 620\n",
            "Hello 621\n",
            "Hello 622\n",
            "Hello 623\n",
            "Hello 624\n",
            "Hello 625\n",
            "Hello 626\n",
            "Hello 627\n",
            "Hello 628\n",
            "Hello 629\n",
            "Hello 630\n",
            "Hello 631\n",
            "Hello 632\n",
            "Hello 633\n",
            "Hello 634\n",
            "Hello 635\n",
            "Hello 636\n",
            "Hello 637\n",
            "Hello 638\n",
            "Hello 639\n",
            "Hello 640\n",
            "Hello 641\n",
            "Hello 642\n",
            "Hello 643\n",
            "Hello 644\n",
            "Hello 645\n",
            "Hello 646\n",
            "Hello 647\n",
            "Hello 648\n",
            "Hello 649\n",
            "Hello 650\n",
            "Hello 651\n",
            "Hello 652\n",
            "Hello 653\n",
            "Hello 654\n",
            "Hello 655\n",
            "Hello 656\n",
            "Hello 657\n",
            "Hello 658\n",
            "Hello 659\n",
            "Hello 660\n",
            "Hello 661\n",
            "Hello 662\n",
            "Hello 663\n",
            "Hello 664\n",
            "Hello 665\n",
            "Hello 666\n",
            "Hello 667\n",
            "Hello 668\n",
            "Hello 669\n",
            "Hello 670\n",
            "Hello 671\n",
            "Hello 672\n",
            "Hello 673\n",
            "Hello 674\n",
            "Hello 675\n",
            "Hello 676\n",
            "Hello 677\n",
            "Hello 678\n",
            "Hello 679\n",
            "Hello 680\n",
            "Hello 681\n",
            "Hello 682\n",
            "Hello 683\n",
            "Hello 684\n",
            "Hello 685\n",
            "Hello 686\n",
            "Hello 687\n",
            "Hello 688\n",
            "Hello 689\n",
            "Hello 690\n",
            "Hello 691\n",
            "Hello 692\n",
            "Hello 693\n",
            "Hello 694\n",
            "Hello 695\n",
            "Hello 696\n",
            "Hello 697\n",
            "Hello 698\n",
            "Hello 699\n",
            "Hello 700\n",
            "Hello 701\n",
            "Hello 702\n",
            "Hello 703\n",
            "Hello 704\n",
            "Hello 705\n",
            "Hello 706\n",
            "Hello 707\n",
            "Hello 708\n",
            "Hello 709\n",
            "Hello 710\n",
            "Hello 711\n",
            "Hello 712\n",
            "Hello 713\n",
            "Hello 714\n",
            "Hello 715\n",
            "Hello 716\n",
            "Hello 717\n",
            "Hello 718\n",
            "Hello 719\n",
            "Hello 720\n",
            "Hello 721\n",
            "Hello 722\n",
            "Hello 723\n",
            "Hello 724\n",
            "Hello 725\n",
            "Hello 726\n",
            "Hello 727\n",
            "Hello 728\n",
            "Hello 729\n",
            "Hello 730\n",
            "Hello 731\n",
            "Hello 732\n",
            "Hello 733\n",
            "Hello 734\n",
            "Hello 735\n",
            "Hello 736\n",
            "Hello 737\n",
            "Hello 738\n",
            "Hello 739\n",
            "Hello 740\n",
            "Hello 741\n",
            "Hello 742\n",
            "Hello 743\n",
            "Hello 744\n",
            "Hello 745\n",
            "Hello 746\n",
            "Hello 747\n",
            "Hello 748\n",
            "Hello 749\n",
            "Hello 750\n",
            "Hello 751\n",
            "Hello 752\n",
            "Hello 753\n",
            "Hello 754\n",
            "Hello 755\n",
            "Hello 756\n",
            "Hello 757\n",
            "Hello 758\n",
            "Hello 759\n",
            "Hello 760\n",
            "Hello 761\n",
            "Hello 762\n",
            "Hello 763\n",
            "Hello 764\n",
            "Hello 765\n",
            "Hello 766\n",
            "Hello 767\n",
            "Hello 768\n",
            "Hello 769\n",
            "Hello 770\n",
            "Hello 771\n",
            "Hello 772\n",
            "Hello 773\n",
            "Hello 774\n",
            "Hello 775\n",
            "Hello 776\n",
            "Hello 777\n",
            "Hello 778\n",
            "Hello 779\n",
            "Hello 780\n",
            "Hello 781\n",
            "Hello 782\n",
            "Hello 783\n",
            "Hello 784\n",
            "Hello 785\n",
            "Hello 786\n",
            "Hello 787\n",
            "Hello 788\n",
            "Hello 789\n",
            "Hello 790\n",
            "Hello 791\n",
            "Hello 792\n",
            "Hello 793\n",
            "Hello 794\n",
            "Hello 795\n",
            "Hello 796\n",
            "Hello 797\n",
            "Hello 798\n",
            "Hello 799\n",
            "Hello 800\n",
            "Hello 801\n",
            "Hello 802\n",
            "Hello 803\n",
            "Hello 804\n",
            "Hello 805\n",
            "Hello 806\n",
            "Hello 807\n",
            "Hello 808\n",
            "Hello 809\n",
            "Hello 810\n",
            "Hello 811\n",
            "Hello 812\n",
            "Hello 813\n",
            "Hello 814\n",
            "Hello 815\n",
            "Hello 816\n",
            "Hello 817\n",
            "Hello 818\n",
            "Hello 819\n",
            "Hello 820\n",
            "Hello 821\n",
            "Hello 822\n",
            "Hello 823\n",
            "Hello 824\n",
            "Hello 825\n",
            "Hello 826\n",
            "Hello 827\n",
            "Hello 828\n",
            "Hello 829\n",
            "Hello 830\n",
            "Hello 831\n",
            "Hello 832\n",
            "Hello 833\n",
            "Hello 834\n",
            "Hello 835\n",
            "Hello 836\n",
            "Hello 837\n",
            "Hello 838\n",
            "Hello 839\n",
            "Hello 840\n",
            "Hello 841\n",
            "Hello 842\n",
            "Hello 843\n",
            "Hello 844\n",
            "Hello 845\n",
            "Hello 846\n",
            "Hello 847\n",
            "Hello 848\n",
            "Hello 849\n",
            "Hello 850\n",
            "Hello 851\n",
            "Hello 852\n",
            "Hello 853\n",
            "Hello 854\n",
            "Hello 855\n",
            "Hello 856\n",
            "Hello 857\n",
            "Hello 858\n",
            "Hello 859\n",
            "Hello 860\n",
            "Hello 861\n",
            "Hello 862\n",
            "Hello 863\n",
            "Hello 864\n",
            "Hello 865\n",
            "Hello 866\n",
            "Hello 867\n",
            "Hello 868\n",
            "Hello 869\n",
            "Hello 870\n",
            "Hello 871\n",
            "Hello 872\n",
            "Hello 873\n",
            "Hello 874\n",
            "Hello 875\n",
            "Hello 876\n",
            "Hello 877\n",
            "Hello 878\n",
            "Hello 879\n",
            "Hello 880\n",
            "Hello 881\n",
            "Hello 882\n",
            "Hello 883\n",
            "Hello 884\n",
            "Hello 885\n",
            "Hello 886\n",
            "Hello 887\n",
            "Hello 888\n",
            "Hello 889\n",
            "Hello 890\n",
            "Hello 891\n",
            "Hello 892\n",
            "Hello 893\n",
            "Hello 894\n",
            "Hello 895\n",
            "Hello 896\n",
            "Hello 897\n",
            "Hello 898\n",
            "Hello 899\n",
            "Hello 900\n",
            "Hello 901\n",
            "Hello 902\n",
            "Hello 903\n",
            "Hello 904\n",
            "Hello 905\n",
            "Hello 906\n",
            "Hello 907\n",
            "Hello 908\n",
            "Hello 909\n",
            "Hello 910\n",
            "Hello 911\n",
            "Hello 912\n",
            "Hello 913\n",
            "Hello 914\n",
            "Hello 915\n",
            "Hello 916\n",
            "Hello 917\n",
            "Hello 918\n",
            "Hello 919\n",
            "Hello 920\n",
            "Hello 921\n",
            "Hello 922\n",
            "Hello 923\n",
            "Hello 924\n",
            "Hello 925\n",
            "Hello 926\n",
            "Hello 927\n",
            "Hello 928\n",
            "Hello 929\n",
            "Hello 930\n",
            "Hello 931\n",
            "Hello 932\n",
            "Hello 933\n",
            "Hello 934\n",
            "Hello 935\n",
            "Hello 936\n",
            "Hello 937\n",
            "Hello 938\n",
            "Hello 939\n",
            "Hello 940\n",
            "Hello 941\n",
            "Hello 942\n",
            "Hello 943\n",
            "Hello 944\n",
            "Hello 945\n",
            "Hello 946\n",
            "Hello 947\n",
            "Hello 948\n",
            "Hello 949\n",
            "Hello 950\n",
            "Hello 951\n",
            "Hello 952\n",
            "Hello 953\n",
            "Hello 954\n",
            "Hello 955\n",
            "Hello 956\n",
            "Hello 957\n",
            "Hello 958\n",
            "Hello 959\n",
            "Hello 960\n",
            "Hello 961\n",
            "Hello 962\n",
            "Hello 963\n",
            "Hello 964\n",
            "Hello 965\n",
            "Hello 966\n",
            "Hello 967\n",
            "Hello 968\n",
            "Hello 969\n",
            "Hello 970\n",
            "Hello 971\n",
            "Hello 972\n",
            "Hello 973\n",
            "Hello 974\n",
            "Hello 975\n",
            "Hello 976\n",
            "Hello 977\n",
            "Hello 978\n",
            "Hello 979\n",
            "Hello 980\n",
            "Hello 981\n",
            "Hello 982\n",
            "Hello 983\n",
            "Hello 984\n",
            "Hello 985\n",
            "Hello 986\n",
            "Hello 987\n",
            "Hello 988\n",
            "Hello 989\n",
            "Hello 990\n",
            "Hello 991\n",
            "Hello 992\n",
            "Hello 993\n",
            "Hello 994\n",
            "Hello 995\n",
            "Hello 996\n",
            "Hello 997\n",
            "Hello 998\n",
            "Hello 999\n",
            "Hello 1000\n",
            "Hello 1001\n",
            "Hello 1002\n",
            "Hello 1003\n",
            "Hello 1004\n",
            "Hello 1005\n",
            "Hello 1006\n",
            "Hello 1007\n",
            "Hello 1008\n",
            "Hello 1009\n",
            "Hello 1010\n",
            "Hello 1011\n",
            "Hello 1012\n",
            "Hello 1013\n",
            "Hello 1014\n",
            "Hello 1015\n",
            "Hello 1016\n",
            "Hello 1017\n",
            "Hello 1018\n",
            "Hello 1019\n",
            "Hello 1020\n",
            "Hello 1021\n",
            "Hello 1022\n",
            "Hello 1023\n",
            "Hello 1024\n",
            "Hello 1025\n",
            "Hello 1026\n",
            "Hello 1027\n",
            "Hello 1028\n",
            "Hello 1029\n",
            "Hello 1030\n",
            "Hello 1031\n",
            "Hello 1032\n",
            "Hello 1033\n",
            "Hello 1034\n",
            "Hello 1035\n",
            "Hello 1036\n",
            "Hello 1037\n",
            "Hello 1038\n",
            "Hello 1039\n",
            "Hello 1040\n",
            "Hello 1041\n",
            "Hello 1042\n",
            "Hello 1043\n",
            "Hello 1044\n",
            "Hello 1045\n",
            "Hello 1046\n",
            "Hello 1047\n",
            "Hello 1048\n",
            "Hello 1049\n",
            "Hello 1050\n",
            "Hello 1051\n",
            "Hello 1052\n",
            "Hello 1053\n",
            "Hello 1054\n",
            "Hello 1055\n",
            "Hello 1056\n",
            "Hello 1057\n",
            "Hello 1058\n",
            "Hello 1059\n",
            "Hello 1060\n",
            "Hello 1061\n",
            "Hello 1062\n",
            "Hello 1063\n",
            "Hello 1064\n",
            "Hello 1065\n",
            "Hello 1066\n",
            "Hello 1067\n",
            "Hello 1068\n",
            "Hello 1069\n",
            "Hello 1070\n",
            "Hello 1071\n",
            "Hello 1072\n",
            "Hello 1073\n",
            "Hello 1074\n",
            "Hello 1075\n",
            "Hello 1076\n",
            "Hello 1077\n",
            "Hello 1078\n",
            "Hello 1079\n",
            "Hello 1080\n",
            "Hello 1081\n",
            "Hello 1082\n",
            "Hello 1083\n",
            "Hello 1084\n",
            "Hello 1085\n",
            "Hello 1086\n",
            "Hello 1087\n",
            "Hello 1088\n",
            "Hello 1089\n",
            "Hello 1090\n",
            "Hello 1091\n",
            "Hello 1092\n",
            "Hello 1093\n",
            "Hello 1094\n",
            "Hello 1095\n",
            "Hello 1096\n",
            "Hello 1097\n",
            "Hello 1098\n",
            "Hello 1099\n",
            "Hello 1100\n",
            "Hello 1101\n",
            "Hello 1102\n",
            "Hello 1103\n",
            "Hello 1104\n",
            "Hello 1105\n",
            "Hello 1106\n",
            "Hello 1107\n",
            "Hello 1108\n",
            "Hello 1109\n",
            "Hello 1110\n",
            "Hello 1111\n",
            "Hello 1112\n",
            "Hello 1113\n",
            "Hello 1114\n",
            "Hello 1115\n",
            "Hello 1116\n",
            "Hello 1117\n",
            "Hello 1118\n",
            "Hello 1119\n",
            "Hello 1120\n",
            "Hello 1121\n",
            "Hello 1122\n",
            "Hello 1123\n",
            "Hello 1124\n",
            "Hello 1125\n",
            "Hello 1126\n",
            "Hello 1127\n",
            "Hello 1128\n",
            "Hello 1129\n",
            "Hello 1130\n",
            "Hello 1131\n",
            "Hello 1132\n",
            "Hello 1133\n",
            "Hello 1134\n",
            "Hello 1135\n",
            "Hello 1136\n",
            "Hello 1137\n",
            "Hello 1138\n",
            "Hello 1139\n",
            "Hello 1140\n",
            "Hello 1141\n",
            "Hello 1142\n",
            "Hello 1143\n",
            "Hello 1144\n",
            "Hello 1145\n",
            "Hello 1146\n",
            "Hello 1147\n",
            "Hello 1148\n",
            "Hello 1149\n",
            "Hello 1150\n",
            "Hello 1151\n",
            "Hello 1152\n",
            "Hello 1153\n",
            "Hello 1154\n",
            "Hello 1155\n",
            "Hello 1156\n",
            "Hello 1157\n",
            "Hello 1158\n",
            "Hello 1159\n",
            "Hello 1160\n",
            "Hello 1161\n",
            "Hello 1162\n",
            "Hello 1163\n",
            "Hello 1164\n",
            "Hello 1165\n",
            "Hello 1166\n",
            "Hello 1167\n",
            "Hello 1168\n",
            "Hello 1169\n",
            "Hello 1170\n",
            "Hello 1171\n",
            "Hello 1172\n",
            "Hello 1173\n",
            "Hello 1174\n",
            "Hello 1175\n",
            "Hello 1176\n",
            "Hello 1177\n",
            "Hello 1178\n",
            "Hello 1179\n",
            "Hello 1180\n",
            "Hello 1181\n",
            "Hello 1182\n",
            "Hello 1183\n",
            "Hello 1184\n",
            "Hello 1185\n",
            "Hello 1186\n",
            "Hello 1187\n",
            "Hello 1188\n",
            "Hello 1189\n",
            "Hello 1190\n",
            "Hello 1191\n",
            "Hello 1192\n",
            "Hello 1193\n",
            "Hello 1194\n",
            "Hello 1195\n",
            "Hello 1196\n",
            "Hello 1197\n",
            "Hello 1198\n",
            "Hello 1199\n",
            "Hello 1200\n",
            "Hello 1201\n",
            "Hello 1202\n",
            "Hello 1203\n",
            "Hello 1204\n",
            "Hello 1205\n",
            "Hello 1206\n",
            "Hello 1207\n",
            "Hello 1208\n",
            "Hello 1209\n",
            "Hello 1210\n",
            "Hello 1211\n",
            "Hello 1212\n",
            "Hello 1213\n",
            "Hello 1214\n",
            "Hello 1215\n",
            "Hello 1216\n",
            "Hello 1217\n",
            "Hello 1218\n",
            "Hello 1219\n",
            "Hello 1220\n",
            "Hello 1221\n",
            "Hello 1222\n",
            "Hello 1223\n",
            "Hello 1224\n",
            "Hello 1225\n",
            "Hello 1226\n",
            "Hello 1227\n",
            "Hello 1228\n",
            "Hello 1229\n",
            "Hello 1230\n",
            "Hello 1231\n",
            "Hello 1232\n",
            "Hello 1233\n",
            "Hello 1234\n",
            "Hello 1235\n",
            "Hello 1236\n",
            "Hello 1237\n",
            "Hello 1238\n",
            "Hello 1239\n",
            "Hello 1240\n",
            "Hello 1241\n",
            "Hello 1242\n",
            "Hello 1243\n",
            "Hello 1244\n",
            "Hello 1245\n",
            "Hello 1246\n",
            "Hello 1247\n",
            "Hello 1248\n",
            "Hello 1249\n",
            "Hello 1250\n",
            "Hello 1251\n",
            "Hello 1252\n",
            "Hello 1253\n",
            "Hello 1254\n",
            "Hello 1255\n",
            "Hello 1256\n",
            "Hello 1257\n",
            "Hello 1258\n",
            "Hello 1259\n",
            "Hello 1260\n",
            "Hello 1261\n",
            "Hello 1262\n",
            "Hello 1263\n",
            "Hello 1264\n",
            "Hello 1265\n",
            "Hello 1266\n",
            "Hello 1267\n",
            "Hello 1268\n",
            "Hello 1269\n",
            "Hello 1270\n",
            "Hello 1271\n",
            "Hello 1272\n",
            "Hello 1273\n",
            "Hello 1274\n",
            "Hello 1275\n",
            "Hello 1276\n",
            "Hello 1277\n",
            "Hello 1278\n",
            "Hello 1279\n",
            "Hello 1280\n",
            "Hello 1281\n",
            "Hello 1282\n",
            "Hello 1283\n",
            "Hello 1284\n",
            "Hello 1285\n",
            "Hello 1286\n",
            "Hello 1287\n",
            "Hello 1288\n",
            "Hello 1289\n",
            "Hello 1290\n",
            "Hello 1291\n",
            "Hello 1292\n",
            "Hello 1293\n",
            "Hello 1294\n",
            "Hello 1295\n",
            "Hello 1296\n",
            "Hello 1297\n",
            "Hello 1298\n",
            "Hello 1299\n",
            "Hello 1300\n",
            "Hello 1301\n",
            "Hello 1302\n",
            "Hello 1303\n",
            "Hello 1304\n",
            "Hello 1305\n",
            "Hello 1306\n",
            "Hello 1307\n",
            "Hello 1308\n",
            "Hello 1309\n",
            "Hello 1310\n",
            "Hello 1311\n",
            "Hello 1312\n",
            "Hello 1313\n",
            "Hello 1314\n",
            "Hello 1315\n",
            "Hello 1316\n",
            "Hello 1317\n",
            "Hello 1318\n",
            "Hello 1319\n",
            "Hello 1320\n",
            "Hello 1321\n",
            "Hello 1322\n",
            "Hello 1323\n",
            "Hello 1324\n",
            "Hello 1325\n",
            "Hello 1326\n",
            "Hello 1327\n",
            "Hello 1328\n",
            "Hello 1329\n",
            "Hello 1330\n",
            "Hello 1331\n",
            "Hello 1332\n",
            "Hello 1333\n",
            "Hello 1334\n",
            "Hello 1335\n",
            "Hello 1336\n",
            "Hello 1337\n",
            "Hello 1338\n",
            "Hello 1339\n",
            "Hello 1340\n",
            "Hello 1341\n",
            "Hello 1342\n",
            "Hello 1343\n",
            "Hello 1344\n",
            "Hello 1345\n",
            "Hello 1346\n",
            "Hello 1347\n",
            "Hello 1348\n",
            "Hello 1349\n",
            "Hello 1350\n",
            "Hello 1351\n",
            "Hello 1352\n",
            "Hello 1353\n",
            "Hello 1354\n",
            "Hello 1355\n",
            "Hello 1356\n",
            "Hello 1357\n",
            "Hello 1358\n",
            "Hello 1359\n",
            "Hello 1360\n",
            "Hello 1361\n",
            "Hello 1362\n",
            "Hello 1363\n",
            "Hello 1364\n",
            "Hello 1365\n",
            "Hello 1366\n",
            "Hello 1367\n",
            "Hello 1368\n",
            "Hello 1369\n",
            "Hello 1370\n",
            "Hello 1371\n",
            "Hello 1372\n",
            "Hello 1373\n",
            "Hello 1374\n",
            "Hello 1375\n",
            "Hello 1376\n",
            "Hello 1377\n",
            "Hello 1378\n",
            "Hello 1379\n",
            "Hello 1380\n",
            "Hello 1381\n",
            "Hello 1382\n",
            "Hello 1383\n",
            "Hello 1384\n",
            "Hello 1385\n",
            "Hello 1386\n",
            "Hello 1387\n",
            "Hello 1388\n",
            "Hello 1389\n",
            "Hello 1390\n",
            "Hello 1391\n",
            "Hello 1392\n",
            "Hello 1393\n",
            "Hello 1394\n",
            "Hello 1395\n",
            "Hello 1396\n",
            "Hello 1397\n",
            "Hello 1398\n",
            "Hello 1399\n",
            "Hello 1400\n",
            "Hello 1401\n",
            "Hello 1402\n",
            "Hello 1403\n",
            "Hello 1404\n",
            "Hello 1405\n",
            "Hello 1406\n",
            "Hello 1407\n",
            "Hello 1408\n",
            "Hello 1409\n",
            "Hello 1410\n",
            "Hello 1411\n",
            "Hello 1412\n",
            "Hello 1413\n",
            "Hello 1414\n",
            "Hello 1415\n",
            "Hello 1416\n",
            "Hello 1417\n",
            "Hello 1418\n",
            "Hello 1419\n",
            "Hello 1420\n",
            "Hello 1421\n",
            "Hello 1422\n",
            "Hello 1423\n",
            "Hello 1424\n",
            "Hello 1425\n",
            "Hello 1426\n",
            "Hello 1427\n",
            "Hello 1428\n",
            "Hello 1429\n",
            "Hello 1430\n",
            "Hello 1431\n",
            "Hello 1432\n",
            "Hello 1433\n",
            "Hello 1434\n",
            "Hello 1435\n",
            "Hello 1436\n",
            "Hello 1437\n",
            "Hello 1438\n",
            "Hello 1439\n",
            "Hello 1440\n",
            "Hello 1441\n",
            "Hello 1442\n",
            "Hello 1443\n",
            "Hello 1444\n",
            "Hello 1445\n",
            "Hello 1446\n",
            "Hello 1447\n",
            "Hello 1448\n",
            "Hello 1449\n",
            "Hello 1450\n",
            "Hello 1451\n",
            "Hello 1452\n",
            "Hello 1453\n",
            "Hello 1454\n",
            "Hello 1455\n",
            "Hello 1456\n",
            "Hello 1457\n",
            "Hello 1458\n",
            "Hello 1459\n",
            "Hello 1460\n",
            "Hello 1461\n",
            "Hello 1462\n",
            "Hello 1463\n",
            "Hello 1464\n",
            "Hello 1465\n",
            "Hello 1466\n",
            "Hello 1467\n",
            "Hello 1468\n",
            "Hello 1469\n",
            "Hello 1470\n",
            "Hello 1471\n",
            "Hello 1472\n",
            "Hello 1473\n",
            "Hello 1474\n",
            "Hello 1475\n",
            "Hello 1476\n",
            "Hello 1477\n",
            "Hello 1478\n",
            "Hello 1479\n",
            "Hello 1480\n",
            "Hello 1481\n",
            "Hello 1482\n",
            "Hello 1483\n",
            "Hello 1484\n",
            "Hello 1485\n",
            "Hello 1486\n",
            "Hello 1487\n",
            "Hello 1488\n",
            "Hello 1489\n",
            "Hello 1490\n",
            "Hello 1491\n",
            "Hello 1492\n",
            "Hello 1493\n",
            "Hello 1494\n",
            "Hello 1495\n",
            "Hello 1496\n",
            "Hello 1497\n",
            "Hello 1498\n",
            "Hello 1499\n",
            "Hello 1500\n",
            "Hello 1501\n",
            "Hello 1502\n",
            "Hello 1503\n",
            "Hello 1504\n",
            "Hello 1505\n",
            "Hello 1506\n",
            "Hello 1507\n",
            "Hello 1508\n",
            "Hello 1509\n",
            "Hello 1510\n",
            "Hello 1511\n",
            "Hello 1512\n",
            "Hello 1513\n",
            "Hello 1514\n",
            "Hello 1515\n",
            "Hello 1516\n",
            "Hello 1517\n",
            "Hello 1518\n",
            "Hello 1519\n",
            "Hello 1520\n",
            "Hello 1521\n",
            "Hello 1522\n",
            "Hello 1523\n",
            "Hello 1524\n",
            "Hello 1525\n",
            "Hello 1526\n",
            "Hello 1527\n",
            "Hello 1528\n",
            "Hello 1529\n",
            "Hello 1530\n",
            "Hello 1531\n",
            "Hello 1532\n",
            "Hello 1533\n",
            "Hello 1534\n",
            "Hello 1535\n",
            "Hello 1536\n",
            "Hello 1537\n",
            "Hello 1538\n",
            "Hello 1539\n",
            "Hello 1540\n",
            "Hello 1541\n",
            "Hello 1542\n",
            "Hello 1543\n",
            "Hello 1544\n",
            "Hello 1545\n",
            "Hello 1546\n",
            "Hello 1547\n",
            "Hello 1548\n",
            "Hello 1549\n",
            "Hello 1550\n",
            "Hello 1551\n",
            "Hello 1552\n",
            "Hello 1553\n",
            "Hello 1554\n",
            "Hello 1555\n",
            "Hello 1556\n",
            "Hello 1557\n",
            "Hello 1558\n",
            "Hello 1559\n",
            "Hello 1560\n",
            "Hello 1561\n",
            "Hello 1562\n",
            "Hello 1563\n",
            "Hello 1564\n",
            "Hello 1565\n",
            "Hello 1566\n",
            "Hello 1567\n",
            "Hello 1568\n",
            "Hello 1569\n",
            "Hello 1570\n",
            "Hello 1571\n",
            "Hello 1572\n",
            "Hello 1573\n",
            "Hello 1574\n",
            "Hello 1575\n",
            "Hello 1576\n",
            "Hello 1577\n",
            "Hello 1578\n",
            "Hello 1579\n",
            "Hello 1580\n",
            "Hello 1581\n",
            "Hello 1582\n",
            "Hello 1583\n",
            "Hello 1584\n",
            "Hello 1585\n",
            "Hello 1586\n",
            "Hello 1587\n",
            "Hello 1588\n",
            "Hello 1589\n",
            "Hello 1590\n",
            "Hello 1591\n",
            "Hello 1592\n",
            "Hello 1593\n",
            "Hello 1594\n",
            "Hello 1595\n",
            "Hello 1596\n",
            "Hello 1597\n",
            "Hello 1598\n",
            "Hello 1599\n",
            "Hello 1600\n",
            "Hello 1601\n",
            "Hello 1602\n",
            "Hello 1603\n",
            "Hello 1604\n",
            "Hello 1605\n",
            "Hello 1606\n",
            "Hello 1607\n",
            "Hello 1608\n",
            "Hello 1609\n",
            "Hello 1610\n",
            "Hello 1611\n",
            "Hello 1612\n",
            "Hello 1613\n",
            "Hello 1614\n",
            "Hello 1615\n",
            "Hello 1616\n",
            "Hello 1617\n",
            "Hello 1618\n",
            "Hello 1619\n",
            "Hello 1620\n",
            "Hello 1621\n",
            "Hello 1622\n",
            "Hello 1623\n",
            "Hello 1624\n",
            "Hello 1625\n",
            "Hello 1626\n",
            "Hello 1627\n",
            "Hello 1628\n",
            "Hello 1629\n",
            "Hello 1630\n",
            "Hello 1631\n",
            "Hello 1632\n",
            "Hello 1633\n",
            "Hello 1634\n",
            "Hello 1635\n",
            "Hello 1636\n",
            "Hello 1637\n",
            "Hello 1638\n",
            "Hello 1639\n",
            "Hello 1640\n",
            "Hello 1641\n",
            "Hello 1642\n",
            "Hello 1643\n",
            "Hello 1644\n",
            "Hello 1645\n",
            "Hello 1646\n",
            "Hello 1647\n",
            "Hello 1648\n",
            "Hello 1649\n",
            "Hello 1650\n",
            "Hello 1651\n",
            "Hello 1652\n",
            "Hello 1653\n",
            "Hello 1654\n",
            "Hello 1655\n",
            "Hello 1656\n",
            "Hello 1657\n",
            "Hello 1658\n",
            "Hello 1659\n",
            "Hello 1660\n",
            "Hello 1661\n",
            "Hello 1662\n",
            "Hello 1663\n",
            "Hello 1664\n",
            "Hello 1665\n",
            "Hello 1666\n",
            "Hello 1667\n",
            "Hello 1668\n",
            "Hello 1669\n",
            "Hello 1670\n",
            "Hello 1671\n",
            "Hello 1672\n",
            "Hello 1673\n",
            "Hello 1674\n",
            "Hello 1675\n",
            "Hello 1676\n",
            "Hello 1677\n",
            "Hello 1678\n",
            "Hello 1679\n",
            "Hello 1680\n",
            "Hello 1681\n",
            "Hello 1682\n",
            "Hello 1683\n",
            "Hello 1684\n",
            "Hello 1685\n",
            "Hello 1686\n",
            "Hello 1687\n",
            "Hello 1688\n",
            "Hello 1689\n",
            "Hello 1690\n",
            "Hello 1691\n",
            "Hello 1692\n",
            "Hello 1693\n",
            "Hello 1694\n",
            "Hello 1695\n",
            "Hello 1696\n",
            "Hello 1697\n",
            "Hello 1698\n",
            "Hello 1699\n",
            "Hello 1700\n",
            "Hello 1701\n",
            "Hello 1702\n",
            "Hello 1703\n",
            "Hello 1704\n",
            "Hello 1705\n",
            "Hello 1706\n",
            "Hello 1707\n",
            "Hello 1708\n",
            "Hello 1709\n",
            "Hello 1710\n",
            "Hello 1711\n",
            "Hello 1712\n",
            "Hello 1713\n",
            "Hello 1714\n",
            "Hello 1715\n",
            "Hello 1716\n",
            "Hello 1717\n",
            "Hello 1718\n",
            "Hello 1719\n",
            "Hello 1720\n",
            "Hello 1721\n",
            "Hello 1722\n",
            "Hello 1723\n",
            "Hello 1724\n",
            "Hello 1725\n",
            "Hello 1726\n",
            "Hello 1727\n",
            "Hello 1728\n",
            "Hello 1729\n",
            "Hello 1730\n",
            "Hello 1731\n",
            "Hello 1732\n",
            "Hello 1733\n",
            "Hello 1734\n",
            "Hello 1735\n",
            "Hello 1736\n",
            "Hello 1737\n",
            "Hello 1738\n",
            "Hello 1739\n",
            "Hello 1740\n",
            "Hello 1741\n",
            "Hello 1742\n",
            "Hello 1743\n",
            "Hello 1744\n",
            "Hello 1745\n",
            "Hello 1746\n",
            "Hello 1747\n",
            "Hello 1748\n",
            "Hello 1749\n",
            "Hello 1750\n",
            "Hello 1751\n",
            "Hello 1752\n",
            "Hello 1753\n",
            "Hello 1754\n",
            "Hello 1755\n",
            "Hello 1756\n",
            "Hello 1757\n",
            "Hello 1758\n",
            "Hello 1759\n",
            "Hello 1760\n",
            "Hello 1761\n",
            "Hello 1762\n",
            "Hello 1763\n",
            "Hello 1764\n",
            "Hello 1765\n",
            "Hello 1766\n",
            "Hello 1767\n",
            "Hello 1768\n",
            "Hello 1769\n",
            "Hello 1770\n",
            "Hello 1771\n",
            "Hello 1772\n",
            "Hello 1773\n",
            "Hello 1774\n",
            "Hello 1775\n",
            "Hello 1776\n",
            "Hello 1777\n",
            "Hello 1778\n",
            "Hello 1779\n",
            "Hello 1780\n",
            "Hello 1781\n",
            "Hello 1782\n",
            "Hello 1783\n",
            "Hello 1784\n",
            "Hello 1785\n",
            "Hello 1786\n",
            "Hello 1787\n",
            "Hello 1788\n",
            "Hello 1789\n",
            "Hello 1790\n",
            "Hello 1791\n",
            "Hello 1792\n",
            "Hello 1793\n",
            "Hello 1794\n",
            "Hello 1795\n",
            "Hello 1796\n",
            "Hello 1797\n",
            "Hello 1798\n",
            "Hello 1799\n",
            "Hello 1800\n",
            "Hello 1801\n",
            "Hello 1802\n",
            "Hello 1803\n",
            "Hello 1804\n",
            "Hello 1805\n",
            "Hello 1806\n",
            "Hello 1807\n",
            "Hello 1808\n",
            "Hello 1809\n",
            "Hello 1810\n",
            "Hello 1811\n",
            "Hello 1812\n",
            "Hello 1813\n",
            "Hello 1814\n",
            "Hello 1815\n",
            "Hello 1816\n",
            "Hello 1817\n",
            "Hello 1818\n",
            "Hello 1819\n",
            "Hello 1820\n",
            "Hello 1821\n",
            "Hello 1822\n",
            "Hello 1823\n",
            "Hello 1824\n",
            "Hello 1825\n",
            "Hello 1826\n",
            "Hello 1827\n",
            "Hello 1828\n",
            "Hello 1829\n",
            "Hello 1830\n",
            "Hello 1831\n",
            "Hello 1832\n",
            "Hello 1833\n",
            "Hello 1834\n",
            "Hello 1835\n",
            "Hello 1836\n",
            "Hello 1837\n",
            "Hello 1838\n",
            "Hello 1839\n",
            "Hello 1840\n",
            "Hello 1841\n",
            "Hello 1842\n",
            "Hello 1843\n",
            "Hello 1844\n",
            "Hello 1845\n",
            "Hello 1846\n",
            "Hello 1847\n",
            "Hello 1848\n",
            "Hello 1849\n",
            "Hello 1850\n",
            "Hello 1851\n",
            "Hello 1852\n",
            "Hello 1853\n",
            "Hello 1854\n",
            "Hello 1855\n",
            "Hello 1856\n",
            "Hello 1857\n",
            "Hello 1858\n",
            "Hello 1859\n",
            "Hello 1860\n",
            "Hello 1861\n",
            "Hello 1862\n",
            "Hello 1863\n",
            "Hello 1864\n",
            "Hello 1865\n",
            "Hello 1866\n",
            "Hello 1867\n",
            "Hello 1868\n",
            "Hello 1869\n",
            "Hello 1870\n",
            "Hello 1871\n",
            "Hello 1872\n",
            "Hello 1873\n",
            "Hello 1874\n",
            "Hello 1875\n",
            "Hello 1876\n",
            "Hello 1877\n",
            "Hello 1878\n",
            "Hello 1879\n",
            "Hello 1880\n",
            "Hello 1881\n",
            "Hello 1882\n",
            "Hello 1883\n",
            "Hello 1884\n",
            "Hello 1885\n",
            "Hello 1886\n",
            "Hello 1887\n",
            "Hello 1888\n",
            "Hello 1889\n",
            "Hello 1890\n",
            "Hello 1891\n",
            "Hello 1892\n",
            "Hello 1893\n",
            "Hello 1894\n",
            "Hello 1895\n",
            "Hello 1896\n",
            "Hello 1897\n",
            "Hello 1898\n",
            "Hello 1899\n",
            "Hello 1900\n",
            "Hello 1901\n",
            "Hello 1902\n",
            "Hello 1903\n",
            "Hello 1904\n",
            "Hello 1905\n",
            "Hello 1906\n",
            "Hello 1907\n",
            "Hello 1908\n",
            "Hello 1909\n",
            "Hello 1910\n",
            "Hello 1911\n",
            "Hello 1912\n",
            "Hello 1913\n",
            "Hello 1914\n",
            "Hello 1915\n",
            "Hello 1916\n",
            "Hello 1917\n",
            "Hello 1918\n",
            "Hello 1919\n",
            "Hello 1920\n",
            "Hello 1921\n",
            "Hello 1922\n",
            "Hello 1923\n",
            "Hello 1924\n",
            "Hello 1925\n",
            "Hello 1926\n",
            "Hello 1927\n",
            "Hello 1928\n",
            "Hello 1929\n",
            "Hello 1930\n",
            "Hello 1931\n",
            "Hello 1932\n",
            "Hello 1933\n",
            "Hello 1934\n",
            "Hello 1935\n",
            "Hello 1936\n",
            "Hello 1937\n",
            "Hello 1938\n",
            "Hello 1939\n",
            "Hello 1940\n",
            "Hello 1941\n",
            "Hello 1942\n",
            "Hello 1943\n",
            "Hello 1944\n",
            "Hello 1945\n",
            "Hello 1946\n",
            "Hello 1947\n",
            "Hello 1948\n",
            "Hello 1949\n",
            "Hello 1950\n",
            "Hello 1951\n",
            "Hello 1952\n",
            "Hello 1953\n",
            "Hello 1954\n",
            "Hello 1955\n",
            "Hello 1956\n",
            "Hello 1957\n",
            "Hello 1958\n",
            "Hello 1959\n",
            "Hello 1960\n",
            "Hello 1961\n",
            "Hello 1962\n",
            "Hello 1963\n",
            "Hello 1964\n",
            "Hello 1965\n",
            "Hello 1966\n",
            "Hello 1967\n",
            "Hello 1968\n",
            "Hello 1969\n",
            "Hello 1970\n",
            "Hello 1971\n"
          ]
        },
        {
          "ename": "RecursionError",
          "evalue": "maximum recursion depth exceeded while calling a Python object",
          "output_type": "error",
          "traceback": [
            "\u001b[0;31m---------------------------------------------------------------------------\u001b[0m",
            "\u001b[0;31mRecursionError\u001b[0m                            Traceback (most recent call last)",
            "\u001b[0;32m/tmp/ipython-input-31-2535140482.py\u001b[0m in \u001b[0;36m<cell line: 0>\u001b[0;34m()\u001b[0m\n\u001b[1;32m     13\u001b[0m   \u001b[0mgreet\u001b[0m\u001b[0;34m(\u001b[0m\u001b[0;34m)\u001b[0m\u001b[0;34m\u001b[0m\u001b[0;34m\u001b[0m\u001b[0m\n\u001b[1;32m     14\u001b[0m \u001b[0;34m\u001b[0m\u001b[0m\n\u001b[0;32m---> 15\u001b[0;31m \u001b[0mgreet\u001b[0m\u001b[0;34m(\u001b[0m\u001b[0;34m)\u001b[0m\u001b[0;34m\u001b[0m\u001b[0;34m\u001b[0m\u001b[0m\n\u001b[0m",
            "\u001b[0;32m/tmp/ipython-input-31-2535140482.py\u001b[0m in \u001b[0;36mgreet\u001b[0;34m()\u001b[0m\n\u001b[1;32m     11\u001b[0m   \u001b[0mi\u001b[0m\u001b[0;34m+=\u001b[0m\u001b[0;36m1\u001b[0m\u001b[0;34m\u001b[0m\u001b[0;34m\u001b[0m\u001b[0m\n\u001b[1;32m     12\u001b[0m   \u001b[0mprint\u001b[0m\u001b[0;34m(\u001b[0m\u001b[0;34m\"Hello\"\u001b[0m\u001b[0;34m,\u001b[0m \u001b[0mi\u001b[0m\u001b[0;34m)\u001b[0m\u001b[0;34m\u001b[0m\u001b[0;34m\u001b[0m\u001b[0m\n\u001b[0;32m---> 13\u001b[0;31m   \u001b[0mgreet\u001b[0m\u001b[0;34m(\u001b[0m\u001b[0;34m)\u001b[0m\u001b[0;34m\u001b[0m\u001b[0;34m\u001b[0m\u001b[0m\n\u001b[0m\u001b[1;32m     14\u001b[0m \u001b[0;34m\u001b[0m\u001b[0m\n\u001b[1;32m     15\u001b[0m \u001b[0mgreet\u001b[0m\u001b[0;34m(\u001b[0m\u001b[0;34m)\u001b[0m\u001b[0;34m\u001b[0m\u001b[0;34m\u001b[0m\u001b[0m\n",
            "... last 1 frames repeated, from the frame below ...\n",
            "\u001b[0;32m/tmp/ipython-input-31-2535140482.py\u001b[0m in \u001b[0;36mgreet\u001b[0;34m()\u001b[0m\n\u001b[1;32m     11\u001b[0m   \u001b[0mi\u001b[0m\u001b[0;34m+=\u001b[0m\u001b[0;36m1\u001b[0m\u001b[0;34m\u001b[0m\u001b[0;34m\u001b[0m\u001b[0m\n\u001b[1;32m     12\u001b[0m   \u001b[0mprint\u001b[0m\u001b[0;34m(\u001b[0m\u001b[0;34m\"Hello\"\u001b[0m\u001b[0;34m,\u001b[0m \u001b[0mi\u001b[0m\u001b[0;34m)\u001b[0m\u001b[0;34m\u001b[0m\u001b[0;34m\u001b[0m\u001b[0m\n\u001b[0;32m---> 13\u001b[0;31m   \u001b[0mgreet\u001b[0m\u001b[0;34m(\u001b[0m\u001b[0;34m)\u001b[0m\u001b[0;34m\u001b[0m\u001b[0;34m\u001b[0m\u001b[0m\n\u001b[0m\u001b[1;32m     14\u001b[0m \u001b[0;34m\u001b[0m\u001b[0m\n\u001b[1;32m     15\u001b[0m \u001b[0mgreet\u001b[0m\u001b[0;34m(\u001b[0m\u001b[0;34m)\u001b[0m\u001b[0;34m\u001b[0m\u001b[0;34m\u001b[0m\u001b[0m\n",
            "\u001b[0;31mRecursionError\u001b[0m: maximum recursion depth exceeded while calling a Python object"
          ]
        }
      ],
      "source": [
        "import sys\n",
        "\n",
        "sys.setrecursionlimit(2000)\n",
        "\n",
        "print(sys.getrecursionlimit())\n",
        "\n",
        "i = 0\n",
        "\n",
        "def greet():\n",
        "  global i\n",
        "  i+=1\n",
        "  print(\"Hello\", i)\n",
        "  greet()\n",
        "\n",
        "greet()"
      ]
    },
    {
      "cell_type": "markdown",
      "metadata": {
        "id": "kCpsgAKJhNt-"
      },
      "source": [
        "41 -  Factorial using Recurrsion"
      ]
    },
    {
      "cell_type": "code",
      "execution_count": null,
      "metadata": {
        "colab": {
          "base_uri": "https://localhost:8080/"
        },
        "id": "rFKURRpchY9-",
        "outputId": "7dcbd1cc-830d-4b18-d7ba-bf58de943f7b"
      },
      "outputs": [
        {
          "name": "stdout",
          "output_type": "stream",
          "text": [
            "120\n"
          ]
        }
      ],
      "source": [
        "def fact(n):\n",
        "  if n==0:\n",
        "    return 1\n",
        "\n",
        "  return n * fact(n-1)\n",
        "\n",
        "result = fact(5)\n",
        "\n",
        "print(result)"
      ]
    },
    {
      "cell_type": "markdown",
      "metadata": {
        "id": "FirEFw237BmN"
      },
      "source": [
        "42 - Anonymous Functions | Lambda"
      ]
    },
    {
      "cell_type": "code",
      "execution_count": null,
      "metadata": {
        "colab": {
          "base_uri": "https://localhost:8080/"
        },
        "id": "ImfUplgX7EYy",
        "outputId": "09885b3d-1341-409b-9b3b-58e4b97176d7"
      },
      "outputs": [
        {
          "name": "stdout",
          "output_type": "stream",
          "text": [
            "25\n"
          ]
        }
      ],
      "source": [
        "f = lambda a : a*a\n",
        "\n",
        "result = f(5)\n",
        "\n",
        "print(result)"
      ]
    },
    {
      "cell_type": "code",
      "execution_count": null,
      "metadata": {
        "colab": {
          "base_uri": "https://localhost:8080/"
        },
        "id": "ZecG0BAR8y-V",
        "outputId": "60989a61-c045-4e17-b2e0-881ef9efeae7"
      },
      "outputs": [
        {
          "name": "stdout",
          "output_type": "stream",
          "text": [
            "11\n"
          ]
        }
      ],
      "source": [
        "f = lambda a,b : a+b\n",
        "\n",
        "result = f(5,6)\n",
        "\n",
        "print(result)"
      ]
    },
    {
      "cell_type": "markdown",
      "metadata": {
        "id": "YHmnlFys9V6l"
      },
      "source": [
        "43 - Filter Map Reduce"
      ]
    },
    {
      "cell_type": "code",
      "execution_count": null,
      "metadata": {
        "colab": {
          "base_uri": "https://localhost:8080/"
        },
        "id": "4qFCaLWU9ZkA",
        "outputId": "468e06e9-81dc-47ed-95ab-3a037d660dd0"
      },
      "outputs": [
        {
          "name": "stdout",
          "output_type": "stream",
          "text": [
            "[4, 12, 8, 16, 4, 12]\n"
          ]
        }
      ],
      "source": [
        "nums = [3,2,6,4,8,2,6,9]\n",
        "\n",
        "evens = list(filter(lambda n: n%2==0, nums))\n",
        "\n",
        "doubles = list(map(lambda n: n*2, evens))\n",
        "\n",
        "# print(evens)\n",
        "print(doubles)"
      ]
    },
    {
      "cell_type": "code",
      "execution_count": null,
      "metadata": {
        "colab": {
          "base_uri": "https://localhost:8080/"
        },
        "id": "acZgGt10Tp2s",
        "outputId": "f8e73081-fc40-4a3d-f63d-9f3fcb9a3f9b"
      },
      "outputs": [
        {
          "name": "stdout",
          "output_type": "stream",
          "text": [
            "[2, 6, 4, 8, 2, 6]\n",
            "[4, 12, 8, 16, 4, 12]\n",
            "56\n"
          ]
        }
      ],
      "source": [
        "from functools import reduce\n",
        "\n",
        "# def add_all(a,b):\n",
        "#   return a+b\n",
        "\n",
        "nums = [3,2,6,4,8,2,6,9]\n",
        "\n",
        "evens = list(filter(lambda n: n%2==0, nums))\n",
        "\n",
        "doubles = list(map(lambda n: n*2, evens))\n",
        "\n",
        "# sum = reduce(add_all,doubles)\n",
        "\n",
        "sum = reduce(lambda a,b : a+b,doubles)\n",
        "\n",
        "print(evens)\n",
        "print(doubles)\n",
        "print(sum)"
      ]
    },
    {
      "cell_type": "markdown",
      "metadata": {
        "id": "kG8ioQooUwRP"
      },
      "source": [
        "44 - Decorators"
      ]
    },
    {
      "cell_type": "code",
      "execution_count": null,
      "metadata": {
        "colab": {
          "base_uri": "https://localhost:8080/"
        },
        "id": "-7eXN-OhU0T7",
        "outputId": "80a9bbc5-fa08-4180-d017-9948b25be36a"
      },
      "outputs": [
        {
          "name": "stdout",
          "output_type": "stream",
          "text": [
            "2.0\n"
          ]
        }
      ],
      "source": [
        "def div(a,b):\n",
        "  print(a/b)\n",
        "\n",
        "def smart_div(func):\n",
        "\n",
        "  def inner(a,b):\n",
        "    if a<b:\n",
        "      a,b = b,a\n",
        "    return func(a,b)\n",
        "\n",
        "  return inner\n",
        "\n",
        "div = smart_div(div)\n",
        "\n",
        "div(2,4)"
      ]
    },
    {
      "cell_type": "markdown",
      "metadata": {
        "id": "sugOw1FbZQHJ"
      },
      "source": [
        "45 - Modules"
      ]
    },
    {
      "cell_type": "code",
      "execution_count": null,
      "metadata": {
        "id": "tzNZdng7ZYEV"
      },
      "outputs": [],
      "source": [
        "def add(a,b):\n",
        "  return a+b\n",
        "\n",
        "def sub(a,b):\n",
        "  return a-b\n",
        "\n",
        "def multi(a,b):\n",
        "  return a*b\n",
        "\n",
        "def div(a,b):\n",
        "  return a/b\n",
        "\n",
        "# Basic calculator functions: add, subtract, multiply, divide\n",
        "# Save this file as calc.py"
      ]
    },
    {
      "cell_type": "code",
      "execution_count": null,
      "metadata": {
        "id": "6e-LBORAexuV"
      },
      "outputs": [],
      "source": [
        "# This script imports and uses functions from calc.py\n",
        "# to perform basic arithmetic operations\n",
        "\n",
        "\n",
        "from calc import *\n",
        "\n",
        "a = 9\n",
        "b = 7\n",
        "\n",
        "c = add(a,b)\n",
        "d = sub(a,b)\n",
        "e = multi(a,b)\n",
        "f = div(a,b)\n",
        "\n",
        "print(c)\n",
        "print(d)\n",
        "print(e)\n",
        "print(f)"
      ]
    },
    {
      "cell_type": "markdown",
      "metadata": {
        "id": "JSET4Gsgf58m"
      },
      "source": [
        "46 - Special Variable `__name__`"
      ]
    },
    {
      "cell_type": "code",
      "execution_count": null,
      "metadata": {
        "colab": {
          "base_uri": "https://localhost:8080/"
        },
        "id": "SfwmUHKof6iq",
        "outputId": "67170f8b-a724-44cd-e451-75f816bd342a"
      },
      "outputs": [
        {
          "name": "stdout",
          "output_type": "stream",
          "text": [
            "__main__\n"
          ]
        }
      ],
      "source": [
        "print (__name__)"
      ]
    },
    {
      "cell_type": "code",
      "execution_count": null,
      "metadata": {
        "id": "N8xCecV8iJO2"
      },
      "outputs": [],
      "source": [
        "# Demo.py\n",
        "\n",
        "print(\"Hello\" + __name__)"
      ]
    },
    {
      "cell_type": "code",
      "execution_count": null,
      "metadata": {
        "id": "teYc7H72g6sI"
      },
      "outputs": [],
      "source": [
        " # Calc.py\n",
        "\n",
        " import Calc\n",
        "\n",
        " print(\"Demo Says : \" + __name__)"
      ]
    },
    {
      "cell_type": "code",
      "execution_count": null,
      "metadata": {
        "id": "FfbKI0CfjETG"
      },
      "outputs": [],
      "source": [
        "# Demo.py\n",
        "\n",
        "def main():\n",
        "\n",
        "  print(\"Hello\")\n",
        "  print(\"Welcome User\")\n",
        "\n",
        "if __name__ == \"__main__\":\n",
        "  main()"
      ]
    },
    {
      "cell_type": "code",
      "execution_count": null,
      "metadata": {
        "id": "DohT8isMis6P"
      },
      "outputs": [],
      "source": [
        " # Calc.py\n",
        "\n",
        "import Calc\n",
        "\n",
        "print(\"Its Time to Calculate\")"
      ]
    },
    {
      "cell_type": "markdown",
      "metadata": {
        "id": "7J22ysPIlD85"
      },
      "source": [
        "47 - Special Variable `__name__ `part 2"
      ]
    },
    {
      "cell_type": "code",
      "execution_count": null,
      "metadata": {
        "id": "6vBsZ0vhlIB6"
      },
      "outputs": [],
      "source": [
        "# Demo.py\n",
        "from Calc.py import add\n",
        "\n",
        "def fun1():\n",
        "  add()\n",
        "  print(\"From fun1\")\n",
        "\n",
        "def fun2():\n",
        "  print(\"From fun2\")\n",
        "\n",
        "def main():\n",
        "  fun1()\n",
        "  fun2()\n",
        "\n",
        "main()"
      ]
    },
    {
      "cell_type": "code",
      "execution_count": null,
      "metadata": {
        "id": "qVOHY79ZwDes"
      },
      "outputs": [],
      "source": [
        "# Calc.py\n",
        "\n",
        "def add():\n",
        "  print(\"Result 1 is \")\n",
        "\n",
        "def sub():\n",
        "  print(\"Result 2 is \")\n",
        "\n",
        "def main():\n",
        "  print(\"in Calc main\")\n",
        "  add()\n",
        "  sub()\n",
        "\n",
        "if __name__ == \"__main__\":\n",
        "  main()"
      ]
    },
    {
      "cell_type": "markdown",
      "metadata": {
        "id": "fUBOoQ8VxyHu"
      },
      "source": [
        "48 - Object Oriented Programming | Introduction"
      ]
    },
    {
      "cell_type": "markdown",
      "metadata": {
        "id": "cdFFbgBpzUIs"
      },
      "source": [
        "49 - Classes and Object"
      ]
    },
    {
      "cell_type": "code",
      "execution_count": null,
      "metadata": {
        "colab": {
          "base_uri": "https://localhost:8080/"
        },
        "id": "l3g-xSvgxybK",
        "outputId": "5842e978-f086-4ae6-b5fb-36e9e68e9794"
      },
      "outputs": [
        {
          "name": "stdout",
          "output_type": "stream",
          "text": [
            "<class '__main__.Computer'>\n",
            "i5, 16gb, 1TB\n",
            "i5, 16gb, 1TB\n"
          ]
        }
      ],
      "source": [
        "class Computer:\n",
        "\n",
        "  def config(self):\n",
        "    print(\"i5, 16gb, 1TB\")\n",
        "\n",
        "com1 = Computer()\n",
        "com2 = Computer()\n",
        "\n",
        "print(type(com1))\n",
        "\n",
        "Computer.config(com1)\n",
        "com2.config()"
      ]
    },
    {
      "cell_type": "markdown",
      "metadata": {
        "id": "4eMu003f707a"
      },
      "source": [
        "50 - `__init__` menthod"
      ]
    },
    {
      "cell_type": "code",
      "execution_count": null,
      "metadata": {
        "colab": {
          "base_uri": "https://localhost:8080/"
        },
        "id": "mmUWulrl79Pp",
        "outputId": "62c8bd24-f766-4128-a3ed-c2e4179bfa3a"
      },
      "outputs": [
        {
          "name": "stdout",
          "output_type": "stream",
          "text": [
            "Config is  i5 16\n",
            "Config is  Ryzen 3 8\n"
          ]
        }
      ],
      "source": [
        "class Computer:\n",
        "\n",
        "  def __init__(self, cpu, ram):\n",
        "    self.cpu = cpu\n",
        "    self.ram = ram\n",
        "\n",
        "  def config(self):\n",
        "    print(\"Config is \", self.cpu, self.ram)\n",
        "\n",
        "com1 = Computer('i5',16)\n",
        "com2 = Computer('Ryzen 3',8)\n",
        "\n",
        "Computer.config(com1)\n",
        "com2.config()"
      ]
    },
    {
      "cell_type": "markdown",
      "metadata": {
        "id": "rYMyH3dj9-wS"
      },
      "source": [
        "51 - Constructor, Self and Comparing Objects"
      ]
    },
    {
      "cell_type": "code",
      "execution_count": null,
      "metadata": {
        "colab": {
          "base_uri": "https://localhost:8080/"
        },
        "id": "YlgQAYRe9vOG",
        "outputId": "a9e0e0b6-c69a-4cd4-a5dc-e4c17651bf37"
      },
      "outputs": [
        {
          "name": "stdout",
          "output_type": "stream",
          "text": [
            "Naveen\n",
            "Mukul\n"
          ]
        }
      ],
      "source": [
        "class Computer:\n",
        "\n",
        "  def __init__(self):\n",
        "    self.name = \"Mukul\"\n",
        "    self.age = 25\n",
        "\n",
        "  def update(self):\n",
        "    self.age = 30\n",
        "\n",
        "c1 = Computer()\n",
        "c2 = Computer()\n",
        "\n",
        "c1.name = \"Naveen\"\n",
        "c1.age = 16\n",
        "\n",
        "c1.update()\n",
        "\n",
        "print(c1.name)\n",
        "print(c2.name)"
      ]
    },
    {
      "cell_type": "code",
      "execution_count": null,
      "metadata": {
        "colab": {
          "base_uri": "https://localhost:8080/"
        },
        "id": "Ww5ebgdFBfky",
        "outputId": "09b6af3c-c9c4-47ed-ec30-54bac90788db"
      },
      "outputs": [
        {
          "name": "stdout",
          "output_type": "stream",
          "text": [
            "They are different\n",
            "Mukul\n",
            "Mukul\n"
          ]
        }
      ],
      "source": [
        "class Computer:\n",
        "\n",
        "  def __init__(self):\n",
        "    self.name = \"Mukul\"\n",
        "    self.age = 25\n",
        "\n",
        "  def update(self):\n",
        "    self.age = 30\n",
        "\n",
        "  def compare(self, other):\n",
        "    if self.age == other.age:\n",
        "      return True\n",
        "    else:\n",
        "      return False\n",
        "\n",
        "c1 = Computer()\n",
        "c1.age = 30\n",
        "c2 = Computer()\n",
        "\n",
        "if c1.compare(c2):\n",
        "  print(\"They are same\")\n",
        "else:\n",
        "  print(\"They are different\")\n",
        "\n",
        "c1.update()\n",
        "\n",
        "print(c1.name)\n",
        "print(c2.name)"
      ]
    },
    {
      "cell_type": "markdown",
      "metadata": {
        "id": "Gksi5d6ZDFt4"
      },
      "source": [
        "52 - Types of Variables"
      ]
    },
    {
      "cell_type": "code",
      "execution_count": null,
      "metadata": {
        "colab": {
          "base_uri": "https://localhost:8080/"
        },
        "id": "svW2kCWIDOYj",
        "outputId": "fbbdb3d8-43ea-4bb5-96bf-0620deb1101a"
      },
      "outputs": [
        {
          "name": "stdout",
          "output_type": "stream",
          "text": [
            "BMW 8 5\n",
            "BMW 10 5\n"
          ]
        }
      ],
      "source": [
        "class Car:\n",
        "\n",
        "  wheels = 4\n",
        "\n",
        "  def __init__(self):\n",
        "    self.mil = 10\n",
        "    self.com = \"BMW\"\n",
        "\n",
        "c1 = Car()\n",
        "c2 = Car()\n",
        "\n",
        "c1.mil = 8\n",
        "\n",
        "Car.wheels = 5\n",
        "\n",
        "print(c1.com, c1.mil, c1.wheels)\n",
        "print(c2.com, c2.mil, c2.wheels)"
      ]
    },
    {
      "cell_type": "markdown",
      "metadata": {
        "id": "RxSr77WyEU-b"
      },
      "source": [
        "53 - Types of Methods"
      ]
    },
    {
      "cell_type": "code",
      "execution_count": null,
      "metadata": {
        "colab": {
          "base_uri": "https://localhost:8080/"
        },
        "id": "CTTKkkr8F8_1",
        "outputId": "c02e5bf6-e5d5-4c75-d01a-be61dcdf60a5"
      },
      "outputs": [
        {
          "name": "stdout",
          "output_type": "stream",
          "text": [
            "44.333333333333336\n",
            "37.666666666666664\n"
          ]
        }
      ],
      "source": [
        "class Student:\n",
        "  school = \"Telusko\"\n",
        "\n",
        "  def __init__(self, m1, m2, m3):\n",
        "    self.m1 = m1\n",
        "    self.m2 = m2\n",
        "    self.m3 = m3\n",
        "\n",
        "  def avg(self):\n",
        "    return (self.m1 + self.m2 + self.m3)/3\n",
        "\n",
        "  def get_m1(self):\n",
        "    return self.m1\n",
        "\n",
        "  def set_m1(self, value):\n",
        "    self.m1 = value\n",
        "\n",
        "s1 = Student(34,67,32)\n",
        "s2 = Student(69,32,12)\n",
        "\n",
        "print(s1.avg())\n",
        "print(s2.avg())\n",
        "\n"
      ]
    },
    {
      "cell_type": "code",
      "execution_count": null,
      "metadata": {
        "colab": {
          "base_uri": "https://localhost:8080/"
        },
        "id": "WtniHGItEbl-",
        "outputId": "657ca798-626b-4687-f790-11ca37cc83c9"
      },
      "outputs": [
        {
          "name": "stdout",
          "output_type": "stream",
          "text": [
            "44.333333333333336\n",
            "37.666666666666664\n",
            "Telusko\n"
          ]
        }
      ],
      "source": [
        "class Student:\n",
        "  school = \"Telusko\"\n",
        "\n",
        "  def __init__(self, m1, m2, m3):\n",
        "    self.m1 = m1\n",
        "    self.m2 = m2\n",
        "    self.m3 = m3\n",
        "\n",
        "  def avg(self):\n",
        "    return (self.m1 + self.m2 + self.m3)/3\n",
        "\n",
        "  @classmethod\n",
        "  def info(cls):\n",
        "    return cls.school\n",
        "\n",
        "s1 = Student(34,67,32)\n",
        "s2 = Student(69,32,12)\n",
        "\n",
        "print(s1.avg())\n",
        "print(s2.avg())\n",
        "print(Student.info())"
      ]
    },
    {
      "cell_type": "code",
      "execution_count": null,
      "metadata": {
        "colab": {
          "base_uri": "https://localhost:8080/"
        },
        "id": "zQeumUPJG9n8",
        "outputId": "bed9f289-85de-4d94-faf1-6b3491b51316"
      },
      "outputs": [
        {
          "name": "stdout",
          "output_type": "stream",
          "text": [
            "44.333333333333336\n",
            "37.666666666666664\n",
            "This is an static method\n",
            "Telusko\n"
          ]
        }
      ],
      "source": [
        "class Student:\n",
        "  school = \"Telusko\"\n",
        "\n",
        "  def __init__(self, m1, m2, m3):\n",
        "    self.m1 = m1\n",
        "    self.m2 = m2\n",
        "    self.m3 = m3\n",
        "\n",
        "  def avg(self):\n",
        "    return (self.m1 + self.m2 + self.m3)/3\n",
        "\n",
        "  @classmethod\n",
        "  def getSchool(cls):\n",
        "    return cls.school\n",
        "\n",
        "  @staticmethod\n",
        "  def info():\n",
        "    print(\"This is an static method\")\n",
        "\n",
        "s1 = Student(34,67,32)\n",
        "s2 = Student(69,32,12)\n",
        "\n",
        "print(s1.avg())\n",
        "print(s2.avg())\n",
        "\n",
        "Student.info()\n",
        "print(Student.getSchool())"
      ]
    },
    {
      "cell_type": "markdown",
      "metadata": {
        "id": "12TovRLDIAc6"
      },
      "source": [
        "54 - Inner class"
      ]
    },
    {
      "cell_type": "code",
      "execution_count": null,
      "metadata": {
        "colab": {
          "base_uri": "https://localhost:8080/"
        },
        "id": "YD36kP10IEO_",
        "outputId": "5e2bbe5f-6dff-43d8-f4d1-04d92ca5157a"
      },
      "outputs": [
        {
          "name": "stdout",
          "output_type": "stream",
          "text": [
            "Mukul\n",
            "25\n",
            "Naveen\n",
            "16\n"
          ]
        }
      ],
      "source": [
        "class Student:\n",
        "\n",
        "  def __init__(self, name, rollno):\n",
        "    self.name = name\n",
        "    self.rollno = rollno\n",
        "\n",
        "s1 = Student(\"Mukul\", 25)\n",
        "\n",
        "print(s1.name)\n",
        "print(s1.rollno)\n",
        "\n",
        "s2 = Student(\"Naveen\", 16)\n",
        "\n",
        "print(s2.name)\n",
        "print(s2.rollno)"
      ]
    },
    {
      "cell_type": "code",
      "execution_count": null,
      "metadata": {
        "colab": {
          "base_uri": "https://localhost:8080/"
        },
        "id": "jphxApDsIjkS",
        "outputId": "cf0cb16d-5a0c-4c23-de7b-b3f9edc910ff"
      },
      "outputs": [
        {
          "name": "stdout",
          "output_type": "stream",
          "text": [
            "Mukul 25\n"
          ]
        }
      ],
      "source": [
        "class Student:\n",
        "\n",
        "  def __init__(self, name, rollno):\n",
        "    self.name = name\n",
        "    self.rollno = rollno\n",
        "\n",
        "  def show(self):\n",
        "    print(self.name, self.rollno)\n",
        "\n",
        "s1 = Student(\"Mukul\", 25)\n",
        "s2 = Student(\"Naveen\", 16)\n",
        "\n",
        "s1.show()"
      ]
    },
    {
      "cell_type": "code",
      "execution_count": null,
      "metadata": {
        "colab": {
          "base_uri": "https://localhost:8080/"
        },
        "id": "PURqil9tI35K",
        "outputId": "19cf000d-009b-412a-cdc4-6b24c3734c36"
      },
      "outputs": [
        {
          "name": "stdout",
          "output_type": "stream",
          "text": [
            "Mukul 25\n",
            "HP i5 8\n"
          ]
        }
      ],
      "source": [
        "class Student:\n",
        "\n",
        "  def __init__(self, name, rollno):\n",
        "    self.name = name\n",
        "    self.rollno = rollno\n",
        "    self.lap = self.Laptop()\n",
        "\n",
        "  def show(self):\n",
        "    print(self.name, self.rollno)\n",
        "    self.lap.show()\n",
        "\n",
        "  class Laptop:\n",
        "\n",
        "    def __init__(self):\n",
        "      self.brand = \"HP\"\n",
        "      self.cpu = \"i5\"\n",
        "      self.ram = 8\n",
        "\n",
        "    def show(self):\n",
        "      print(self.brand, self.cpu, self.ram)\n",
        "\n",
        "\n",
        "s1 = Student(\"Mukul\", 25)\n",
        "s2 = Student(\"Naveen\", 16)\n",
        "\n",
        "s1.show()\n",
        "\n",
        "# s1.lap.brand\n",
        "\n",
        "# lap1 = s1.lap\n",
        "# lap2 = s2.lap\n",
        "\n",
        "# print(id(lap1))\n",
        "# print(id(lap2))"
      ]
    },
    {
      "cell_type": "markdown",
      "metadata": {
        "id": "JKjOmFfkKN1W"
      },
      "source": [
        "55 - Inheritance"
      ]
    },
    {
      "cell_type": "markdown",
      "metadata": {
        "id": "t-a5XZwjO7mQ"
      },
      "source": [
        "Single Level Inheritace"
      ]
    },
    {
      "cell_type": "code",
      "execution_count": null,
      "metadata": {
        "colab": {
          "base_uri": "https://localhost:8080/"
        },
        "id": "0U9UAEcXKWBZ",
        "outputId": "bd5300ac-1f32-4709-c9ab-f3fa2daf50bb"
      },
      "outputs": [
        {
          "name": "stdout",
          "output_type": "stream",
          "text": [
            "Feature 1 working\n",
            "Feature 2 working\n",
            "Feature 1 working\n",
            "Feature 2 working\n",
            "Feature 3 working\n",
            "Feature 4 working\n"
          ]
        }
      ],
      "source": [
        "class A:\n",
        "  def feature1(self):\n",
        "    print(\"Feature 1 working\")\n",
        "\n",
        "  def feature2(self):\n",
        "    print(\"Feature 2 working\")\n",
        "\n",
        "class B(A):\n",
        "  def feature3(self):\n",
        "    print(\"Feature 3 working\")\n",
        "\n",
        "  def feature4(self):\n",
        "    print(\"Feature 4 working\")\n",
        "\n",
        "a1 = A()\n",
        "\n",
        "a1.feature1()\n",
        "a1.feature2()\n",
        "\n",
        "b1 = B()\n",
        "\n",
        "b1.feature1()\n",
        "b1.feature2()\n",
        "b1.feature3()\n",
        "b1.feature4()"
      ]
    },
    {
      "cell_type": "markdown",
      "metadata": {
        "id": "JaCB-cKaPAT1"
      },
      "source": [
        "Multi Level Inheritace"
      ]
    },
    {
      "cell_type": "code",
      "execution_count": null,
      "metadata": {
        "colab": {
          "base_uri": "https://localhost:8080/"
        },
        "id": "XsdXc7LENwff",
        "outputId": "135b91a3-370e-459e-fe43-150372325bb1"
      },
      "outputs": [
        {
          "name": "stdout",
          "output_type": "stream",
          "text": [
            "Feature 1 working\n",
            "Feature 2 working\n",
            "Feature 3 working\n",
            "Feature 4 working\n",
            "Feature 5 working\n"
          ]
        }
      ],
      "source": [
        "class A:\n",
        "  def feature1(self):\n",
        "    print(\"Feature 1 working\")\n",
        "\n",
        "  def feature2(self):\n",
        "    print(\"Feature 2 working\")\n",
        "\n",
        "class B(A):\n",
        "  def feature3(self):\n",
        "    print(\"Feature 3 working\")\n",
        "\n",
        "  def feature4(self):\n",
        "    print(\"Feature 4 working\")\n",
        "\n",
        "class C(B):\n",
        "  def feature5(self):\n",
        "    print(\"Feature 5 working\")\n",
        "\n",
        "a1 = A()\n",
        "\n",
        "# a1.feature1()\n",
        "# a1.feature2()\n",
        "\n",
        "b1 = B()\n",
        "\n",
        "# b1.feature1()\n",
        "# b1.feature2()\n",
        "# b1.feature3()\n",
        "# b1.feature4()\n",
        "\n",
        "c1 = C()\n",
        "\n",
        "c1.feature1()\n",
        "c1.feature2()\n",
        "c1.feature3()\n",
        "c1.feature4()\n",
        "c1.feature5()"
      ]
    },
    {
      "cell_type": "markdown",
      "metadata": {
        "id": "xS8a6SIUPEYx"
      },
      "source": [
        "Multiple Level Inheritace"
      ]
    },
    {
      "cell_type": "code",
      "execution_count": null,
      "metadata": {
        "colab": {
          "base_uri": "https://localhost:8080/"
        },
        "id": "eOsYEVKLOEtP",
        "outputId": "35d06d11-06f9-452e-a663-5f0cc3539eb6"
      },
      "outputs": [
        {
          "name": "stdout",
          "output_type": "stream",
          "text": [
            "Feature 1 working\n",
            "Feature 2 working\n",
            "Feature 3 working\n",
            "Feature 4 working\n",
            "Feature 5 working\n"
          ]
        }
      ],
      "source": [
        "class A:\n",
        "  def feature1(self):\n",
        "    print(\"Feature 1 working\")\n",
        "\n",
        "  def feature2(self):\n",
        "    print(\"Feature 2 working\")\n",
        "\n",
        "class B:\n",
        "  def feature3(self):\n",
        "    print(\"Feature 3 working\")\n",
        "\n",
        "  def feature4(self):\n",
        "    print(\"Feature 4 working\")\n",
        "\n",
        "class C(A,B):\n",
        "  def feature5(self):\n",
        "    print(\"Feature 5 working\")\n",
        "\n",
        "a1 = A()\n",
        "\n",
        "b1 = B()\n",
        "# b1.feature3()\n",
        "# b1.feature4()\n",
        "\n",
        "c1 = C()\n",
        "c1.feature1()\n",
        "c1.feature2()\n",
        "c1.feature3()\n",
        "c1.feature4()\n",
        "c1.feature5()\n"
      ]
    },
    {
      "cell_type": "markdown",
      "metadata": {
        "id": "JQDGPNGlPXRV"
      },
      "source": [
        "56 - Constructor in Inheritance"
      ]
    },
    {
      "cell_type": "code",
      "execution_count": null,
      "metadata": {
        "colab": {
          "base_uri": "https://localhost:8080/"
        },
        "id": "Ilf6Om8UPWWS",
        "outputId": "c031cce9-b9ca-4245-85d4-937eb8fbbd5d"
      },
      "outputs": [
        {
          "name": "stdout",
          "output_type": "stream",
          "text": [
            "In A init\n",
            "In B init\n"
          ]
        }
      ],
      "source": [
        "class A:\n",
        "\n",
        "  def __init__(self):\n",
        "    print(\"In A init\")\n",
        "\n",
        "  def feature1(self):\n",
        "    print(\"Feature 1 working\")\n",
        "\n",
        "  def feature2(self):\n",
        "    print(\"Feature 2 working\")\n",
        "\n",
        "class B(A):\n",
        "\n",
        "  def __init__(self):\n",
        "    super().__init__()\n",
        "    print(\"In B init\")\n",
        "\n",
        "  def feature3(self):\n",
        "    print(\"Feature 3 working\")\n",
        "\n",
        "  def feature4(self):\n",
        "    print(\"Feature 4 working\")\n",
        "\n",
        "a1 = B()\n"
      ]
    },
    {
      "cell_type": "code",
      "execution_count": null,
      "metadata": {
        "colab": {
          "base_uri": "https://localhost:8080/"
        },
        "id": "TtBeV6Uq_FYB",
        "outputId": "f415b659-ecf4-4310-ee25-f2f66dc76034"
      },
      "outputs": [
        {
          "name": "stdout",
          "output_type": "stream",
          "text": [
            "In A init\n",
            "In C init\n",
            "Feature 1-A working\n",
            "Feature 2 working\n"
          ]
        }
      ],
      "source": [
        "class A:\n",
        "\n",
        "  def __init__(self):\n",
        "    print(\"In A init\")\n",
        "\n",
        "  def feature1(self):\n",
        "    print(\"Feature 1-A working\")\n",
        "\n",
        "  def feature2(self):\n",
        "    print(\"Feature 2 working\")\n",
        "\n",
        "class B:\n",
        "\n",
        "  def __init__(self):\n",
        "    print(\"In B init\")\n",
        "\n",
        "  def feature3(self):\n",
        "    print(\"Feature 3-B working\")\n",
        "\n",
        "  def feature4(self):\n",
        "    print(\"Feature 4 working\")\n",
        "\n",
        "class C(A, B):\n",
        "\n",
        "  def __init__(self):\n",
        "    super().__init__()\n",
        "    print(\"In C init\")\n",
        "\n",
        "  def feat(self):\n",
        "    super().feature2()\n",
        "\n",
        "a1 = C()\n",
        "a1.feature1()\n",
        "a1.feat()"
      ]
    },
    {
      "cell_type": "markdown",
      "metadata": {
        "id": "SMeiFcJuAKBV"
      },
      "source": [
        "57 - Polymorphism"
      ]
    },
    {
      "cell_type": "markdown",
      "metadata": {
        "id": "7twML35sAteL"
      },
      "source": [
        "58 - Duck Typing"
      ]
    },
    {
      "cell_type": "code",
      "execution_count": null,
      "metadata": {
        "colab": {
          "base_uri": "https://localhost:8080/"
        },
        "id": "H7tY57tTCWL5",
        "outputId": "df693339-0ab0-4b8d-8e67-fc799a5aaabd"
      },
      "outputs": [
        {
          "name": "stdout",
          "output_type": "stream",
          "text": [
            "Compiling\n",
            "Running\n"
          ]
        }
      ],
      "source": [
        "class PyCharm:\n",
        "\n",
        "  def execute(self):\n",
        "    print(\"Compiling\")\n",
        "    print(\"Running\")\n",
        "\n",
        "class Lapotp:\n",
        "\n",
        "  def code(self, ide):\n",
        "    ide.execute()\n",
        "\n",
        "ide = PyCharm()\n",
        "\n",
        "lap1 = Lapotp()\n",
        "lap1.code(ide)\n"
      ]
    },
    {
      "cell_type": "code",
      "execution_count": null,
      "metadata": {
        "colab": {
          "base_uri": "https://localhost:8080/"
        },
        "id": "exYn7I5fCswX",
        "outputId": "4361daec-1e9e-441e-ad45-a32d44a01111"
      },
      "outputs": [
        {
          "name": "stdout",
          "output_type": "stream",
          "text": [
            "Spell Check\n",
            "Convention Check\n",
            "Compiling\n",
            "Running\n"
          ]
        }
      ],
      "source": [
        "class PyCharm:\n",
        "\n",
        "  def execute(self):\n",
        "    print(\"Compiling\")\n",
        "    print(\"Running\")\n",
        "\n",
        "class MyEditor:\n",
        "\n",
        "  def execute(self):\n",
        "    print(\"Spell Check\")\n",
        "    print(\"Convention Check\")\n",
        "    print(\"Compiling\")\n",
        "    print(\"Running\")\n",
        "\n",
        "class Lapotp:\n",
        "\n",
        "  def code(self, ide):\n",
        "    ide.execute()\n",
        "\n",
        "ide = MyEditor()\n",
        "\n",
        "lap1 = Lapotp()\n",
        "lap1.code(ide)\n"
      ]
    },
    {
      "cell_type": "markdown",
      "metadata": {
        "id": "o8mnjA8VDKhv"
      },
      "source": [
        "59 - Operator Overloading | Polymorphism"
      ]
    },
    {
      "cell_type": "code",
      "execution_count": null,
      "metadata": {
        "colab": {
          "base_uri": "https://localhost:8080/"
        },
        "id": "UUOt81ryDU9q",
        "outputId": "ec262249-e335-4b09-e4bf-4c6322716f91"
      },
      "outputs": [
        {
          "name": "stdout",
          "output_type": "stream",
          "text": [
            "56\n",
            "56\n"
          ]
        }
      ],
      "source": [
        "a = '5'\n",
        "b = '6'\n",
        "\n",
        "print(a+b)\n",
        "\n",
        "print(str.__add__(a,b))\n"
      ]
    },
    {
      "cell_type": "code",
      "execution_count": null,
      "metadata": {
        "colab": {
          "base_uri": "https://localhost:8080/"
        },
        "id": "YSeWqOY5Gkzn",
        "outputId": "b0c9fedc-caf6-4804-aae2-d1077d6f532e"
      },
      "outputs": [
        {
          "name": "stdout",
          "output_type": "stream",
          "text": [
            "127\n",
            "s2 wins\n"
          ]
        }
      ],
      "source": [
        "class Student:\n",
        "\n",
        "  def __init__(self, m1, m2):\n",
        "    self.m1 = m1\n",
        "    self.m2 = m2\n",
        "\n",
        "  def __add__(self, other):\n",
        "    m1 = self.m1 + other.m1\n",
        "    m2 = self.m2 + other.m2\n",
        "    s3 = Student(m1, m2)\n",
        "\n",
        "    return s3\n",
        "\n",
        "  def __gt__(self, other):\n",
        "    r1 = self.m1 + self.m2\n",
        "    r2 = other.m1 + other.m2\n",
        "\n",
        "    if r1 > r2:\n",
        "      return True\n",
        "    else:\n",
        "      return False\n",
        "\n",
        "s1 = Student(58,69)\n",
        "s2 = Student(69,65)\n",
        "\n",
        "s3 = s1 + s2\n",
        "\n",
        "print(s3.m1)\n",
        "\n",
        "if s1 > s2:\n",
        "  print(\"s1 wins\")\n",
        "else:\n",
        "  print(\"s2 wins\")"
      ]
    },
    {
      "cell_type": "code",
      "execution_count": null,
      "metadata": {
        "colab": {
          "base_uri": "https://localhost:8080/"
        },
        "id": "SHdLFk--I2yp",
        "outputId": "7787e221-3ea1-4ac4-cf3a-d76ed848de14"
      },
      "outputs": [
        {
          "name": "stdout",
          "output_type": "stream",
          "text": [
            "127\n",
            "s2 wins\n",
            "9\n",
            "58 69\n",
            "69 65\n"
          ]
        }
      ],
      "source": [
        "class Student:\n",
        "\n",
        "  def __init__(self, m1, m2):\n",
        "    self.m1 = m1\n",
        "    self.m2 = m2\n",
        "\n",
        "  def __add__(self, other):\n",
        "    m1 = self.m1 + other.m1\n",
        "    m2 = self.m2 + other.m2\n",
        "    s3 = Student(m1, m2)\n",
        "\n",
        "    return s3\n",
        "\n",
        "  def __gt__(self, other):\n",
        "    r1 = self.m1 + self.m2\n",
        "    r2 = other.m1 + other.m2\n",
        "\n",
        "    if r1 > r2:\n",
        "      return True\n",
        "    else:\n",
        "      return False\n",
        "\n",
        "\n",
        "  def __str__(self):\n",
        "    return '{} {}'.format(self.m1, self.m2)\n",
        "\n",
        "s1 = Student(58,69)\n",
        "s2 = Student(69,65)\n",
        "\n",
        "s3 = s1 + s2\n",
        "\n",
        "print(s3.m1)\n",
        "\n",
        "if s1 > s2:\n",
        "  print(\"s1 wins\")\n",
        "else:\n",
        "  print(\"s2 wins\")\n",
        "\n",
        "a = 9\n",
        "print(a.__str__())\n",
        "\n",
        "print(s1)\n",
        "print(s2)"
      ]
    },
    {
      "cell_type": "markdown",
      "metadata": {
        "id": "iU3UFtG3KKzt"
      },
      "source": [
        "60 - Method Overloading and Method Overriding"
      ]
    },
    {
      "cell_type": "code",
      "execution_count": null,
      "metadata": {
        "colab": {
          "base_uri": "https://localhost:8080/"
        },
        "id": "da5DZKWoKRPa",
        "outputId": "926cfdd1-f04b-4c75-de3c-1a2999d8e559"
      },
      "outputs": [
        {
          "name": "stdout",
          "output_type": "stream",
          "text": [
            "14\n"
          ]
        }
      ],
      "source": [
        "class Student:\n",
        "\n",
        "  def __init__(self, m1, m2):\n",
        "    self.m1 = m1\n",
        "    self.m2 = m2\n",
        "\n",
        "  def sum(self, a, b):\n",
        "    s = a + b\n",
        "    return s\n",
        "\n",
        "s1 = Student(58,69)\n",
        "\n",
        "print(s1.sum(5,9))\n",
        "\n",
        "\n"
      ]
    },
    {
      "cell_type": "markdown",
      "metadata": {
        "id": "rHN0nRXUNaiu"
      },
      "source": [
        "Method Overloading"
      ]
    },
    {
      "cell_type": "code",
      "execution_count": null,
      "metadata": {
        "colab": {
          "base_uri": "https://localhost:8080/"
        },
        "id": "SlVO3skwM0n6",
        "outputId": "6920c5ba-b210-4148-ae9a-c9d6efef1a1e"
      },
      "outputs": [
        {
          "name": "stdout",
          "output_type": "stream",
          "text": [
            "20\n"
          ]
        }
      ],
      "source": [
        "class Student:\n",
        "\n",
        "  def __init__(self, m1, m2):\n",
        "    self.m1 = m1\n",
        "    self.m2 = m2\n",
        "\n",
        "  def sum(self, a=None, b=None, c=None):\n",
        "    s = 0\n",
        "    if a != None and b != None and c != None:\n",
        "      s = a + b + c\n",
        "    elif a != None and b != None:\n",
        "      s = a + b\n",
        "    else:\n",
        "      s = a\n",
        "    return s\n",
        "\n",
        "s1 = Student(58,69)\n",
        "\n",
        "print(s1.sum(5,9,6))\n"
      ]
    },
    {
      "cell_type": "markdown",
      "metadata": {
        "id": "mwgtaF1HNbqS"
      },
      "source": [
        "Method Overriding"
      ]
    },
    {
      "cell_type": "code",
      "execution_count": null,
      "metadata": {
        "colab": {
          "base_uri": "https://localhost:8080/"
        },
        "id": "kyYfXIdENdK6",
        "outputId": "77aa6f84-8b7c-43b2-d056-f38ba29cb6cc"
      },
      "outputs": [
        {
          "name": "stdout",
          "output_type": "stream",
          "text": [
            "in B Show\n"
          ]
        }
      ],
      "source": [
        "class A:\n",
        "\n",
        "  def show(self):\n",
        "    print(\"in A Show\")\n",
        "\n",
        "class B(A):\n",
        "\n",
        "  def show(self):\n",
        "    print(\"in B Show\")\n",
        "\n",
        "a1 = B()\n",
        "a1.show()"
      ]
    },
    {
      "cell_type": "markdown",
      "metadata": {
        "id": "6qMPKI7zOSUo"
      },
      "source": [
        "Video: Abstract Class and Abstract Method"
      ]
    },
    {
      "cell_type": "code",
      "execution_count": null,
      "metadata": {
        "colab": {
          "base_uri": "https://localhost:8080/"
        },
        "id": "a_k56eRAOd8m",
        "outputId": "255657a7-00f6-4457-a45a-7b2f8cd1a130"
      },
      "outputs": [
        {
          "name": "stdout",
          "output_type": "stream",
          "text": [
            "It is running\n"
          ]
        }
      ],
      "source": [
        "from abc import ABC, abstractmethod\n",
        "\n",
        "class Computer(ABC):\n",
        "  @abstractmethod\n",
        "  def process(self):\n",
        "    pass\n",
        "\n",
        "class Laptop(Computer):\n",
        "\n",
        "  def process(self):\n",
        "    print(\"It is running\")\n",
        "\n",
        "lap1 = Laptop()\n",
        "lap1.process()"
      ]
    },
    {
      "cell_type": "code",
      "execution_count": null,
      "metadata": {
        "colab": {
          "base_uri": "https://localhost:8080/"
        },
        "id": "StPwxaAIQZVe",
        "outputId": "a07b590c-21e4-418b-b35f-382801b5e371"
      },
      "outputs": [
        {
          "name": "stdout",
          "output_type": "stream",
          "text": [
            "Solving bugs\n",
            "It is running\n"
          ]
        }
      ],
      "source": [
        "from abc import ABC, abstractmethod\n",
        "\n",
        "class Computer(ABC):\n",
        "  @abstractmethod\n",
        "  def process(self):\n",
        "    pass\n",
        "\n",
        "class Laptop(Computer):\n",
        "\n",
        "  def process(self):\n",
        "    print(\"It is running\")\n",
        "\n",
        "class Progammer:\n",
        "  def work(self):\n",
        "    print(\"Solving bugs\")\n",
        "\n",
        "prog1 = Progammer()\n",
        "prog1.work()\n",
        "\n",
        "lap1 = Laptop()\n",
        "lap1.process()\n"
      ]
    },
    {
      "cell_type": "code",
      "execution_count": null,
      "metadata": {
        "colab": {
          "base_uri": "https://localhost:8080/"
        },
        "id": "bQH2Y_eORHWY",
        "outputId": "b41aed07-54f9-4e0a-a8e9-be326ada60d4"
      },
      "outputs": [
        {
          "name": "stdout",
          "output_type": "stream",
          "text": [
            "Solving bugs\n",
            "Its running\n"
          ]
        }
      ],
      "source": [
        "from abc import ABC, abstractmethod\n",
        "\n",
        "class Computer(ABC):\n",
        "  @abstractmethod\n",
        "  def process(self):\n",
        "    pass\n",
        "\n",
        "class Laptop(Computer):\n",
        "\n",
        "  def process(self):\n",
        "    print(\"Its running\")\n",
        "\n",
        "class Progammer:\n",
        "  def work(self, com):\n",
        "    print(\"Solving bugs\")\n",
        "    com.process()\n",
        "\n",
        "comp1 = Laptop()\n",
        "\n",
        "prog1 = Progammer()\n",
        "prog1.work(comp1)\n"
      ]
    },
    {
      "cell_type": "markdown",
      "metadata": {
        "id": "sxeq9P36TFVv"
      },
      "source": [
        "61 - Iterator"
      ]
    },
    {
      "cell_type": "code",
      "execution_count": null,
      "metadata": {
        "colab": {
          "base_uri": "https://localhost:8080/"
        },
        "id": "gKA9AqBvTMCk",
        "outputId": "44a7eac3-51b2-441e-c83a-f8f01856f1cb"
      },
      "outputs": [
        {
          "name": "stdout",
          "output_type": "stream",
          "text": [
            "7\n",
            "8\n"
          ]
        }
      ],
      "source": [
        "nums = [7,8,9,5]\n",
        "\n",
        "it = iter(nums)\n",
        "\n",
        "print(it.__next__())\n",
        "print(it.__next__())"
      ]
    },
    {
      "cell_type": "code",
      "execution_count": null,
      "metadata": {
        "colab": {
          "base_uri": "https://localhost:8080/"
        },
        "id": "qjjj91OTUPYp",
        "outputId": "49d2dad0-416b-42a9-9ead-13fd5a5621c7"
      },
      "outputs": [
        {
          "name": "stdout",
          "output_type": "stream",
          "text": [
            "7\n",
            "8\n",
            "7\n",
            "8\n",
            "9\n",
            "5\n"
          ]
        }
      ],
      "source": [
        "nums = [7,8,9,5]\n",
        "\n",
        "it = iter(nums)\n",
        "\n",
        "print(it.__next__())\n",
        "\n",
        "print(next(it))\n",
        "\n",
        "for i in nums:\n",
        "  print(i)\n"
      ]
    },
    {
      "cell_type": "code",
      "execution_count": null,
      "metadata": {
        "colab": {
          "base_uri": "https://localhost:8080/"
        },
        "id": "n9TYLIJ0U0ok",
        "outputId": "62c4ceb0-e85a-4c2d-bc3c-1e9dddfef615"
      },
      "outputs": [
        {
          "name": "stdout",
          "output_type": "stream",
          "text": [
            "1\n",
            "2\n",
            "3\n",
            "4\n",
            "5\n",
            "6\n",
            "7\n",
            "8\n",
            "9\n",
            "10\n"
          ]
        }
      ],
      "source": [
        "class TopTen:\n",
        "\n",
        "  def __init__(self):\n",
        "    self.num = 1\n",
        "\n",
        "  def __iter__(self):\n",
        "    return self\n",
        "\n",
        "  def __next__(self):\n",
        "    if self.num <= 10:\n",
        "      val = self.num\n",
        "      self.num += 1\n",
        "      return val\n",
        "    else:\n",
        "      raise StopIteration\n",
        "\n",
        "values = TopTen()\n",
        "\n",
        "print(next(values))\n",
        "\n",
        "for i in values:\n",
        "  print(i)\n"
      ]
    },
    {
      "cell_type": "markdown",
      "metadata": {
        "id": "Kc1V3Am8V7kG"
      },
      "source": [
        "62 - Generators"
      ]
    },
    {
      "cell_type": "code",
      "execution_count": null,
      "metadata": {
        "colab": {
          "base_uri": "https://localhost:8080/"
        },
        "id": "NDYmJ1YxV_OE",
        "outputId": "873776f4-ca1c-4a4a-e030-ba8d27e26cc8"
      },
      "outputs": [
        {
          "name": "stdout",
          "output_type": "stream",
          "text": [
            "1\n",
            "2\n"
          ]
        }
      ],
      "source": [
        "def topten():\n",
        "\n",
        "  yield 1\n",
        "  yield 2\n",
        "  yield 3\n",
        "  yield 4\n",
        "\n",
        "values = topten()\n",
        "\n",
        "# print(values)\n",
        "print(values.__next__())\n",
        "print(values.__next__())\n"
      ]
    },
    {
      "cell_type": "code",
      "execution_count": null,
      "metadata": {
        "colab": {
          "base_uri": "https://localhost:8080/"
        },
        "id": "OxFdFb9OWp-I",
        "outputId": "6baf0786-0f17-4b42-a0b5-34e5eaf4a40a"
      },
      "outputs": [
        {
          "name": "stdout",
          "output_type": "stream",
          "text": [
            "1\n",
            "2\n",
            "3\n",
            "4\n"
          ]
        }
      ],
      "source": [
        "def topten():\n",
        "\n",
        "  yield 1\n",
        "  yield 2\n",
        "  yield 3\n",
        "  yield 4\n",
        "\n",
        "values = topten()\n",
        "\n",
        "# print(values)\n",
        "print(values.__next__())\n",
        "\n",
        "for i in values:\n",
        "  print(i)\n"
      ]
    },
    {
      "cell_type": "code",
      "execution_count": null,
      "metadata": {
        "colab": {
          "base_uri": "https://localhost:8080/"
        },
        "id": "IerSCDJkW2EG",
        "outputId": "a61ed25e-b8eb-46b9-cf22-1b6341a53231"
      },
      "outputs": [
        {
          "name": "stdout",
          "output_type": "stream",
          "text": [
            "1\n",
            "4\n",
            "9\n",
            "16\n",
            "25\n",
            "36\n",
            "49\n",
            "64\n",
            "81\n",
            "100\n"
          ]
        }
      ],
      "source": [
        "def topten():\n",
        "\n",
        "  n = 1\n",
        "  while n <= 10:\n",
        "    sq = n*n\n",
        "    yield sq\n",
        "    n += 1\n",
        "\n",
        "\n",
        "values = topten()\n",
        "\n",
        "for i in values:\n",
        "  print(i)\n",
        "\n"
      ]
    },
    {
      "cell_type": "markdown",
      "metadata": {
        "id": "Ca2kHhY7XN78"
      },
      "source": [
        "63 - Exception Handling"
      ]
    },
    {
      "cell_type": "code",
      "execution_count": null,
      "metadata": {
        "colab": {
          "base_uri": "https://localhost:8080/"
        },
        "id": "2jYOZAsfXSc8",
        "outputId": "58ced05b-1190-48ee-8ab3-799b272d7b7a"
      },
      "outputs": [
        {
          "name": "stdout",
          "output_type": "stream",
          "text": [
            "Hey, you cannot divide a number by zero division by zero\n"
          ]
        }
      ],
      "source": [
        "a = 5\n",
        "b = 0\n",
        "\n",
        "try:\n",
        "  print(a/b)\n",
        "except Exception as e:\n",
        "  print(\"Hey, you cannot divide a number by zero\", e)\n"
      ]
    },
    {
      "cell_type": "code",
      "execution_count": null,
      "metadata": {
        "colab": {
          "base_uri": "https://localhost:8080/"
        },
        "id": "XsF5m13WYLu1",
        "outputId": "b57a5991-0b93-400b-955f-45140347922b"
      },
      "outputs": [
        {
          "name": "stdout",
          "output_type": "stream",
          "text": [
            "Resource Open\n",
            "Hey, you cannot divide a number by zero division by zero\n",
            "Resource Closed\n"
          ]
        }
      ],
      "source": [
        "a = 5\n",
        "b = 0\n",
        "\n",
        "try:\n",
        "  print(\"Resource Open\")\n",
        "  print(a/b)\n",
        "\n",
        "except Exception as e:\n",
        "  print(\"Hey, you cannot divide a number by zero\", e)\n",
        "  print(\"Resource Closed\")"
      ]
    },
    {
      "cell_type": "code",
      "execution_count": null,
      "metadata": {
        "colab": {
          "base_uri": "https://localhost:8080/"
        },
        "id": "gVEwKXtzYkSl",
        "outputId": "80ae8294-8209-4951-842a-5501a51f23bd"
      },
      "outputs": [
        {
          "name": "stdout",
          "output_type": "stream",
          "text": [
            "Resource Open\n",
            "2.5\n",
            "Resource Closed\n"
          ]
        }
      ],
      "source": [
        "a = 5\n",
        "b = 2\n",
        "\n",
        "try:\n",
        "  print(\"Resource Open\")\n",
        "  print(a/b)\n",
        "\n",
        "except Exception as e:\n",
        "  print(\"Hey, you cannot divide a number by zero\", e)\n",
        "\n",
        "finally:\n",
        "  print(\"Resource Closed\")\n"
      ]
    },
    {
      "cell_type": "code",
      "execution_count": null,
      "metadata": {
        "colab": {
          "base_uri": "https://localhost:8080/"
        },
        "id": "607Nd3xZY4FF",
        "outputId": "54c298cc-e9f4-4e0b-bf41-2f25999035e7"
      },
      "outputs": [
        {
          "name": "stdout",
          "output_type": "stream",
          "text": [
            "Resource Open\n",
            "2.5\n",
            "Enter a number: p\n",
            "Hey, you cannot divide a number by zero invalid literal for int() with base 10: 'p'\n",
            "Resource Closed\n"
          ]
        }
      ],
      "source": [
        "a = 5\n",
        "b = 2\n",
        "\n",
        "try:\n",
        "  print(\"Resource Open\")\n",
        "  print(a/b)\n",
        "  k = int(input(\"Enter a number: \"))\n",
        "  print(k)\n",
        "\n",
        "except Exception as e:\n",
        "  print(\"Hey, you cannot divide a number by zero\", e)\n",
        "\n",
        "finally:\n",
        "  print(\"Resource Closed\")"
      ]
    },
    {
      "cell_type": "code",
      "execution_count": null,
      "metadata": {
        "colab": {
          "base_uri": "https://localhost:8080/"
        },
        "id": "C5gFpOtEZW4v",
        "outputId": "2804fd8e-a746-4282-dfac-0dbeca512577"
      },
      "outputs": [
        {
          "name": "stdout",
          "output_type": "stream",
          "text": [
            "Resource Open\n",
            "2.5\n",
            "Enter a number: p\n",
            "Invalid Input\n",
            "Resource Closed\n"
          ]
        }
      ],
      "source": [
        "a = 5\n",
        "b = 2\n",
        "\n",
        "try:\n",
        "  print(\"Resource Open\")\n",
        "  print(a/b)\n",
        "  k = int(input(\"Enter a number: \"))\n",
        "  print(k)\n",
        "\n",
        "except ZeroDivisionError as e:\n",
        "  print(\"Hey, you cannot divide a number by zero\", e)\n",
        "\n",
        "except ValueError as e:\n",
        "  print(\"Invalid Input\")\n",
        "\n",
        "except Exception as e:\n",
        "  print(\"Something went wrong...\")\n",
        "\n",
        "finally:\n",
        "  print(\"Resource Closed\")"
      ]
    },
    {
      "cell_type": "markdown",
      "metadata": {
        "id": "RNfOlr4AaAPn"
      },
      "source": [
        "64 - MultiThreading"
      ]
    },
    {
      "cell_type": "code",
      "execution_count": 1,
      "metadata": {
        "colab": {
          "base_uri": "https://localhost:8080/"
        },
        "id": "A4KUs2XLaEdM",
        "outputId": "09276053-42be-4a0e-92ef-f305da213e55"
      },
      "outputs": [
        {
          "name": "stdout",
          "output_type": "stream",
          "text": [
            "Hello\n",
            "Hello\n",
            "Hello\n",
            "Hello\n",
            "Hello\n",
            "Hi\n",
            "Hi\n",
            "Hi\n",
            "Hi\n",
            "Hi\n"
          ]
        }
      ],
      "source": [
        "class Hello:\n",
        "  def run (self):\n",
        "    for i in range(5):\n",
        "      print(\"Hello\")\n",
        "\n",
        "class Hi:\n",
        "  def run (self):\n",
        "    for i in range(5):\n",
        "      print(\"Hi\")\n",
        "\n",
        "t1 = Hello()\n",
        "t2 = Hi()\n",
        "\n",
        "t1.run()\n",
        "t2.run()\n"
      ]
    },
    {
      "cell_type": "code",
      "execution_count": 6,
      "metadata": {
        "colab": {
          "base_uri": "https://localhost:8080/"
        },
        "id": "8Zioe63WQoO7",
        "outputId": "95a3b4d5-9d89-45bd-d683-f598aea92f36"
      },
      "outputs": [
        {
          "name": "stdout",
          "output_type": "stream",
          "text": [
            "Hello\n",
            "Hello\n",
            "Hello\n",
            "Hello\n",
            "Hello\n",
            "Hello\n",
            "Hello\n",
            "Hello\n",
            "Hello\n",
            "Hello\n",
            "Hi\n",
            "Hi\n",
            "Hi\n",
            "Hi\n",
            "Hi\n",
            "Hi\n",
            "Hi\n",
            "Hi\n",
            "Hi\n",
            "Hi\n"
          ]
        }
      ],
      "source": [
        "from threading import *\n",
        "\n",
        "class Hello(Thread):\n",
        "  def run (self):\n",
        "    for i in range(10):\n",
        "      print(\"Hello\")\n",
        "\n",
        "class Hi(Thread):\n",
        "  def run (self):\n",
        "    for i in range(10):\n",
        "      print(\"Hi\")\n",
        "\n",
        "t1 = Hello()\n",
        "t2 = Hi()\n",
        "\n",
        "# t1.run()\n",
        "# t2.run()\n",
        "\n",
        "t1.start()\n",
        "t2.start()"
      ]
    },
    {
      "cell_type": "code",
      "execution_count": 14,
      "metadata": {
        "colab": {
          "base_uri": "https://localhost:8080/"
        },
        "id": "zBbfP0NAR3MM",
        "outputId": "a2c62521-a9e8-4512-db99-9d92f7183ff7"
      },
      "outputs": [
        {
          "name": "stdout",
          "output_type": "stream",
          "text": [
            "Hello\n",
            "Hi\n",
            "Hello\n",
            "Hi\n",
            "Hello\n",
            "Hi\n",
            "Hello\n",
            "Hi\n",
            "Hello\n",
            "Hi\n",
            "Bye\n"
          ]
        }
      ],
      "source": [
        "from threading import *\n",
        "from time import sleep\n",
        "\n",
        "class Hello(Thread):\n",
        "  def run (self):\n",
        "    for i in range(5):\n",
        "      print(\"Hello\")\n",
        "      sleep(1)\n",
        "\n",
        "class Hi(Thread):\n",
        "  def run (self):\n",
        "    for i in range(5):\n",
        "      print(\"Hi\")\n",
        "      sleep(1)\n",
        "\n",
        "t1 = Hello()\n",
        "t2 = Hi()\n",
        "\n",
        "# t1.run()\n",
        "# t2.run()\n",
        "\n",
        "t1.start()\n",
        "sleep(0.2)\n",
        "t2.start()\n",
        "\n",
        "t1.join()\n",
        "t2.join()\n",
        "\n",
        "print (\"Bye\")"
      ]
    },
    {
      "cell_type": "markdown",
      "metadata": {
        "id": "Qkpg--ZKTmp7"
      },
      "source": [
        "65 - File handling"
      ]
    },
    {
      "cell_type": "markdown",
      "metadata": {
        "id": "n8xUCta3UkHQ"
      },
      "source": [
        "`MyData.txt `\n",
        "\n",
        "My name is Mukul\n",
        "\n",
        "Python\n",
        "\n",
        "Linux\n",
        "\n",
        "Ayodhya\n",
        "\n"
      ]
    },
    {
      "cell_type": "code",
      "execution_count": 2,
      "metadata": {
        "id": "I9i9xSEgSrW9"
      },
      "outputs": [
        {
          "name": "stdout",
          "output_type": "stream",
          "text": [
            "My name is Mukul\n",
            "Python\n",
            "Linux\n",
            "Ayodhya\n"
          ]
        }
      ],
      "source": [
        "f = open(\"MyData.txt\", \"r\")\n",
        "\n",
        "print(f.read())"
      ]
    },
    {
      "cell_type": "code",
      "execution_count": 3,
      "metadata": {
        "id": "YoOiG24xVdI0"
      },
      "outputs": [
        {
          "name": "stdout",
          "output_type": "stream",
          "text": [
            "My name is Mukul\n",
            "\n"
          ]
        }
      ],
      "source": [
        "f = open(\"MyData.txt\", \"r\")\n",
        "\n",
        "print(f.readline())"
      ]
    },
    {
      "cell_type": "code",
      "execution_count": 4,
      "metadata": {
        "id": "xiah8a0qVzkm"
      },
      "outputs": [
        {
          "name": "stdout",
          "output_type": "stream",
          "text": [
            "My name is Mukul\n",
            "Python\n",
            "\n"
          ]
        }
      ],
      "source": [
        "f = open(\"MyData.txt\", \"r\")\n",
        "\n",
        "print(f.readline(), end=\"\")\n",
        "print(f.readline())"
      ]
    },
    {
      "cell_type": "markdown",
      "metadata": {
        "id": "oHR3d38TWTCZ"
      },
      "source": [
        "create new txt file - abc.txt"
      ]
    },
    {
      "cell_type": "code",
      "execution_count": 8,
      "metadata": {
        "id": "YQPRUCibV8jE"
      },
      "outputs": [
        {
          "data": {
            "text/plain": [
              "6"
            ]
          },
          "execution_count": 8,
          "metadata": {},
          "output_type": "execute_result"
        }
      ],
      "source": [
        "f = open(\"MyData.txt\", \"r\")\n",
        "\n",
        "f1 = open(\"abc.txt\", \"w\")\n",
        "\n",
        "# f1.write(\"Something\")\n",
        "# f1.write(\"People\")\n",
        "\n",
        "f1.write('Laptop')"
      ]
    },
    {
      "cell_type": "code",
      "execution_count": 10,
      "metadata": {
        "id": "aeJ3jrb-XJhU"
      },
      "outputs": [
        {
          "data": {
            "text/plain": [
              "6"
            ]
          },
          "execution_count": 10,
          "metadata": {},
          "output_type": "execute_result"
        }
      ],
      "source": [
        "f = open(\"MyData.txt\", \"r\")\n",
        "\n",
        "f1 = open(\"abc.txt\", \"a\")\n",
        "\n",
        "# f1.write('Laptop')\n",
        "\n",
        "f1.write('Mobile')"
      ]
    },
    {
      "cell_type": "code",
      "execution_count": 13,
      "metadata": {
        "id": "tEBDZKKWXTcw"
      },
      "outputs": [],
      "source": [
        "f = open(\"MyData.txt\", \"r\")\n",
        "\n",
        "f1 = open(\"abc.txt\", \"w\")\n",
        "\n",
        "for data in f:\n",
        "  f1.write(data)"
      ]
    },
    {
      "cell_type": "code",
      "execution_count": 2,
      "metadata": {
        "id": "gSuDyZmbXyUt"
      },
      "outputs": [
        {
          "name": "stdout",
          "output_type": "stream",
          "text": [
            "<_io.BufferedReader name='Test.jpg'>\n",
            "<_io.BufferedReader name='Test.jpg'>\n",
            "<_io.BufferedReader name='Test.jpg'>\n",
            "<_io.BufferedReader name='Test.jpg'>\n",
            "<_io.BufferedReader name='Test.jpg'>\n",
            "<_io.BufferedReader name='Test.jpg'>\n",
            "<_io.BufferedReader name='Test.jpg'>\n",
            "<_io.BufferedReader name='Test.jpg'>\n",
            "<_io.BufferedReader name='Test.jpg'>\n",
            "<_io.BufferedReader name='Test.jpg'>\n",
            "<_io.BufferedReader name='Test.jpg'>\n",
            "<_io.BufferedReader name='Test.jpg'>\n",
            "<_io.BufferedReader name='Test.jpg'>\n",
            "<_io.BufferedReader name='Test.jpg'>\n",
            "<_io.BufferedReader name='Test.jpg'>\n",
            "<_io.BufferedReader name='Test.jpg'>\n",
            "<_io.BufferedReader name='Test.jpg'>\n",
            "<_io.BufferedReader name='Test.jpg'>\n",
            "<_io.BufferedReader name='Test.jpg'>\n",
            "<_io.BufferedReader name='Test.jpg'>\n",
            "<_io.BufferedReader name='Test.jpg'>\n",
            "<_io.BufferedReader name='Test.jpg'>\n",
            "<_io.BufferedReader name='Test.jpg'>\n",
            "<_io.BufferedReader name='Test.jpg'>\n",
            "<_io.BufferedReader name='Test.jpg'>\n",
            "<_io.BufferedReader name='Test.jpg'>\n",
            "<_io.BufferedReader name='Test.jpg'>\n",
            "<_io.BufferedReader name='Test.jpg'>\n",
            "<_io.BufferedReader name='Test.jpg'>\n",
            "<_io.BufferedReader name='Test.jpg'>\n",
            "<_io.BufferedReader name='Test.jpg'>\n",
            "<_io.BufferedReader name='Test.jpg'>\n",
            "<_io.BufferedReader name='Test.jpg'>\n",
            "<_io.BufferedReader name='Test.jpg'>\n",
            "<_io.BufferedReader name='Test.jpg'>\n",
            "<_io.BufferedReader name='Test.jpg'>\n",
            "<_io.BufferedReader name='Test.jpg'>\n",
            "<_io.BufferedReader name='Test.jpg'>\n",
            "<_io.BufferedReader name='Test.jpg'>\n",
            "<_io.BufferedReader name='Test.jpg'>\n",
            "<_io.BufferedReader name='Test.jpg'>\n",
            "<_io.BufferedReader name='Test.jpg'>\n",
            "<_io.BufferedReader name='Test.jpg'>\n",
            "<_io.BufferedReader name='Test.jpg'>\n",
            "<_io.BufferedReader name='Test.jpg'>\n",
            "<_io.BufferedReader name='Test.jpg'>\n",
            "<_io.BufferedReader name='Test.jpg'>\n",
            "<_io.BufferedReader name='Test.jpg'>\n",
            "<_io.BufferedReader name='Test.jpg'>\n",
            "<_io.BufferedReader name='Test.jpg'>\n",
            "<_io.BufferedReader name='Test.jpg'>\n",
            "<_io.BufferedReader name='Test.jpg'>\n",
            "<_io.BufferedReader name='Test.jpg'>\n",
            "<_io.BufferedReader name='Test.jpg'>\n",
            "<_io.BufferedReader name='Test.jpg'>\n",
            "<_io.BufferedReader name='Test.jpg'>\n",
            "<_io.BufferedReader name='Test.jpg'>\n",
            "<_io.BufferedReader name='Test.jpg'>\n",
            "<_io.BufferedReader name='Test.jpg'>\n",
            "<_io.BufferedReader name='Test.jpg'>\n",
            "<_io.BufferedReader name='Test.jpg'>\n",
            "<_io.BufferedReader name='Test.jpg'>\n",
            "<_io.BufferedReader name='Test.jpg'>\n",
            "<_io.BufferedReader name='Test.jpg'>\n",
            "<_io.BufferedReader name='Test.jpg'>\n",
            "<_io.BufferedReader name='Test.jpg'>\n",
            "<_io.BufferedReader name='Test.jpg'>\n",
            "<_io.BufferedReader name='Test.jpg'>\n",
            "<_io.BufferedReader name='Test.jpg'>\n",
            "<_io.BufferedReader name='Test.jpg'>\n",
            "<_io.BufferedReader name='Test.jpg'>\n",
            "<_io.BufferedReader name='Test.jpg'>\n",
            "<_io.BufferedReader name='Test.jpg'>\n",
            "<_io.BufferedReader name='Test.jpg'>\n",
            "<_io.BufferedReader name='Test.jpg'>\n",
            "<_io.BufferedReader name='Test.jpg'>\n",
            "<_io.BufferedReader name='Test.jpg'>\n",
            "<_io.BufferedReader name='Test.jpg'>\n",
            "<_io.BufferedReader name='Test.jpg'>\n",
            "<_io.BufferedReader name='Test.jpg'>\n",
            "<_io.BufferedReader name='Test.jpg'>\n",
            "<_io.BufferedReader name='Test.jpg'>\n",
            "<_io.BufferedReader name='Test.jpg'>\n",
            "<_io.BufferedReader name='Test.jpg'>\n",
            "<_io.BufferedReader name='Test.jpg'>\n",
            "<_io.BufferedReader name='Test.jpg'>\n",
            "<_io.BufferedReader name='Test.jpg'>\n",
            "<_io.BufferedReader name='Test.jpg'>\n",
            "<_io.BufferedReader name='Test.jpg'>\n",
            "<_io.BufferedReader name='Test.jpg'>\n",
            "<_io.BufferedReader name='Test.jpg'>\n",
            "<_io.BufferedReader name='Test.jpg'>\n",
            "<_io.BufferedReader name='Test.jpg'>\n",
            "<_io.BufferedReader name='Test.jpg'>\n",
            "<_io.BufferedReader name='Test.jpg'>\n",
            "<_io.BufferedReader name='Test.jpg'>\n",
            "<_io.BufferedReader name='Test.jpg'>\n",
            "<_io.BufferedReader name='Test.jpg'>\n",
            "<_io.BufferedReader name='Test.jpg'>\n",
            "<_io.BufferedReader name='Test.jpg'>\n",
            "<_io.BufferedReader name='Test.jpg'>\n",
            "<_io.BufferedReader name='Test.jpg'>\n",
            "<_io.BufferedReader name='Test.jpg'>\n",
            "<_io.BufferedReader name='Test.jpg'>\n",
            "<_io.BufferedReader name='Test.jpg'>\n",
            "<_io.BufferedReader name='Test.jpg'>\n",
            "<_io.BufferedReader name='Test.jpg'>\n",
            "<_io.BufferedReader name='Test.jpg'>\n",
            "<_io.BufferedReader name='Test.jpg'>\n",
            "<_io.BufferedReader name='Test.jpg'>\n",
            "<_io.BufferedReader name='Test.jpg'>\n",
            "<_io.BufferedReader name='Test.jpg'>\n",
            "<_io.BufferedReader name='Test.jpg'>\n",
            "<_io.BufferedReader name='Test.jpg'>\n",
            "<_io.BufferedReader name='Test.jpg'>\n",
            "<_io.BufferedReader name='Test.jpg'>\n",
            "<_io.BufferedReader name='Test.jpg'>\n",
            "<_io.BufferedReader name='Test.jpg'>\n",
            "<_io.BufferedReader name='Test.jpg'>\n",
            "<_io.BufferedReader name='Test.jpg'>\n",
            "<_io.BufferedReader name='Test.jpg'>\n",
            "<_io.BufferedReader name='Test.jpg'>\n",
            "<_io.BufferedReader name='Test.jpg'>\n",
            "<_io.BufferedReader name='Test.jpg'>\n",
            "<_io.BufferedReader name='Test.jpg'>\n",
            "<_io.BufferedReader name='Test.jpg'>\n",
            "<_io.BufferedReader name='Test.jpg'>\n",
            "<_io.BufferedReader name='Test.jpg'>\n",
            "<_io.BufferedReader name='Test.jpg'>\n",
            "<_io.BufferedReader name='Test.jpg'>\n",
            "<_io.BufferedReader name='Test.jpg'>\n",
            "<_io.BufferedReader name='Test.jpg'>\n",
            "<_io.BufferedReader name='Test.jpg'>\n",
            "<_io.BufferedReader name='Test.jpg'>\n",
            "<_io.BufferedReader name='Test.jpg'>\n",
            "<_io.BufferedReader name='Test.jpg'>\n",
            "<_io.BufferedReader name='Test.jpg'>\n",
            "<_io.BufferedReader name='Test.jpg'>\n",
            "<_io.BufferedReader name='Test.jpg'>\n",
            "<_io.BufferedReader name='Test.jpg'>\n",
            "<_io.BufferedReader name='Test.jpg'>\n",
            "<_io.BufferedReader name='Test.jpg'>\n",
            "<_io.BufferedReader name='Test.jpg'>\n",
            "<_io.BufferedReader name='Test.jpg'>\n",
            "<_io.BufferedReader name='Test.jpg'>\n",
            "<_io.BufferedReader name='Test.jpg'>\n",
            "<_io.BufferedReader name='Test.jpg'>\n",
            "<_io.BufferedReader name='Test.jpg'>\n",
            "<_io.BufferedReader name='Test.jpg'>\n",
            "<_io.BufferedReader name='Test.jpg'>\n",
            "<_io.BufferedReader name='Test.jpg'>\n",
            "<_io.BufferedReader name='Test.jpg'>\n",
            "<_io.BufferedReader name='Test.jpg'>\n",
            "<_io.BufferedReader name='Test.jpg'>\n",
            "<_io.BufferedReader name='Test.jpg'>\n",
            "<_io.BufferedReader name='Test.jpg'>\n",
            "<_io.BufferedReader name='Test.jpg'>\n",
            "<_io.BufferedReader name='Test.jpg'>\n",
            "<_io.BufferedReader name='Test.jpg'>\n",
            "<_io.BufferedReader name='Test.jpg'>\n",
            "<_io.BufferedReader name='Test.jpg'>\n",
            "<_io.BufferedReader name='Test.jpg'>\n",
            "<_io.BufferedReader name='Test.jpg'>\n",
            "<_io.BufferedReader name='Test.jpg'>\n",
            "<_io.BufferedReader name='Test.jpg'>\n",
            "<_io.BufferedReader name='Test.jpg'>\n",
            "<_io.BufferedReader name='Test.jpg'>\n",
            "<_io.BufferedReader name='Test.jpg'>\n",
            "<_io.BufferedReader name='Test.jpg'>\n"
          ]
        }
      ],
      "source": [
        "f = open(\"Test.jpg\", \"rb\")\n",
        "\n",
        "for data in f:\n",
        "  print(f)"
      ]
    },
    {
      "cell_type": "code",
      "execution_count": 6,
      "metadata": {
        "id": "qymqH6QjYGYN"
      },
      "outputs": [],
      "source": [
        "f = open(\"Test.jpg\", \"rb\")\n",
        "\n",
        "f1 = open(\"MyPic.jpg\", \"wb\")\n",
        "\n",
        "for data in f:\n",
        "  f1.write(data)"
      ]
    },
    {
      "cell_type": "markdown",
      "metadata": {
        "id": "cKWKdDrWYYkK"
      },
      "source": [
        "66 - Comments"
      ]
    },
    {
      "cell_type": "code",
      "execution_count": 7,
      "metadata": {},
      "outputs": [
        {
          "name": "stdout",
          "output_type": "stream",
          "text": [
            "Hello, World!\n"
          ]
        }
      ],
      "source": [
        "# This is a simple program that prints \"Hello, World!\" on the screen\n",
        "print(\"Hello, World!\")\n"
      ]
    },
    {
      "cell_type": "markdown",
      "metadata": {
        "id": "cAVQXobPY6hp"
      },
      "source": [
        "67 - is Python Compiled or Interpreted Language?"
      ]
    },
    {
      "cell_type": "markdown",
      "metadata": {
        "id": "Bb6tQ6UyZcF5"
      },
      "source": [
        "68 - Linear Search using Python"
      ]
    },
    {
      "cell_type": "code",
      "execution_count": 21,
      "metadata": {
        "colab": {
          "base_uri": "https://localhost:8080/"
        },
        "id": "AKvBEAWcZfd_",
        "outputId": "4482160b-15c2-4f47-d4c2-283a452afc53"
      },
      "outputs": [
        {
          "name": "stdout",
          "output_type": "stream",
          "text": [
            "Found at 3\n"
          ]
        }
      ],
      "source": [
        "pos = -1\n",
        "\n",
        "def search(list, n):\n",
        "  i = 0\n",
        "\n",
        "  while i < len(list):\n",
        "    if list[i] == n:\n",
        "      globals()['pos'] = i\n",
        "      return True\n",
        "    i = i + 1\n",
        "\n",
        "  return False\n",
        "\n",
        "list = [5,4,6,9,8,1]\n",
        "n = 6\n",
        "\n",
        "if search(list, n):\n",
        "  print(\"Found at\", pos+1)\n",
        "else:\n",
        "  print(\"Not Found\")\n"
      ]
    },
    {
      "cell_type": "code",
      "execution_count": 22,
      "metadata": {
        "colab": {
          "base_uri": "https://localhost:8080/"
        },
        "id": "pt4_yr4JbqPJ",
        "outputId": "c2f1719a-c53a-45ed-b77a-70a5483cf7e5"
      },
      "outputs": [
        {
          "name": "stdout",
          "output_type": "stream",
          "text": [
            "Found at 3\n"
          ]
        }
      ],
      "source": [
        "pos = -1\n",
        "\n",
        "def search(list, n):\n",
        "  for i in range(len(list)):\n",
        "    if list[i] == n:\n",
        "      globals()['pos'] = i\n",
        "      return True\n",
        "  return False\n",
        "\n",
        "list = [5,4,6,9,8,1]\n",
        "n = 6\n",
        "\n",
        "if search(list, n):\n",
        "  print(\"Found at\", pos+1)\n",
        "else:\n",
        "  print(\"Not Found\")"
      ]
    },
    {
      "cell_type": "markdown",
      "metadata": {
        "id": "sLYvN0ZNbj0V"
      },
      "source": [
        "69 - Linear Search using Python"
      ]
    },
    {
      "cell_type": "code",
      "execution_count": 24,
      "metadata": {
        "colab": {
          "base_uri": "https://localhost:8080/"
        },
        "id": "WlK1UgH-b6Th",
        "outputId": "791f35fa-70a5-467b-ff7e-f5211730cafc"
      },
      "outputs": [
        {
          "name": "stdout",
          "output_type": "stream",
          "text": [
            "Found at 5\n"
          ]
        }
      ],
      "source": [
        "pos = -1\n",
        "\n",
        "def search(list, n):\n",
        "\n",
        "  l = 0\n",
        "  u = len(list) - 1\n",
        "\n",
        "  while l <= u:\n",
        "    mid = (l + u) // 2\n",
        "\n",
        "    if list[mid] == n:\n",
        "      globals()['pos'] = mid\n",
        "      return True\n",
        "    else:\n",
        "      if list[mid] < n:\n",
        "        l = mid + 1\n",
        "      else:\n",
        "        u = mid - 1\n",
        "\n",
        "  return False\n",
        "\n",
        "list = [4,7,8,12,45,99]\n",
        "n = 45\n",
        "\n",
        "if search(list, n):\n",
        "  print(\"Found at\", pos+1)\n",
        "else:\n",
        "  print(\"Not Found\")\n"
      ]
    },
    {
      "cell_type": "markdown",
      "metadata": {
        "id": "hgQrXczDeC_p"
      },
      "source": [
        "70 - Bubble Sort in python"
      ]
    },
    {
      "cell_type": "code",
      "execution_count": 27,
      "metadata": {
        "colab": {
          "base_uri": "https://localhost:8080/"
        },
        "id": "u1u4s0roeLIC",
        "outputId": "35d0b022-7643-42d8-8762-fb49e5f690f6"
      },
      "outputs": [
        {
          "name": "stdout",
          "output_type": "stream",
          "text": [
            "[1, 2, 5, 9, 34, 34, 67, 88]\n"
          ]
        }
      ],
      "source": [
        "def sort (nums):\n",
        "  for i in range(len(nums)-1,0,-1):\n",
        "    for j in range(i):\n",
        "      if nums[j] > nums[j+1]:\n",
        "        temp = nums[j]\n",
        "        nums[j] = nums[j+1]\n",
        "        nums[j+1] = temp\n",
        "\n",
        "nums = [5,9,2,1,67,34,88,34]\n",
        "sort(nums)\n",
        "print(nums)\n"
      ]
    },
    {
      "cell_type": "markdown",
      "metadata": {
        "id": "eIAOKKFuhehe"
      },
      "source": [
        "71 - Selection Sort using Python"
      ]
    },
    {
      "cell_type": "code",
      "execution_count": 32,
      "metadata": {
        "colab": {
          "base_uri": "https://localhost:8080/"
        },
        "id": "OSfEg8vThnZr",
        "outputId": "53ace6e1-035b-4da6-9158-3efbea6183a8"
      },
      "outputs": [
        {
          "name": "stdout",
          "output_type": "stream",
          "text": [
            "[1, 9, 2, 5, 3, 7]\n",
            "[1, 2, 9, 5, 3, 7]\n",
            "[1, 2, 3, 5, 9, 7]\n",
            "[1, 2, 3, 5, 9, 7]\n",
            "[1, 2, 3, 5, 7, 9]\n",
            "[1, 2, 3, 5, 7, 9]\n"
          ]
        }
      ],
      "source": [
        "def sort (nums):\n",
        "\n",
        "  for i in range(5):\n",
        "    minpos = i\n",
        "    for j in range(i,6):\n",
        "      if nums[j] < nums[minpos]:\n",
        "        minpos = j\n",
        "\n",
        "    temp = nums[i]\n",
        "    nums[i] = nums[minpos]\n",
        "    nums[minpos] = temp\n",
        "\n",
        "    print(nums)\n",
        "\n",
        "nums = [5,9,2,1,3,7]\n",
        "sort(nums)\n",
        "print(nums)\n"
      ]
    },
    {
      "cell_type": "markdown",
      "metadata": {
        "id": "sSJ8gAFNjmci"
      },
      "source": [
        "72 - Python Database Connection"
      ]
    },
    {
      "cell_type": "markdown",
      "metadata": {
        "id": "HVw_pEENovED"
      },
      "source": [
        "73 - Python Database Connection | MySQL"
      ]
    },
    {
      "cell_type": "code",
      "execution_count": 34,
      "metadata": {
        "colab": {
          "base_uri": "https://localhost:8080/"
        },
        "collapsed": true,
        "id": "988b0701",
        "outputId": "36c0b254-906b-445c-adac-f912bae997e4"
      },
      "outputs": [
        {
          "name": "stdout",
          "output_type": "stream",
          "text": [
            "Collecting mysql-connector-python\n",
            "  Downloading mysql_connector_python-9.3.0-cp311-cp311-manylinux_2_28_x86_64.whl.metadata (7.2 kB)\n",
            "Downloading mysql_connector_python-9.3.0-cp311-cp311-manylinux_2_28_x86_64.whl (33.9 MB)\n",
            "\u001b[2K   \u001b[90m━━━━━━━━━━━━━━━━━━━━━━━━━━━━━━━━━━━━━━━━\u001b[0m \u001b[32m33.9/33.9 MB\u001b[0m \u001b[31m54.1 MB/s\u001b[0m eta \u001b[36m0:00:00\u001b[0m\n",
            "\u001b[?25hInstalling collected packages: mysql-connector-python\n",
            "Successfully installed mysql-connector-python-9.3.0\n"
          ]
        }
      ],
      "source": [
        "!pip install mysql-connector-python"
      ]
    },
    {
      "cell_type": "code",
      "execution_count": 1,
      "metadata": {
        "id": "nmP-Ij0osXS0"
      },
      "outputs": [
        {
          "name": "stdout",
          "output_type": "stream",
          "text": [
            "<mysql.connector.connection_cext.CMySQLConnection object at 0x0000029BD9530440>\n"
          ]
        }
      ],
      "source": [
        "import mysql.connector\n",
        "\n",
        "mydb = mysql.connector.connect(host='localhost', user='root', password='0750')\n",
        "\n",
        "print(mydb)"
      ]
    },
    {
      "cell_type": "code",
      "execution_count": 3,
      "metadata": {
        "id": "0KbLpwQewmnc"
      },
      "outputs": [
        {
          "name": "stdout",
          "output_type": "stream",
          "text": [
            "('information_schema',)\n",
            "('mukul',)\n",
            "('mysql',)\n",
            "('performance_schema',)\n",
            "('sakila',)\n",
            "('sys',)\n",
            "('world',)\n"
          ]
        }
      ],
      "source": [
        "import mysql.connector\n",
        "\n",
        "mydb = mysql.connector.connect(host='localhost', user='root', password='0750')\n",
        "\n",
        "mycursor = mydb.cursor()\n",
        "\n",
        "mycursor.execute(\"show databases\")\n",
        "\n",
        "for x in mycursor:\n",
        "  print(x)"
      ]
    },
    {
      "cell_type": "markdown",
      "metadata": {},
      "source": [
        "Execute SELECT query"
      ]
    },
    {
      "cell_type": "code",
      "execution_count": null,
      "metadata": {},
      "outputs": [
        {
          "name": "stdout",
          "output_type": "stream",
          "text": [
            "('mukul', 'rmlau')\n",
            "('shubham', 'rmlau')\n"
          ]
        }
      ],
      "source": [
        "import mysql.connector\n",
        "\n",
        "mydb = mysql.connector.connect(host='localhost', user='root', password='0750',database='mukul')\n",
        "\n",
        "mycursor = mydb.cursor()\n",
        "\n",
        "# SELECT\n",
        "mycursor.execute(\"select * from student\")\n",
        "\n",
        "for x in mycursor:\n",
        "  print(x)"
      ]
    },
    {
      "cell_type": "code",
      "execution_count": 6,
      "metadata": {},
      "outputs": [
        {
          "name": "stdout",
          "output_type": "stream",
          "text": [
            "mukul\n",
            "rmlau\n"
          ]
        }
      ],
      "source": [
        "import mysql.connector\n",
        "\n",
        "mydb = mysql.connector.connect(host='localhost', user='root', password='0750',database='mukul')\n",
        "\n",
        "mycursor = mydb.cursor()\n",
        "\n",
        "mycursor.execute(\"select * from student\")\n",
        "\n",
        "result = mycursor.fetchone()\n",
        "\n",
        "for x in result:\n",
        "  print(x)"
      ]
    },
    {
      "cell_type": "markdown",
      "metadata": {},
      "source": [
        "Execute INSERT query"
      ]
    },
    {
      "cell_type": "code",
      "execution_count": 31,
      "metadata": {},
      "outputs": [
        {
          "name": "stdout",
          "output_type": "stream",
          "text": [
            "1 row inserted.\n",
            "('mukul', 'rmlau')\n",
            "('shubham', 'rmlau')\n",
            "('akshat', 'rmlau')\n"
          ]
        }
      ],
      "source": [
        "import mysql.connector\n",
        "\n",
        "mydb = mysql.connector.connect(host='localhost', user='root', password='0750',database='mukul')\n",
        "\n",
        "mycursor = mydb.cursor()\n",
        "\n",
        "# SELECT\n",
        "mycursor.execute(\"select * from student\")\n",
        "result = mycursor.fetchall()\n",
        "\n",
        "# INSERT\n",
        "mycursor.execute(\"INSERT INTO student (name, college) VALUES ('akshat', 'rmlau')\")\n",
        "mydb.commit()\n",
        "print(\"1 row inserted.\")\n",
        "\n",
        "for x in result:\n",
        "  print(x)"
      ]
    },
    {
      "cell_type": "markdown",
      "metadata": {},
      "source": [
        "Execute DELETE query"
      ]
    },
    {
      "cell_type": "code",
      "execution_count": 32,
      "metadata": {},
      "outputs": [
        {
          "name": "stdout",
          "output_type": "stream",
          "text": [
            "---- Deleted Row(s) ----\n",
            "('akshat', 'rmlau')\n",
            "('akshat', 'rmlau')\n"
          ]
        }
      ],
      "source": [
        "import mysql.connector\n",
        "\n",
        "mydb = mysql.connector.connect(host='localhost', user='root', password='0750', database='mukul')\n",
        "mycursor = mydb.cursor()\n",
        "\n",
        "# SELECT\n",
        "mycursor.execute(\"SELECT * FROM student WHERE name = 'akshat'\")\n",
        "deleted_data = mycursor.fetchall()\n",
        "\n",
        "# DELETE the row\n",
        "mycursor.execute(\"DELETE FROM student WHERE name = 'akshat'\")\n",
        "mydb.commit()\n",
        "\n",
        "# Print deleted row(s)\n",
        "print(\"---- Deleted Row(s) ----\")\n",
        "for row in deleted_data:\n",
        "    print(row)\n"
      ]
    },
    {
      "cell_type": "markdown",
      "metadata": {},
      "source": [
        "Execute ALTER query - add a new column 'age'"
      ]
    },
    {
      "cell_type": "code",
      "execution_count": 18,
      "metadata": {},
      "outputs": [
        {
          "name": "stdout",
          "output_type": "stream",
          "text": [
            "Column 'age' added.\n",
            "---- COLUMNS ----\n",
            "['name', 'college', 'age']\n"
          ]
        }
      ],
      "source": [
        "\n",
        "import mysql.connector\n",
        "\n",
        "mydb = mysql.connector.connect(host='localhost', user='root', password='0750',database='mukul')\n",
        "\n",
        "mycursor = mydb.cursor()\n",
        "\n",
        "\n",
        "# ALTER (add a new column 'age')\n",
        "try:\n",
        "    mycursor.execute(\"ALTER TABLE student ADD COLUMN age INT\")\n",
        "    print(\"Column 'age' added.\")\n",
        "except:\n",
        "    print(\"Column might already exist, skipping.\")\n",
        "\n",
        "mycursor.execute(\"SELECT * FROM student\")\n",
        "    \n",
        "columns = [desc[0] for desc in mycursor.description]\n",
        "print(\"---- COLUMNS ----\")\n",
        "print(columns)\n"
      ]
    },
    {
      "cell_type": "markdown",
      "metadata": {},
      "source": [
        "74 - Git | PyCharm | GitHub"
      ]
    },
    {
      "cell_type": "markdown",
      "metadata": {},
      "source": [
        "75 - Python GitHub Code Contribution"
      ]
    }
  ],
  "metadata": {
    "colab": {
      "provenance": []
    },
    "kernelspec": {
      "display_name": "Python 3",
      "name": "python3"
    },
    "language_info": {
      "codemirror_mode": {
        "name": "ipython",
        "version": 3
      },
      "file_extension": ".py",
      "mimetype": "text/x-python",
      "name": "python",
      "nbconvert_exporter": "python",
      "pygments_lexer": "ipython3",
      "version": "3.12.0"
    }
  },
  "nbformat": 4,
  "nbformat_minor": 0
}
